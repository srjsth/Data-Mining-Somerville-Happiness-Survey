{
 "cells": [
  {
   "cell_type": "markdown",
   "metadata": {
    "id": "XGxDAFC1PS4g"
   },
   "source": [
    "# Somerville Happiness Survey response"
   ]
  },
  {
   "cell_type": "markdown",
   "metadata": {
    "id": "3q6jKi-hJJ6h"
   },
   "source": [
    "#### We filtered the data in order to balanced out our classes "
   ]
  },
  {
   "cell_type": "code",
   "execution_count": null,
   "metadata": {
    "id": "ZIw2adMhr0Jf"
   },
   "outputs": [],
   "source": [
    "import warnings\n",
    "warnings.filterwarnings(\"ignore\", category=RuntimeWarning) \n",
    "from sklearn.neighbors import KNeighborsClassifier\n",
    "from sklearn.metrics import classification_report, confusion_matrix\n",
    "from sklearn.metrics import precision_recall_fscore_support as score\n",
    "from sklearn.preprocessing import StandardScaler\n",
    "import seaborn as sns\n",
    "import pandas as pd\n",
    "import numpy as np\n",
    "from sklearn.metrics import roc_auc_score\n",
    "from sklearn.metrics import matthews_corrcoef"
   ]
  },
  {
   "cell_type": "code",
   "execution_count": null,
   "metadata": {
    "colab": {
     "base_uri": "https://localhost:8080/"
    },
    "executionInfo": {
     "elapsed": 445,
     "status": "ok",
     "timestamp": 1649086945727,
     "user": {
      "displayName": "Sumit Dhaundiyal",
      "userId": "04065090477156492336"
     },
     "user_tz": 240
    },
    "id": "c-_zqJAcFAjT",
    "outputId": "2c3c2a24-ede8-4bca-87e2-f0789fc6b52e"
   },
   "outputs": [
    {
     "data": {
      "text/plain": [
       "(8886, 29)"
      ]
     },
     "execution_count": 4,
     "metadata": {},
     "output_type": "execute_result"
    }
   ],
   "source": [
    "df_all=pd.read_csv('/content/Somerville_Happiness_Survey_ResponsesAll_final.csv')\n",
    "df_all=df_all[[ 'Combined_ID', 'Year', 'How.happy.do.you.feel.right.now',\n",
    "       'How.satisfied.are.you.with.your.life.in.general',\n",
    "       'How.satisfied.are.you.with.Somerville.as.a.place.to.live',\n",
    "       'How.satisfied.are.you.with.your.neighborhood',\n",
    "       'How.proud.are.you.to.be.a.Somerville.resident',\n",
    "       'How.would.you.rate.the.following..The.availability.of.information.about.city.services',\n",
    "       'How.would.you.rate.the.following..The.cost.of.housing',\n",
    "       'How.would.you.rate.the.following..The.overall.quality.of.public.schools',\n",
    "       'How.would.you.rate.the.following..Your.trust.in.the.local.police',\n",
    "       'How.would.you.rate.the.following..The.maintenance.of.streets.and.sidewalks',\n",
    "       'How.would.you.rate.the.following..The.availability.of.social.community.events',\n",
    "       'How.safe.do.you.feel.walking.in.your.neighborhood.at.night',\n",
    "       'How.satisfied.are.you.with.the.beauty.or.physical.setting.of.your.neighborhood',\n",
    "       'How.satisfied.are.you.with.the.appearance.of.parks.and.squares.in.your.neighborhood',\n",
    "       'What.is.your.gender', 'Age', 'What.is.your.race.or.ethnicity',\n",
    "       'Do.you.have.children.age.18.or.younger.who.live.with.you',\n",
    "       'Describe.your.housing.status.in.Somerville',\n",
    "       'Do.you.plan.to.move.away.from.Somerville.in.the.next.two.years',\n",
    "       'How.long.have.you.lived.here', 'What.is.your.annual.household.income',\n",
    "       'Are.you.a.student', 'How.anxious.did.you.feel.yesterday',\n",
    "       'How.satisfied.are.you.with.the.quality.and.number.of.transportation.options.available.to.you',\n",
    "       'Language', 'What.languages.do.you.speak.at.home']]\n",
    "#df_all=df_all.dropna(thresh=15)\n",
    "df_all.shape\n",
    "#df_all.to_csv('all_data.csv')"
   ]
  },
  {
   "cell_type": "code",
   "execution_count": null,
   "metadata": {
    "colab": {
     "base_uri": "https://localhost:8080/"
    },
    "executionInfo": {
     "elapsed": 27,
     "status": "ok",
     "timestamp": 1649086945727,
     "user": {
      "displayName": "Sumit Dhaundiyal",
      "userId": "04065090477156492336"
     },
     "user_tz": 240
    },
    "id": "WwByPfJSIlco",
    "outputId": "a4e6e27d-adc5-4d26-8314-d0ac04ff80b2"
   },
   "outputs": [
    {
     "data": {
      "text/plain": [
       "0    8175\n",
       "1     711\n",
       "Name: Class, dtype: int64"
      ]
     },
     "execution_count": 5,
     "metadata": {},
     "output_type": "execute_result"
    }
   ],
   "source": [
    "# Converting 'How.happy.do.you.feel.right.now' column into numeric \n",
    "# COnsidering 0 as happy and 1 as unhappy\n",
    "df_all['Class'] = 0\n",
    "df_all.loc[df_all['How.happy.do.you.feel.right.now'] < 5, 'Class'] = 1\n",
    "df_all['Class'].value_counts()"
   ]
  },
  {
   "cell_type": "code",
   "execution_count": null,
   "metadata": {
    "colab": {
     "base_uri": "https://localhost:8080/"
    },
    "executionInfo": {
     "elapsed": 23,
     "status": "ok",
     "timestamp": 1649086945727,
     "user": {
      "displayName": "Sumit Dhaundiyal",
      "userId": "04065090477156492336"
     },
     "user_tz": 240
    },
    "id": "QC1v_zk3G9xw",
    "outputId": "100eb467-fc59-40a8-a248-a3be8689797c"
   },
   "outputs": [
    {
     "data": {
      "text/plain": [
       "(698, 30)"
      ]
     },
     "execution_count": 6,
     "metadata": {},
     "output_type": "execute_result"
    }
   ],
   "source": [
    "df_all_unhappy=df_all[df_all['Class']==1]\n",
    "df_all_Happy=df_all[df_all['Class']==0]\n",
    "df_all_Happy=df_all_Happy.dropna(thresh=28)\n",
    "df_all_Happy.shape"
   ]
  },
  {
   "cell_type": "code",
   "execution_count": null,
   "metadata": {
    "colab": {
     "base_uri": "https://localhost:8080/"
    },
    "executionInfo": {
     "elapsed": 20,
     "status": "ok",
     "timestamp": 1649086945728,
     "user": {
      "displayName": "Sumit Dhaundiyal",
      "userId": "04065090477156492336"
     },
     "user_tz": 240
    },
    "id": "etNaNbcuGaSg",
    "outputId": "c24bc755-8419-4a62-f1a6-bf4ef8552eb0"
   },
   "outputs": [
    {
     "data": {
      "text/plain": [
       "1    711\n",
       "0    698\n",
       "Name: Class, dtype: int64"
      ]
     },
     "execution_count": 7,
     "metadata": {},
     "output_type": "execute_result"
    }
   ],
   "source": [
    "frames = [df_all_Happy,df_all_unhappy]\n",
    "Somerville_happiness = pd.concat(frames)\n",
    "Somerville_happiness['Class'].value_counts()"
   ]
  },
  {
   "cell_type": "code",
   "execution_count": null,
   "metadata": {
    "colab": {
     "base_uri": "https://localhost:8080/"
    },
    "executionInfo": {
     "elapsed": 16,
     "status": "ok",
     "timestamp": 1649086945728,
     "user": {
      "displayName": "Sumit Dhaundiyal",
      "userId": "04065090477156492336"
     },
     "user_tz": 240
    },
    "id": "GXjPujjMGGu6",
    "outputId": "c6c81a82-5632-41d6-feda-f6adce14482b"
   },
   "outputs": [
    {
     "name": "stdout",
     "output_type": "stream",
     "text": [
      "Index(['Combined_ID', 'Year', 'How.happy.do.you.feel.right.now',\n",
      "       'How.satisfied.are.you.with.your.life.in.general',\n",
      "       'How.satisfied.are.you.with.Somerville.as.a.place.to.live',\n",
      "       'How.satisfied.are.you.with.your.neighborhood',\n",
      "       'How.proud.are.you.to.be.a.Somerville.resident',\n",
      "       'How.would.you.rate.the.following..The.availability.of.information.about.city.services',\n",
      "       'How.would.you.rate.the.following..The.cost.of.housing',\n",
      "       'How.would.you.rate.the.following..The.overall.quality.of.public.schools',\n",
      "       'How.would.you.rate.the.following..Your.trust.in.the.local.police',\n",
      "       'How.would.you.rate.the.following..The.maintenance.of.streets.and.sidewalks',\n",
      "       'How.would.you.rate.the.following..The.availability.of.social.community.events',\n",
      "       'How.safe.do.you.feel.walking.in.your.neighborhood.at.night',\n",
      "       'How.satisfied.are.you.with.the.beauty.or.physical.setting.of.your.neighborhood',\n",
      "       'How.satisfied.are.you.with.the.appearance.of.parks.and.squares.in.your.neighborhood',\n",
      "       'What.is.your.gender', 'Age', 'What.is.your.race.or.ethnicity',\n",
      "       'Do.you.have.children.age.18.or.younger.who.live.with.you',\n",
      "       'Describe.your.housing.status.in.Somerville',\n",
      "       'Do.you.plan.to.move.away.from.Somerville.in.the.next.two.years',\n",
      "       'How.long.have.you.lived.here', 'What.is.your.annual.household.income',\n",
      "       'Are.you.a.student', 'How.anxious.did.you.feel.yesterday',\n",
      "       'How.satisfied.are.you.with.the.quality.and.number.of.transportation.options.available.to.you',\n",
      "       'Language', 'What.languages.do.you.speak.at.home', 'Class'],\n",
      "      dtype='object')\n"
     ]
    }
   ],
   "source": [
    "print(Somerville_happiness.columns)"
   ]
  },
  {
   "cell_type": "code",
   "execution_count": null,
   "metadata": {
    "colab": {
     "base_uri": "https://localhost:8080/"
    },
    "executionInfo": {
     "elapsed": 12,
     "status": "ok",
     "timestamp": 1649086945728,
     "user": {
      "displayName": "Sumit Dhaundiyal",
      "userId": "04065090477156492336"
     },
     "user_tz": 240
    },
    "id": "EtcaZiKbW2yA",
    "outputId": "7e1b9c43-de0a-44a3-906e-991c29c19886"
   },
   "outputs": [
    {
     "data": {
      "text/plain": [
       "Combined_ID                                                                                     float64\n",
       "Year                                                                                              int64\n",
       "How.happy.do.you.feel.right.now                                                                 float64\n",
       "How.satisfied.are.you.with.your.life.in.general                                                 float64\n",
       "How.satisfied.are.you.with.Somerville.as.a.place.to.live                                        float64\n",
       "How.satisfied.are.you.with.your.neighborhood                                                    float64\n",
       "How.proud.are.you.to.be.a.Somerville.resident                                                   float64\n",
       "How.would.you.rate.the.following..The.availability.of.information.about.city.services           float64\n",
       "How.would.you.rate.the.following..The.cost.of.housing                                           float64\n",
       "How.would.you.rate.the.following..The.overall.quality.of.public.schools                         float64\n",
       "How.would.you.rate.the.following..Your.trust.in.the.local.police                                float64\n",
       "How.would.you.rate.the.following..The.maintenance.of.streets.and.sidewalks                      float64\n",
       "How.would.you.rate.the.following..The.availability.of.social.community.events                   float64\n",
       "How.safe.do.you.feel.walking.in.your.neighborhood.at.night                                      float64\n",
       "How.satisfied.are.you.with.the.beauty.or.physical.setting.of.your.neighborhood                  float64\n",
       "How.satisfied.are.you.with.the.appearance.of.parks.and.squares.in.your.neighborhood             float64\n",
       "What.is.your.gender                                                                              object\n",
       "Age                                                                                              object\n",
       "What.is.your.race.or.ethnicity                                                                   object\n",
       "Do.you.have.children.age.18.or.younger.who.live.with.you                                         object\n",
       "Describe.your.housing.status.in.Somerville                                                       object\n",
       "Do.you.plan.to.move.away.from.Somerville.in.the.next.two.years                                   object\n",
       "How.long.have.you.lived.here                                                                     object\n",
       "What.is.your.annual.household.income                                                             object\n",
       "Are.you.a.student                                                                                object\n",
       "How.anxious.did.you.feel.yesterday                                                              float64\n",
       "How.satisfied.are.you.with.the.quality.and.number.of.transportation.options.available.to.you    float64\n",
       "Language                                                                                         object\n",
       "What.languages.do.you.speak.at.home                                                              object\n",
       "Class                                                                                             int64\n",
       "dtype: object"
      ]
     },
     "execution_count": 9,
     "metadata": {},
     "output_type": "execute_result"
    }
   ],
   "source": [
    "Somerville_happiness.dtypes"
   ]
  },
  {
   "cell_type": "code",
   "execution_count": null,
   "metadata": {
    "colab": {
     "base_uri": "https://localhost:8080/"
    },
    "executionInfo": {
     "elapsed": 8,
     "status": "ok",
     "timestamp": 1649086945728,
     "user": {
      "displayName": "Sumit Dhaundiyal",
      "userId": "04065090477156492336"
     },
     "user_tz": 240
    },
    "id": "Irs1miWjPySk",
    "outputId": "9f7e5085-bcd1-40e8-8f69-3daa7f4389b6"
   },
   "outputs": [
    {
     "data": {
      "text/plain": [
       "Combined_ID                                                                                       0\n",
       "Year                                                                                              0\n",
       "How.happy.do.you.feel.right.now                                                                   0\n",
       "How.satisfied.are.you.with.your.life.in.general                                                   7\n",
       "How.satisfied.are.you.with.Somerville.as.a.place.to.live                                         33\n",
       "How.satisfied.are.you.with.your.neighborhood                                                    510\n",
       "How.proud.are.you.to.be.a.Somerville.resident                                                   648\n",
       "How.would.you.rate.the.following..The.availability.of.information.about.city.services           529\n",
       "How.would.you.rate.the.following..The.cost.of.housing                                           514\n",
       "How.would.you.rate.the.following..The.overall.quality.of.public.schools                         692\n",
       "How.would.you.rate.the.following..Your.trust.in.the.local.police                                541\n",
       "How.would.you.rate.the.following..The.maintenance.of.streets.and.sidewalks                      525\n",
       "How.would.you.rate.the.following..The.availability.of.social.community.events                   521\n",
       "How.safe.do.you.feel.walking.in.your.neighborhood.at.night                                      522\n",
       "How.satisfied.are.you.with.the.beauty.or.physical.setting.of.your.neighborhood                  521\n",
       "How.satisfied.are.you.with.the.appearance.of.parks.and.squares.in.your.neighborhood             527\n",
       "What.is.your.gender                                                                             538\n",
       "Age                                                                                             525\n",
       "What.is.your.race.or.ethnicity                                                                  562\n",
       "Do.you.have.children.age.18.or.younger.who.live.with.you                                        518\n",
       "Describe.your.housing.status.in.Somerville                                                      540\n",
       "Do.you.plan.to.move.away.from.Somerville.in.the.next.two.years                                  553\n",
       "How.long.have.you.lived.here                                                                    539\n",
       "What.is.your.annual.household.income                                                            590\n",
       "Are.you.a.student                                                                               569\n",
       "How.anxious.did.you.feel.yesterday                                                              653\n",
       "How.satisfied.are.you.with.the.quality.and.number.of.transportation.options.available.to.you    656\n",
       "Language                                                                                        588\n",
       "What.languages.do.you.speak.at.home                                                             704\n",
       "Class                                                                                             0\n",
       "dtype: int64"
      ]
     },
     "execution_count": 10,
     "metadata": {},
     "output_type": "execute_result"
    }
   ],
   "source": [
    "Somerville_happiness.isna().sum()"
   ]
  },
  {
   "cell_type": "markdown",
   "metadata": {
    "id": "LnvSMIsFQE01"
   },
   "source": [
    "### some columns contains null values\n",
    "### Our class attribute is 'How.happy.do.you.feel.right.now'\n",
    "\n",
    "# Preprocessing steps :\n",
    "1. There are some rows where value is null hence we will replace those values with mean value of the entire column\n",
    "2. For classification purpose we are considering the resident with 5 and above rating in the column 'How.happy.do.you.feel.right.now' as happy resident and unhappy otherwise \n",
    "3. Convert categorical to numeric data \n",
    "4. Some rows like 'How.long.have.you.lived.here' and\t'What.is.your.annual.household.income' needs preprocessing (remove unwanted special characters)\n",
    "5. Row containing gender contains many redundant values"
   ]
  },
  {
   "cell_type": "markdown",
   "metadata": {
    "id": "EPuPB8fgaw_e"
   },
   "source": [
    "## Replaced null values with mean values of the column"
   ]
  },
  {
   "cell_type": "code",
   "execution_count": null,
   "metadata": {
    "colab": {
     "base_uri": "https://localhost:8080/"
    },
    "executionInfo": {
     "elapsed": 188,
     "status": "ok",
     "timestamp": 1649086945911,
     "user": {
      "displayName": "Sumit Dhaundiyal",
      "userId": "04065090477156492336"
     },
     "user_tz": 240
    },
    "id": "xr_LGP4lWcWD",
    "outputId": "4f0861f9-7675-401c-8749-790c931ea44e"
   },
   "outputs": [
    {
     "name": "stderr",
     "output_type": "stream",
     "text": [
      "/usr/local/lib/python3.7/dist-packages/ipykernel_launcher.py:15: SettingWithCopyWarning: \n",
      "A value is trying to be set on a copy of a slice from a DataFrame.\n",
      "Try using .loc[row_indexer,col_indexer] = value instead\n",
      "\n",
      "See the caveats in the documentation: https://pandas.pydata.org/pandas-docs/stable/user_guide/indexing.html#returning-a-view-versus-a-copy\n",
      "  from ipykernel import kernelapp as app\n",
      "/usr/local/lib/python3.7/dist-packages/ipykernel_launcher.py:16: SettingWithCopyWarning: \n",
      "A value is trying to be set on a copy of a slice from a DataFrame.\n",
      "Try using .loc[row_indexer,col_indexer] = value instead\n",
      "\n",
      "See the caveats in the documentation: https://pandas.pydata.org/pandas-docs/stable/user_guide/indexing.html#returning-a-view-versus-a-copy\n",
      "  app.launch_new_instance()\n",
      "/usr/local/lib/python3.7/dist-packages/ipykernel_launcher.py:18: SettingWithCopyWarning: \n",
      "A value is trying to be set on a copy of a slice from a DataFrame.\n",
      "Try using .loc[row_indexer,col_indexer] = value instead\n",
      "\n",
      "See the caveats in the documentation: https://pandas.pydata.org/pandas-docs/stable/user_guide/indexing.html#returning-a-view-versus-a-copy\n",
      "/usr/local/lib/python3.7/dist-packages/ipykernel_launcher.py:19: SettingWithCopyWarning: \n",
      "A value is trying to be set on a copy of a slice from a DataFrame.\n",
      "Try using .loc[row_indexer,col_indexer] = value instead\n",
      "\n",
      "See the caveats in the documentation: https://pandas.pydata.org/pandas-docs/stable/user_guide/indexing.html#returning-a-view-versus-a-copy\n"
     ]
    },
    {
     "data": {
      "text/plain": [
       "1    711\n",
       "0    698\n",
       "Name: Class, dtype: int64"
      ]
     },
     "execution_count": 11,
     "metadata": {},
     "output_type": "execute_result"
    }
   ],
   "source": [
    "Allcolumns=Somerville_happiness.columns\n",
    "Allcolumns=Allcolumns[3:]\n",
    "string_columns=Allcolumns[13:23]\n",
    "string_columns = list(string_columns.values)\n",
    "string_columns.append('What.languages.do.you.speak.at.home')\n",
    "string_columns.append('Language')\n",
    "Allcolumns=list(Allcolumns.values)\n",
    "del Allcolumns[13:23]\n",
    "del Allcolumns[-1]\n",
    "del Allcolumns[-1]\n",
    "del Allcolumns[-1]\n",
    "Happy_df=Somerville_happiness[Somerville_happiness['Class']==0]\n",
    "Unhappy_df=Somerville_happiness[Somerville_happiness['Class']==1]\n",
    "for i in Allcolumns:\n",
    "  Happy_df[i]=Happy_df[i].fillna(Happy_df[i].mean())\n",
    "  Unhappy_df[i]=Unhappy_df[i].fillna(Unhappy_df[i].mean())\n",
    "for i in string_columns:\n",
    "  Happy_df[i]=Happy_df[i].fillna(Happy_df[i].agg(lambda x: x.mode().values[0]))\n",
    "  Unhappy_df[i]=Unhappy_df[i].fillna(Unhappy_df[i].agg(lambda x: x.mode().values[0]))\n",
    "frames = [Happy_df,Unhappy_df]\n",
    "Somerville_happiness = pd.concat(frames)\n",
    "Somerville_happiness['Class'].value_counts()  "
   ]
  },
  {
   "cell_type": "code",
   "execution_count": null,
   "metadata": {
    "colab": {
     "base_uri": "https://localhost:8080/"
    },
    "executionInfo": {
     "elapsed": 13,
     "status": "ok",
     "timestamp": 1649086945912,
     "user": {
      "displayName": "Sumit Dhaundiyal",
      "userId": "04065090477156492336"
     },
     "user_tz": 240
    },
    "id": "_OcUP9UYWJYu",
    "outputId": "27bd41c5-54f6-437a-ff62-30fabf786787"
   },
   "outputs": [
    {
     "data": {
      "text/plain": [
       "Combined_ID                                                                                     0\n",
       "Year                                                                                            0\n",
       "How.happy.do.you.feel.right.now                                                                 0\n",
       "How.satisfied.are.you.with.your.life.in.general                                                 0\n",
       "How.satisfied.are.you.with.Somerville.as.a.place.to.live                                        0\n",
       "How.satisfied.are.you.with.your.neighborhood                                                    0\n",
       "How.proud.are.you.to.be.a.Somerville.resident                                                   0\n",
       "How.would.you.rate.the.following..The.availability.of.information.about.city.services           0\n",
       "How.would.you.rate.the.following..The.cost.of.housing                                           0\n",
       "How.would.you.rate.the.following..The.overall.quality.of.public.schools                         0\n",
       "How.would.you.rate.the.following..Your.trust.in.the.local.police                                0\n",
       "How.would.you.rate.the.following..The.maintenance.of.streets.and.sidewalks                      0\n",
       "How.would.you.rate.the.following..The.availability.of.social.community.events                   0\n",
       "How.safe.do.you.feel.walking.in.your.neighborhood.at.night                                      0\n",
       "How.satisfied.are.you.with.the.beauty.or.physical.setting.of.your.neighborhood                  0\n",
       "How.satisfied.are.you.with.the.appearance.of.parks.and.squares.in.your.neighborhood             0\n",
       "What.is.your.gender                                                                             0\n",
       "Age                                                                                             0\n",
       "What.is.your.race.or.ethnicity                                                                  0\n",
       "Do.you.have.children.age.18.or.younger.who.live.with.you                                        0\n",
       "Describe.your.housing.status.in.Somerville                                                      0\n",
       "Do.you.plan.to.move.away.from.Somerville.in.the.next.two.years                                  0\n",
       "How.long.have.you.lived.here                                                                    0\n",
       "What.is.your.annual.household.income                                                            0\n",
       "Are.you.a.student                                                                               0\n",
       "How.anxious.did.you.feel.yesterday                                                              0\n",
       "How.satisfied.are.you.with.the.quality.and.number.of.transportation.options.available.to.you    0\n",
       "Language                                                                                        0\n",
       "What.languages.do.you.speak.at.home                                                             0\n",
       "Class                                                                                           0\n",
       "dtype: int64"
      ]
     },
     "execution_count": 12,
     "metadata": {},
     "output_type": "execute_result"
    }
   ],
   "source": [
    "Somerville_happiness.isna().sum()"
   ]
  },
  {
   "cell_type": "code",
   "execution_count": null,
   "metadata": {
    "colab": {
     "base_uri": "https://localhost:8080/"
    },
    "executionInfo": {
     "elapsed": 177,
     "status": "ok",
     "timestamp": 1649086946083,
     "user": {
      "displayName": "Sumit Dhaundiyal",
      "userId": "04065090477156492336"
     },
     "user_tz": 240
    },
    "id": "NKkqicrMcdMa",
    "outputId": "9df5b20c-aa30-4565-8a41-1613ea8fe4b4"
   },
   "outputs": [
    {
     "name": "stderr",
     "output_type": "stream",
     "text": [
      "/usr/local/lib/python3.7/dist-packages/ipykernel_launcher.py:9: FutureWarning: The default value of regex will change from True to False in a future version. In addition, single character regular expressions will *not* be treated as literal strings when regex=True.\n",
      "  if __name__ == '__main__':\n"
     ]
    },
    {
     "data": {
      "text/plain": [
       "array([1.300e+01, 1.115e+03, 2.100e+01, 4.700e+01, 8.100e+02, 5.000e-01,\n",
       "       1.620e+03, 4.000e+01, 6.600e+01, 6.500e+01, 3.000e+00, 3.900e+01,\n",
       "       3.000e+01, 2.000e+00, 7.000e+00, 2.800e+01, 7.000e+01, 2.000e+01,\n",
       "       9.000e+00, 2.600e+01, 7.500e-01, 2.500e+00, 7.700e+01, 8.000e+00,\n",
       "       1.500e+00, 1.500e+01, 4.200e+01, 2.500e+01, 3.300e+01, 1.000e+01,\n",
       "       1.000e+00, 4.000e+00, 5.800e+01, 2.300e+01, 4.500e+01, 5.300e+01,\n",
       "       6.000e+00, 2.400e+01, 5.150e+01, 6.400e+01, 5.000e+00, 5.000e+01,\n",
       "       3.600e+01, 1.800e+01, 5.100e+01, 6.800e+01, 9.000e+01, 8.000e-01,\n",
       "       1.400e+01, 1.100e+01, 6.200e+01, 2.900e+01])"
      ]
     },
     "execution_count": 13,
     "metadata": {},
     "output_type": "execute_result"
    }
   ],
   "source": [
    "Somerville_happiness['What.is.your.annual.household.income'].unique()\n",
    "Somerville_happiness['How.long.have.you.lived.here'].mask(Somerville_happiness['How.long.have.you.lived.here'] == '21 years or more', '21', inplace=True)\n",
    "Somerville_happiness['How.long.have.you.lived.here'].mask(Somerville_happiness['How.long.have.you.lived.here'] == 'Less than a year', '0.5', inplace=True)\n",
    "Somerville_happiness['How.long.have.you.lived.here'].mask(Somerville_happiness['How.long.have.you.lived.here'] == '9 months', '0.75', inplace=True)\n",
    "Somerville_happiness['How.long.have.you.lived.here'].mask(Somerville_happiness['How.long.have.you.lived.here'] == '6 months', '0.5', inplace=True)\n",
    "Somerville_happiness['How.long.have.you.lived.here'].mask(Somerville_happiness['How.long.have.you.lived.here'] == 'less than 10 months', '0.8', inplace=True)\n",
    "Somerville_happiness['How.long.have.you.lived.here'] = Somerville_happiness['How.long.have.you.lived.here'].str.replace('years', '')\n",
    "Somerville_happiness['How.long.have.you.lived.here'] = Somerville_happiness['How.long.have.you.lived.here'].str.replace('year', '')\n",
    "Somerville_happiness['How.long.have.you.lived.here'] = Somerville_happiness['How.long.have.you.lived.here'].str.replace('+', '')\n",
    "Somerville_happiness['How.long.have.you.lived.here'] = Somerville_happiness['How.long.have.you.lived.here'].str.replace(' ', '')\n",
    "Somerville_happiness['How.long.have.you.lived.here'] = Somerville_happiness['How.long.have.you.lived.here'].astype(float)\n",
    "Somerville_happiness['How.long.have.you.lived.here'].unique()\n",
    "#At first glance these coumns looks like string columns but are categorical "
   ]
  },
  {
   "cell_type": "code",
   "execution_count": null,
   "metadata": {
    "id": "M5m0Op5QxP2N"
   },
   "outputs": [],
   "source": [
    "# Removing redundant values from column containing gender i.e., What.is.your.gender\n",
    "Somerville_happiness['What.is.your.gender'].mask(Somerville_happiness['What.is.your.gender'] == '(both selected)', 'Both checked', inplace=True)\n",
    "Somerville_happiness['What.is.your.gender'].mask(Somerville_happiness['What.is.your.gender'] == 'Both Checked', 'Both checked', inplace=True)\n",
    "\n",
    "Somerville_happiness['What.is.your.gender'].mask(Somerville_happiness['What.is.your.gender'] == 'both male and female selected', 'Both checked', inplace=True)\n",
    "Somerville_happiness['What.is.your.gender'].mask(Somerville_happiness['What.is.your.gender'] == 'both selected', 'Both checked', inplace=True)\n",
    "Somerville_happiness['What.is.your.gender'].mask(Somerville_happiness['What.is.your.gender'] == 'Female + Male checked', 'Both checked', inplace=True)\n",
    "Somerville_happiness['What.is.your.gender'].mask(Somerville_happiness['What.is.your.gender'] == 'Checked Female & Male', 'Both checked', inplace=True)\n",
    "Somerville_happiness['What.is.your.gender'].mask(Somerville_happiness['What.is.your.gender'] == 'both male and female checked', 'Both checked', inplace=True)\n",
    "Somerville_happiness['What.is.your.gender'].mask(Somerville_happiness['What.is.your.gender'] == 'both make and female checked', 'Both checked', inplace=True)\n",
    "Somerville_happiness['What.is.your.gender'].mask(Somerville_happiness['What.is.your.gender'] == 'Male and Female', inplace=True)\n",
    "Somerville_happiness['What.is.your.gender'].mask(Somerville_happiness['What.is.your.gender'] == 'Both female and male checked', 'Both checked', inplace=True)\n",
    "Somerville_happiness['What.is.your.gender'].mask(Somerville_happiness['What.is.your.gender'] == 'a cou', 'couple', inplace=True)\n",
    "Somerville_happiness['What.is.your.gender'].mask(Somerville_happiness['What.is.your.gender'] == '2 of us', 'couple', inplace=True)\n",
    "Somerville_happiness['What.is.your.gender'].mask(Somerville_happiness['What.is.your.gender'] == None, 'I don\\'t believe in the social construct of gender', inplace=True)\n",
    "Somerville_happiness['What.is.your.gender'] = Somerville_happiness['What.is.your.gender'].fillna('I don\\'t believe in the social construct of gender')"
   ]
  },
  {
   "cell_type": "markdown",
   "metadata": {
    "id": "YUdSkzTwzqeT"
   },
   "source": [
    "# Exploratory Data Analysis"
   ]
  },
  {
   "cell_type": "code",
   "execution_count": null,
   "metadata": {
    "id": "NuRAevrZzsQP"
   },
   "outputs": [],
   "source": [
    "df=Somerville_happiness.copy()\n",
    "Happy=df[df['Class']==0]\n",
    "Unhappy=df[df['Class']==1]\n",
    "#df['How.happy.do.you.feel.right.now'].mask(df['How.happy.do.you.feel.right.now'] == 'Unhappy', 1, inplace=True)\n",
    "#df['How.happy.do.you.feel.right.now'].mask(df['How.happy.do.you.feel.right.now'] == 'Happy', 0, inplace=True)\n",
    "\n",
    "df.columns\n",
    "df['Response'] = np.where(df['Class']== 0, \"Happy\", \"Unhappy\")\n",
    "import seaborn as sns\n",
    "import matplotlib.pyplot as plt\n"
   ]
  },
  {
   "cell_type": "code",
   "execution_count": null,
   "metadata": {
    "colab": {
     "base_uri": "https://localhost:8080/",
     "height": 392
    },
    "executionInfo": {
     "elapsed": 631,
     "status": "ok",
     "timestamp": 1649086946843,
     "user": {
      "displayName": "Sumit Dhaundiyal",
      "userId": "04065090477156492336"
     },
     "user_tz": 240
    },
    "id": "BB8UsbVZSAmC",
    "outputId": "6d6bea5e-bce1-4b9d-f46b-bd3faac45af7"
   },
   "outputs": [
    {
     "data": {
      "text/plain": [
       "array([<matplotlib.axes._subplots.AxesSubplot object at 0x7fce1ac9d210>],\n",
       "      dtype=object)"
      ]
     },
     "execution_count": 16,
     "metadata": {},
     "output_type": "execute_result"
    },
    {
     "data": {
      "image/png": "[encoded data removed]",
      "text/plain": [
       "<Figure size 432x432 with 1 Axes>"
      ]
     },
     "metadata": {},
     "output_type": "display_data"
    }
   ],
   "source": [
    "happy= df['Class'].value_counts()[0]\n",
    "unhappy= df['Class'].value_counts()[1]\n",
    "p = [happy, unhappy]\n",
    "plt_data = pd.DataFrame(p)\n",
    "plt_data.plot(kind='pie', subplots=True, labels=['Happy', 'Unhappy'],figsize=(6,6), colormap=\"Spectral\")"
   ]
  },
  {
   "cell_type": "code",
   "execution_count": null,
   "metadata": {
    "colab": {
     "base_uri": "https://localhost:8080/"
    },
    "executionInfo": {
     "elapsed": 11,
     "status": "ok",
     "timestamp": 1649086946843,
     "user": {
      "displayName": "Sumit Dhaundiyal",
      "userId": "04065090477156492336"
     },
     "user_tz": 240
    },
    "id": "9q6k-iEC5OJ7",
    "outputId": "b30fbe70-2fd3-4790-a057-fdc378a43a56"
   },
   "outputs": [
    {
     "data": {
      "text/plain": [
       "Index(['Combined_ID', 'Year', 'How.happy.do.you.feel.right.now',\n",
       "       'How.satisfied.are.you.with.your.life.in.general',\n",
       "       'How.satisfied.are.you.with.Somerville.as.a.place.to.live',\n",
       "       'How.satisfied.are.you.with.your.neighborhood',\n",
       "       'How.proud.are.you.to.be.a.Somerville.resident',\n",
       "       'How.would.you.rate.the.following..The.availability.of.information.about.city.services',\n",
       "       'How.would.you.rate.the.following..The.cost.of.housing',\n",
       "       'How.would.you.rate.the.following..The.overall.quality.of.public.schools',\n",
       "       'How.would.you.rate.the.following..Your.trust.in.the.local.police',\n",
       "       'How.would.you.rate.the.following..The.maintenance.of.streets.and.sidewalks',\n",
       "       'How.would.you.rate.the.following..The.availability.of.social.community.events',\n",
       "       'How.safe.do.you.feel.walking.in.your.neighborhood.at.night',\n",
       "       'How.satisfied.are.you.with.the.beauty.or.physical.setting.of.your.neighborhood',\n",
       "       'How.satisfied.are.you.with.the.appearance.of.parks.and.squares.in.your.neighborhood',\n",
       "       'What.is.your.gender', 'Age', 'What.is.your.race.or.ethnicity',\n",
       "       'Do.you.have.children.age.18.or.younger.who.live.with.you',\n",
       "       'Describe.your.housing.status.in.Somerville',\n",
       "       'Do.you.plan.to.move.away.from.Somerville.in.the.next.two.years',\n",
       "       'How.long.have.you.lived.here', 'What.is.your.annual.household.income',\n",
       "       'Are.you.a.student', 'How.anxious.did.you.feel.yesterday',\n",
       "       'How.satisfied.are.you.with.the.quality.and.number.of.transportation.options.available.to.you',\n",
       "       'Language', 'What.languages.do.you.speak.at.home', 'Class', 'Response'],\n",
       "      dtype='object')"
      ]
     },
     "execution_count": 17,
     "metadata": {},
     "output_type": "execute_result"
    }
   ],
   "source": [
    "df.columns"
   ]
  },
  {
   "cell_type": "code",
   "execution_count": null,
   "metadata": {
    "colab": {
     "base_uri": "https://localhost:8080/",
     "height": 367
    },
    "executionInfo": {
     "elapsed": 565,
     "status": "ok",
     "timestamp": 1649086947400,
     "user": {
      "displayName": "Sumit Dhaundiyal",
      "userId": "04065090477156492336"
     },
     "user_tz": 240
    },
    "id": "HfGQvabC1qV3",
    "outputId": "c11e1850-39be-4e36-a1a5-5bad2933896e"
   },
   "outputs": [
    {
     "data": {
      "text/plain": [
       "<matplotlib.legend.Legend at 0x7fce1a3d7e90>"
      ]
     },
     "execution_count": 18,
     "metadata": {},
     "output_type": "execute_result"
    },
    {
     "data": {
      "image/png": "[encoded data removed]",
      "text/plain": [
       "<Figure size 648x360 with 1 Axes>"
      ]
     },
     "metadata": {
      "needs_background": "light"
     },
     "output_type": "display_data"
    }
   ],
   "source": [
    "plt.figure(figsize=(9, 5))\n",
    "happyunhappyorder = df['What.is.your.gender'].value_counts().head(10).index\n",
    "\n",
    "sns.countplot(data=df, y='What.is.your.gender',hue='Response', order=happyunhappyorder)\n",
    "\n",
    "plt.title('Gender of people who took part in the survery')\n",
    "plt.xlabel('No. of responses')\n",
    "plt.ylabel('Gender');\n",
    "plt.legend(loc='center right')"
   ]
  },
  {
   "cell_type": "code",
   "execution_count": null,
   "metadata": {
    "colab": {
     "base_uri": "https://localhost:8080/",
     "height": 367
    },
    "executionInfo": {
     "elapsed": 573,
     "status": "ok",
     "timestamp": 1649086947969,
     "user": {
      "displayName": "Sumit Dhaundiyal",
      "userId": "04065090477156492336"
     },
     "user_tz": 240
    },
    "id": "2ru_hECQ43Ad",
    "outputId": "da577663-eda1-4362-bba8-0ef3bf20ff47"
   },
   "outputs": [
    {
     "data": {
      "text/plain": [
       "<matplotlib.legend.Legend at 0x7fce19cd3110>"
      ]
     },
     "execution_count": 19,
     "metadata": {},
     "output_type": "execute_result"
    },
    {
     "data": {
      "image/png": "[encoded data removed]",
      "text/plain": [
       "<Figure size 648x360 with 1 Axes>"
      ]
     },
     "metadata": {
      "needs_background": "light"
     },
     "output_type": "display_data"
    }
   ],
   "source": [
    "plt.figure(figsize=(9, 5))\n",
    "happyunhappyorder = df['What.languages.do.you.speak.at.home'].value_counts().head(10).index\n",
    "\n",
    "sns.countplot(data=df, y='What.languages.do.you.speak.at.home',hue='Response', palette=\"Set1\",order=happyunhappyorder)\n",
    "\n",
    "plt.title('Language spoken by people who took part in the survery')\n",
    "plt.xlabel('No. of responses')\n",
    "plt.ylabel('Language spoken at home');\n",
    "plt.legend(loc='center right')"
   ]
  },
  {
   "cell_type": "code",
   "execution_count": null,
   "metadata": {
    "colab": {
     "base_uri": "https://localhost:8080/",
     "height": 563
    },
    "executionInfo": {
     "elapsed": 999,
     "status": "ok",
     "timestamp": 1649086948965,
     "user": {
      "displayName": "Sumit Dhaundiyal",
      "userId": "04065090477156492336"
     },
     "user_tz": 240
    },
    "id": "hNP9N-q5DgMp",
    "outputId": "89b2ee0c-3872-4327-999b-5e043870397e"
   },
   "outputs": [
    {
     "name": "stderr",
     "output_type": "stream",
     "text": [
      "/usr/local/lib/python3.7/dist-packages/ipykernel_launcher.py:3: SettingWithCopyWarning: \n",
      "A value is trying to be set on a copy of a slice from a DataFrame.\n",
      "Try using .loc[row_indexer,col_indexer] = value instead\n",
      "\n",
      "See the caveats in the documentation: https://pandas.pydata.org/pandas-docs/stable/user_guide/indexing.html#returning-a-view-versus-a-copy\n",
      "  This is separate from the ipykernel package so we can avoid doing imports until\n",
      "/usr/local/lib/python3.7/dist-packages/ipykernel_launcher.py:4: SettingWithCopyWarning: \n",
      "A value is trying to be set on a copy of a slice from a DataFrame.\n",
      "Try using .loc[row_indexer,col_indexer] = value instead\n",
      "\n",
      "See the caveats in the documentation: https://pandas.pydata.org/pandas-docs/stable/user_guide/indexing.html#returning-a-view-versus-a-copy\n",
      "  after removing the cwd from sys.path.\n"
     ]
    },
    {
     "data": {
      "image/png": "[encoded data removed]",
      "text/plain": [
       "<Figure size 1080x360 with 2 Axes>"
      ]
     },
     "metadata": {
      "needs_background": "light"
     },
     "output_type": "display_data"
    }
   ],
   "source": [
    "plt.figure(figsize=(15, 5))\n",
    "plt.subplot(1, 2, 1)\n",
    "Happy['How.satisfied.are.you.with.the.appearance.of.parks.and.squares.in.your.neighborhood'] = Happy['How.satisfied.are.you.with.the.appearance.of.parks.and.squares.in.your.neighborhood'].round(2);\n",
    "Unhappy['How.satisfied.are.you.with.the.appearance.of.parks.and.squares.in.your.neighborhood'] = Unhappy['How.satisfied.are.you.with.the.appearance.of.parks.and.squares.in.your.neighborhood'].round(2);\n",
    "\n",
    "happyunhappyorder = Happy['How.satisfied.are.you.with.the.appearance.of.parks.and.squares.in.your.neighborhood'].value_counts().head(10).index;\n",
    "\n",
    "sns.countplot(data=Happy, x='How.satisfied.are.you.with.the.appearance.of.parks.and.squares.in.your.neighborhood', order=happyunhappyorder);\n",
    "\n",
    "plt.title('Parks & Square\\'s ratings given by Happy people');\n",
    "plt.xlabel('Rating');\n",
    "plt.ylabel('Count');\n",
    "#plt.legend(loc='center right');\n",
    "\n",
    "plt.subplot(1, 2, 2)\n",
    "happyunhappyorder = Unhappy['How.satisfied.are.you.with.the.appearance.of.parks.and.squares.in.your.neighborhood'].value_counts().head(10).index\n",
    "\n",
    "sns.countplot(data=Unhappy, x='How.satisfied.are.you.with.the.appearance.of.parks.and.squares.in.your.neighborhood', order=happyunhappyorder);\n",
    "\n",
    "plt.title('Parks & Square\\'s ratings given by unhappy people');\n",
    "plt.xlabel('Rating');\n",
    "plt.ylabel('Count');\n",
    "#plt.legend(loc='center right');\n",
    "plt.show();"
   ]
  },
  {
   "cell_type": "markdown",
   "metadata": {
    "id": "INRQtOC9PSU3"
   },
   "source": [
    "'Combined_ID',\n",
    " 'Year',\n",
    " 'How.satisfied.are.you.with.your.life.in.general',\n",
    " 'How.satisfied.are.you.with.your.neighborhood',\n",
    " 'How.proud.are.you.to.be.a.Somerville.resident',\n",
    " 'How.would.you.rate.the.following..The.overall.quality.of.public.schools',\n",
    " 'How.would.you.rate.the.following..The.availability.of.social.community.events',\n",
    " 'How.satisfied.are.you.with.the.quality.and.number.of.transportation.options.available.to.you']"
   ]
  },
  {
   "cell_type": "code",
   "execution_count": null,
   "metadata": {
    "colab": {
     "base_uri": "https://localhost:8080/",
     "height": 1000
    },
    "executionInfo": {
     "elapsed": 6194,
     "status": "ok",
     "timestamp": 1649086955157,
     "user": {
      "displayName": "Sumit Dhaundiyal",
      "userId": "04065090477156492336"
     },
     "user_tz": 240
    },
    "id": "hLoKoBLDPRYH",
    "outputId": "b160f2c4-97e1-45e4-acaf-0a8eb3f275ce"
   },
   "outputs": [
    {
     "name": "stderr",
     "output_type": "stream",
     "text": [
      "/usr/local/lib/python3.7/dist-packages/ipykernel_launcher.py:1: SettingWithCopyWarning: \n",
      "A value is trying to be set on a copy of a slice from a DataFrame.\n",
      "Try using .loc[row_indexer,col_indexer] = value instead\n",
      "\n",
      "See the caveats in the documentation: https://pandas.pydata.org/pandas-docs/stable/user_guide/indexing.html#returning-a-view-versus-a-copy\n",
      "  \"\"\"Entry point for launching an IPython kernel.\n",
      "/usr/local/lib/python3.7/dist-packages/ipykernel_launcher.py:2: SettingWithCopyWarning: \n",
      "A value is trying to be set on a copy of a slice from a DataFrame.\n",
      "Try using .loc[row_indexer,col_indexer] = value instead\n",
      "\n",
      "See the caveats in the documentation: https://pandas.pydata.org/pandas-docs/stable/user_guide/indexing.html#returning-a-view-versus-a-copy\n",
      "  \n",
      "/usr/local/lib/python3.7/dist-packages/ipykernel_launcher.py:15: SettingWithCopyWarning: \n",
      "A value is trying to be set on a copy of a slice from a DataFrame.\n",
      "Try using .loc[row_indexer,col_indexer] = value instead\n",
      "\n",
      "See the caveats in the documentation: https://pandas.pydata.org/pandas-docs/stable/user_guide/indexing.html#returning-a-view-versus-a-copy\n",
      "  from ipykernel import kernelapp as app\n",
      "/usr/local/lib/python3.7/dist-packages/ipykernel_launcher.py:16: SettingWithCopyWarning: \n",
      "A value is trying to be set on a copy of a slice from a DataFrame.\n",
      "Try using .loc[row_indexer,col_indexer] = value instead\n",
      "\n",
      "See the caveats in the documentation: https://pandas.pydata.org/pandas-docs/stable/user_guide/indexing.html#returning-a-view-versus-a-copy\n",
      "  app.launch_new_instance()\n"
     ]
    },
    {
     "data": {
      "image/png": "[encoded data removed]",
      "text/plain": [
       "<Figure size 1800x576 with 2 Axes>"
      ]
     },
     "metadata": {
      "needs_background": "light"
     },
     "output_type": "display_data"
    },
    {
     "name": "stderr",
     "output_type": "stream",
     "text": [
      "/usr/local/lib/python3.7/dist-packages/ipykernel_launcher.py:15: SettingWithCopyWarning: \n",
      "A value is trying to be set on a copy of a slice from a DataFrame.\n",
      "Try using .loc[row_indexer,col_indexer] = value instead\n",
      "\n",
      "See the caveats in the documentation: https://pandas.pydata.org/pandas-docs/stable/user_guide/indexing.html#returning-a-view-versus-a-copy\n",
      "  from ipykernel import kernelapp as app\n",
      "/usr/local/lib/python3.7/dist-packages/ipykernel_launcher.py:16: SettingWithCopyWarning: \n",
      "A value is trying to be set on a copy of a slice from a DataFrame.\n",
      "Try using .loc[row_indexer,col_indexer] = value instead\n",
      "\n",
      "See the caveats in the documentation: https://pandas.pydata.org/pandas-docs/stable/user_guide/indexing.html#returning-a-view-versus-a-copy\n",
      "  app.launch_new_instance()\n"
     ]
    },
    {
     "data": {
      "image/png": "[encoded data removed]",
      "text/plain": [
       "<Figure size 1800x576 with 2 Axes>"
      ]
     },
     "metadata": {
      "needs_background": "light"
     },
     "output_type": "display_data"
    },
    {
     "name": "stderr",
     "output_type": "stream",
     "text": [
      "/usr/local/lib/python3.7/dist-packages/ipykernel_launcher.py:15: SettingWithCopyWarning: \n",
      "A value is trying to be set on a copy of a slice from a DataFrame.\n",
      "Try using .loc[row_indexer,col_indexer] = value instead\n",
      "\n",
      "See the caveats in the documentation: https://pandas.pydata.org/pandas-docs/stable/user_guide/indexing.html#returning-a-view-versus-a-copy\n",
      "  from ipykernel import kernelapp as app\n",
      "/usr/local/lib/python3.7/dist-packages/ipykernel_launcher.py:16: SettingWithCopyWarning: \n",
      "A value is trying to be set on a copy of a slice from a DataFrame.\n",
      "Try using .loc[row_indexer,col_indexer] = value instead\n",
      "\n",
      "See the caveats in the documentation: https://pandas.pydata.org/pandas-docs/stable/user_guide/indexing.html#returning-a-view-versus-a-copy\n",
      "  app.launch_new_instance()\n"
     ]
    },
    {
     "data": {
      "image/png": "[encoded data removed]",
      "text/plain": [
       "<Figure size 1800x576 with 2 Axes>"
      ]
     },
     "metadata": {
      "needs_background": "light"
     },
     "output_type": "display_data"
    },
    {
     "name": "stderr",
     "output_type": "stream",
     "text": [
      "/usr/local/lib/python3.7/dist-packages/ipykernel_launcher.py:15: SettingWithCopyWarning: \n",
      "A value is trying to be set on a copy of a slice from a DataFrame.\n",
      "Try using .loc[row_indexer,col_indexer] = value instead\n",
      "\n",
      "See the caveats in the documentation: https://pandas.pydata.org/pandas-docs/stable/user_guide/indexing.html#returning-a-view-versus-a-copy\n",
      "  from ipykernel import kernelapp as app\n",
      "/usr/local/lib/python3.7/dist-packages/ipykernel_launcher.py:16: SettingWithCopyWarning: \n",
      "A value is trying to be set on a copy of a slice from a DataFrame.\n",
      "Try using .loc[row_indexer,col_indexer] = value instead\n",
      "\n",
      "See the caveats in the documentation: https://pandas.pydata.org/pandas-docs/stable/user_guide/indexing.html#returning-a-view-versus-a-copy\n",
      "  app.launch_new_instance()\n"
     ]
    },
    {
     "data": {
      "image/png": "[encoded data removed]",
      "text/plain": [
       "<Figure size 1800x576 with 2 Axes>"
      ]
     },
     "metadata": {
      "needs_background": "light"
     },
     "output_type": "display_data"
    },
    {
     "name": "stderr",
     "output_type": "stream",
     "text": [
      "/usr/local/lib/python3.7/dist-packages/ipykernel_launcher.py:15: SettingWithCopyWarning: \n",
      "A value is trying to be set on a copy of a slice from a DataFrame.\n",
      "Try using .loc[row_indexer,col_indexer] = value instead\n",
      "\n",
      "See the caveats in the documentation: https://pandas.pydata.org/pandas-docs/stable/user_guide/indexing.html#returning-a-view-versus-a-copy\n",
      "  from ipykernel import kernelapp as app\n",
      "/usr/local/lib/python3.7/dist-packages/ipykernel_launcher.py:16: SettingWithCopyWarning: \n",
      "A value is trying to be set on a copy of a slice from a DataFrame.\n",
      "Try using .loc[row_indexer,col_indexer] = value instead\n",
      "\n",
      "See the caveats in the documentation: https://pandas.pydata.org/pandas-docs/stable/user_guide/indexing.html#returning-a-view-versus-a-copy\n",
      "  app.launch_new_instance()\n"
     ]
    },
    {
     "data": {
      "image/png": "[encoded data removed]",
      "text/plain": [
       "<Figure size 1800x576 with 2 Axes>"
      ]
     },
     "metadata": {
      "needs_background": "light"
     },
     "output_type": "display_data"
    },
    {
     "name": "stderr",
     "output_type": "stream",
     "text": [
      "/usr/local/lib/python3.7/dist-packages/ipykernel_launcher.py:15: SettingWithCopyWarning: \n",
      "A value is trying to be set on a copy of a slice from a DataFrame.\n",
      "Try using .loc[row_indexer,col_indexer] = value instead\n",
      "\n",
      "See the caveats in the documentation: https://pandas.pydata.org/pandas-docs/stable/user_guide/indexing.html#returning-a-view-versus-a-copy\n",
      "  from ipykernel import kernelapp as app\n",
      "/usr/local/lib/python3.7/dist-packages/ipykernel_launcher.py:16: SettingWithCopyWarning: \n",
      "A value is trying to be set on a copy of a slice from a DataFrame.\n",
      "Try using .loc[row_indexer,col_indexer] = value instead\n",
      "\n",
      "See the caveats in the documentation: https://pandas.pydata.org/pandas-docs/stable/user_guide/indexing.html#returning-a-view-versus-a-copy\n",
      "  app.launch_new_instance()\n"
     ]
    },
    {
     "data": {
      "image/png": "[encoded data removed]",
      "text/plain": [
       "<Figure size 1800x576 with 2 Axes>"
      ]
     },
     "metadata": {
      "needs_background": "light"
     },
     "output_type": "display_data"
    }
   ],
   "source": [
    "Happy['How.satisfied.are.you.with.the.appearance.of.parks.and.squares.in.your.neighborhood'] = Happy['How.satisfied.are.you.with.the.appearance.of.parks.and.squares.in.your.neighborhood'].round(2);\n",
    "Unhappy['How.satisfied.are.you.with.the.appearance.of.parks.and.squares.in.your.neighborhood'] = Unhappy['How.satisfied.are.you.with.the.appearance.of.parks.and.squares.in.your.neighborhood'].round(2);\n",
    "\n",
    "a=[\n",
    " \n",
    " 'How.satisfied.are.you.with.your.life.in.general',\n",
    " 'How.satisfied.are.you.with.your.neighborhood',\n",
    " 'How.proud.are.you.to.be.a.Somerville.resident',\n",
    " 'How.would.you.rate.the.following..The.overall.quality.of.public.schools',\n",
    " 'How.would.you.rate.the.following..The.availability.of.social.community.events',\n",
    " 'How.satisfied.are.you.with.the.quality.and.number.of.transportation.options.available.to.you']\n",
    "for i in a:\n",
    "  plt.figure(figsize=(25, 8))\n",
    "  plt.subplot(1, 2, 1)\n",
    "  Happy[i] = Happy[i].round(2);\n",
    "  Unhappy[i] = Unhappy[i].round(2);\n",
    "\n",
    "  happyunhappyorder = Happy[i].value_counts().head(10).index;\n",
    "\n",
    "  sns.countplot(data=Happy, x=i, order=happyunhappyorder);\n",
    "\n",
    "  plt.title(str(i)+' : Happy people');\n",
    "  plt.xlabel(str(i));\n",
    "  plt.ylabel('Count');\n",
    "  #plt.legend(loc='center right');\n",
    "\n",
    "  plt.subplot(1, 2, 2)\n",
    "  happyunhappyorder = Unhappy[i].value_counts().head(10).index\n",
    "\n",
    "  sns.countplot(data=Unhappy, x=i, order=happyunhappyorder);\n",
    "\n",
    "  plt.title( str(i)+' : Unhappy people');\n",
    "  plt.xlabel(str(i));\n",
    "  plt.ylabel('Count');\n",
    "  #plt.legend(loc='center right');\n",
    "  plt.show();"
   ]
  },
  {
   "cell_type": "code",
   "execution_count": null,
   "metadata": {
    "colab": {
     "base_uri": "https://localhost:8080/",
     "height": 385
    },
    "executionInfo": {
     "elapsed": 346,
     "status": "ok",
     "timestamp": 1649086955496,
     "user": {
      "displayName": "Sumit Dhaundiyal",
      "userId": "04065090477156492336"
     },
     "user_tz": 240
    },
    "id": "XQz40tJx3Klq",
    "outputId": "31ed1918-d3da-4d4c-9bab-d1233c65a0dd"
   },
   "outputs": [
    {
     "name": "stderr",
     "output_type": "stream",
     "text": [
      "No handles with labels found to put in legend.\n"
     ]
    },
    {
     "data": {
      "text/plain": [
       "<matplotlib.legend.Legend at 0x7fce19805e50>"
      ]
     },
     "execution_count": 22,
     "metadata": {},
     "output_type": "execute_result"
    },
    {
     "data": {
      "image/png": "[encoded data removed]",
      "text/plain": [
       "<Figure size 648x360 with 1 Axes>"
      ]
     },
     "metadata": {
      "needs_background": "light"
     },
     "output_type": "display_data"
    }
   ],
   "source": [
    "plt.figure(figsize=(9, 5))\n",
    "happyunhappyorder = df['What.languages.do.you.speak.at.home'].value_counts().head(10).index\n",
    "\n",
    "sns.countplot(data=df, y='What.languages.do.you.speak.at.home', order=happyunhappyorder)\n",
    "\n",
    "plt.title('Gender of people who took part in the survery')\n",
    "plt.xlabel('No. of responses')\n",
    "plt.ylabel('Gender');\n",
    "plt.legend(loc='center right')"
   ]
  },
  {
   "cell_type": "code",
   "execution_count": null,
   "metadata": {
    "id": "RbgHF0RMR5JR"
   },
   "outputs": [],
   "source": []
  },
  {
   "cell_type": "markdown",
   "metadata": {
    "id": "rdO53VumdFQ9"
   },
   "source": [
    "## Label Encoding non numeric columns"
   ]
  },
  {
   "cell_type": "code",
   "execution_count": null,
   "metadata": {
    "id": "cQFgiJaPc_uO"
   },
   "outputs": [],
   "source": [
    "from sklearn import preprocessing\n",
    " \n",
    "# label_encoder object knows how to understand word labels.\n",
    "label_encoder = preprocessing.LabelEncoder()\n",
    " \n",
    "for i in string_columns:\n",
    "  Somerville_happiness[i]= label_encoder.fit_transform(Somerville_happiness[i].astype(str))\n"
   ]
  },
  {
   "cell_type": "code",
   "execution_count": null,
   "metadata": {
    "colab": {
     "base_uri": "https://localhost:8080/"
    },
    "executionInfo": {
     "elapsed": 21,
     "status": "ok",
     "timestamp": 1649086955499,
     "user": {
      "displayName": "Sumit Dhaundiyal",
      "userId": "04065090477156492336"
     },
     "user_tz": 240
    },
    "id": "jUI7rg4YdmPF",
    "outputId": "91fe1fe7-dced-4392-e008-72b85c7428db"
   },
   "outputs": [
    {
     "data": {
      "text/plain": [
       "(1409, 29)"
      ]
     },
     "execution_count": 24,
     "metadata": {},
     "output_type": "execute_result"
    }
   ],
   "source": [
    "Somerville_happiness=Somerville_happiness.drop(columns=['How.happy.do.you.feel.right.now'])\n",
    "Somerville_happiness.shape"
   ]
  },
  {
   "cell_type": "code",
   "execution_count": null,
   "metadata": {
    "colab": {
     "base_uri": "https://localhost:8080/"
    },
    "executionInfo": {
     "elapsed": 14,
     "status": "ok",
     "timestamp": 1649086955499,
     "user": {
      "displayName": "Sumit Dhaundiyal",
      "userId": "04065090477156492336"
     },
     "user_tz": 240
    },
    "id": "6SjlaNKH0pQn",
    "outputId": "1090291a-9310-42e1-c6c6-ede9d0b9a6a2"
   },
   "outputs": [
    {
     "data": {
      "text/plain": [
       "1    711\n",
       "0    698\n",
       "Name: Class, dtype: int64"
      ]
     },
     "execution_count": 25,
     "metadata": {},
     "output_type": "execute_result"
    }
   ],
   "source": [
    "Somerville_happiness['Class'].value_counts()"
   ]
  },
  {
   "cell_type": "code",
   "execution_count": null,
   "metadata": {
    "colab": {
     "base_uri": "https://localhost:8080/",
     "height": 1000
    },
    "executionInfo": {
     "elapsed": 1858,
     "status": "ok",
     "timestamp": 1649086957346,
     "user": {
      "displayName": "Sumit Dhaundiyal",
      "userId": "04065090477156492336"
     },
     "user_tz": 240
    },
    "id": "5XMBKfrf5BGw",
    "outputId": "c20bcce8-3f00-4728-c887-b296865588fb"
   },
   "outputs": [
    {
     "data": {
      "image/png": "[encoded data removed]",
      "text/plain": [
       "<Figure size 1080x1080 with 2 Axes>"
      ]
     },
     "metadata": {},
     "output_type": "display_data"
    }
   ],
   "source": [
    "df2=Somerville_happiness.copy()\n",
    "#df2=df2.drop(columns=['Class'])\n",
    "import seaborn as sns; sns.set_theme()\n",
    "sns.set(rc = {'figure.figsize':(15,15)})\n",
    "ax = sns.heatmap(df2.corr())"
   ]
  },
  {
   "cell_type": "code",
   "execution_count": null,
   "metadata": {
    "colab": {
     "base_uri": "https://localhost:8080/",
     "height": 480
    },
    "executionInfo": {
     "elapsed": 19,
     "status": "ok",
     "timestamp": 1649086957346,
     "user": {
      "displayName": "Sumit Dhaundiyal",
      "userId": "04065090477156492336"
     },
     "user_tz": 240
    },
    "id": "Z7s8DH606oq6",
    "outputId": "e213f2ab-5318-4608-d124-e2aaa80b3727"
   },
   "outputs": [
    {
     "name": "stderr",
     "output_type": "stream",
     "text": [
      "/usr/local/lib/python3.7/dist-packages/ipykernel_launcher.py:3: DeprecationWarning: `np.bool` is a deprecated alias for the builtin `bool`. To silence this warning, use `bool` by itself. Doing this will not modify any behavior and is safe. If you specifically wanted the numpy scalar type, use `np.bool_` here.\n",
      "Deprecated in NumPy 1.20; for more details and guidance: https://numpy.org/devdocs/release/1.20.0-notes.html#deprecations\n",
      "  This is separate from the ipykernel package so we can avoid doing imports until\n"
     ]
    },
    {
     "data": {
      "text/html": [
       "\n",
       "  <div id=\"df-504a1b1a-b561-4068-992a-840299ff2565\">\n",
       "    <div class=\"colab-df-container\">\n",
       "      <div>\n",
       "<style scoped>\n",
       "    .dataframe tbody tr th:only-of-type {\n",
       "        vertical-align: middle;\n",
       "    }\n",
       "\n",
       "    .dataframe tbody tr th {\n",
       "        vertical-align: top;\n",
       "    }\n",
       "\n",
       "    .dataframe thead th {\n",
       "        text-align: right;\n",
       "    }\n",
       "</style>\n",
       "<table border=\"1\" class=\"dataframe\">\n",
       "  <thead>\n",
       "    <tr style=\"text-align: right;\">\n",
       "      <th></th>\n",
       "      <th></th>\n",
       "      <th>0</th>\n",
       "    </tr>\n",
       "  </thead>\n",
       "  <tbody>\n",
       "    <tr>\n",
       "      <th>Year</th>\n",
       "      <th>Combined_ID</th>\n",
       "      <td>0.854345</td>\n",
       "    </tr>\n",
       "    <tr>\n",
       "      <th>How.satisfied.are.you.with.the.appearance.of.parks.and.squares.in.your.neighborhood</th>\n",
       "      <th>How.satisfied.are.you.with.the.beauty.or.physical.setting.of.your.neighborhood</th>\n",
       "      <td>0.754148</td>\n",
       "    </tr>\n",
       "    <tr>\n",
       "      <th>How.proud.are.you.to.be.a.Somerville.resident</th>\n",
       "      <th>How.satisfied.are.you.with.your.neighborhood</th>\n",
       "      <td>0.753011</td>\n",
       "    </tr>\n",
       "    <tr>\n",
       "      <th>How.satisfied.are.you.with.the.beauty.or.physical.setting.of.your.neighborhood</th>\n",
       "      <th>How.satisfied.are.you.with.your.neighborhood</th>\n",
       "      <td>0.715070</td>\n",
       "    </tr>\n",
       "    <tr>\n",
       "      <th>How.safe.do.you.feel.walking.in.your.neighborhood.at.night</th>\n",
       "      <th>How.satisfied.are.you.with.your.neighborhood</th>\n",
       "      <td>0.671378</td>\n",
       "    </tr>\n",
       "    <tr>\n",
       "      <th>How.satisfied.are.you.with.your.neighborhood</th>\n",
       "      <th>How.satisfied.are.you.with.Somerville.as.a.place.to.live</th>\n",
       "      <td>0.670609</td>\n",
       "    </tr>\n",
       "    <tr>\n",
       "      <th rowspan=\"2\" valign=\"top\">How.satisfied.are.you.with.the.appearance.of.parks.and.squares.in.your.neighborhood</th>\n",
       "      <th>How.satisfied.are.you.with.your.neighborhood</th>\n",
       "      <td>0.657052</td>\n",
       "    </tr>\n",
       "    <tr>\n",
       "      <th>How.safe.do.you.feel.walking.in.your.neighborhood.at.night</th>\n",
       "      <td>0.638788</td>\n",
       "    </tr>\n",
       "    <tr>\n",
       "      <th>How.satisfied.are.you.with.the.beauty.or.physical.setting.of.your.neighborhood</th>\n",
       "      <th>How.safe.do.you.feel.walking.in.your.neighborhood.at.night</th>\n",
       "      <td>0.625255</td>\n",
       "    </tr>\n",
       "    <tr>\n",
       "      <th>How.proud.are.you.to.be.a.Somerville.resident</th>\n",
       "      <th>How.satisfied.are.you.with.Somerville.as.a.place.to.live</th>\n",
       "      <td>0.606852</td>\n",
       "    </tr>\n",
       "  </tbody>\n",
       "</table>\n",
       "</div>\n",
       "      <button class=\"colab-df-convert\" onclick=\"convertToInteractive('df-504a1b1a-b561-4068-992a-840299ff2565')\"\n",
       "              title=\"Convert this dataframe to an interactive table.\"\n",
       "              style=\"display:none;\">\n",
       "        \n",
       "  <svg xmlns=\"http://www.w3.org/2000/svg\" height=\"24px\"viewBox=\"0 0 24 24\"\n",
       "       width=\"24px\">\n",
       "    <path d=\"M0 0h24v24H0V0z\" fill=\"none\"/>\n",
       "    <path d=\"M18.56 5.44l.94 2.06.94-2.06 2.06-.94-2.06-.94-.94-2.06-.94 2.06-2.06.94zm-11 1L8.5 8.5l.94-2.06 2.06-.94-2.06-.94L8.5 2.5l-.94 2.06-2.06.94zm10 10l.94 2.06.94-2.06 2.06-.94-2.06-.94-.94-2.06-.94 2.06-2.06.94z\"/><path d=\"M17.41 7.96l-1.37-1.37c-.4-.4-.92-.59-1.43-.59-.52 0-1.04.2-1.43.59L10.3 9.45l-7.72 7.72c-.78.78-.78 2.05 0 2.83L4 21.41c.39.39.9.59 1.41.59.51 0 1.02-.2 1.41-.59l7.78-7.78 2.81-2.81c.8-.78.8-2.07 0-2.86zM5.41 20L4 18.59l7.72-7.72 1.47 1.35L5.41 20z\"/>\n",
       "  </svg>\n",
       "      </button>\n",
       "      \n",
       "  <style>\n",
       "    .colab-df-container {\n",
       "      display:flex;\n",
       "      flex-wrap:wrap;\n",
       "      gap: 12px;\n",
       "    }\n",
       "\n",
       "    .colab-df-convert {\n",
       "      background-color: #E8F0FE;\n",
       "      border: none;\n",
       "      border-radius: 50%;\n",
       "      cursor: pointer;\n",
       "      display: none;\n",
       "      fill: #1967D2;\n",
       "      height: 32px;\n",
       "      padding: 0 0 0 0;\n",
       "      width: 32px;\n",
       "    }\n",
       "\n",
       "    .colab-df-convert:hover {\n",
       "      background-color: #E2EBFA;\n",
       "      box-shadow: 0px 1px 2px rgba(60, 64, 67, 0.3), 0px 1px 3px 1px rgba(60, 64, 67, 0.15);\n",
       "      fill: #174EA6;\n",
       "    }\n",
       "\n",
       "    [theme=dark] .colab-df-convert {\n",
       "      background-color: #3B4455;\n",
       "      fill: #D2E3FC;\n",
       "    }\n",
       "\n",
       "    [theme=dark] .colab-df-convert:hover {\n",
       "      background-color: #434B5C;\n",
       "      box-shadow: 0px 1px 3px 1px rgba(0, 0, 0, 0.15);\n",
       "      filter: drop-shadow(0px 1px 2px rgba(0, 0, 0, 0.3));\n",
       "      fill: #FFFFFF;\n",
       "    }\n",
       "  </style>\n",
       "\n",
       "      <script>\n",
       "        const buttonEl =\n",
       "          document.querySelector('#df-504a1b1a-b561-4068-992a-840299ff2565 button.colab-df-convert');\n",
       "        buttonEl.style.display =\n",
       "          google.colab.kernel.accessAllowed ? 'block' : 'none';\n",
       "\n",
       "        async function convertToInteractive(key) {\n",
       "          const element = document.querySelector('#df-504a1b1a-b561-4068-992a-840299ff2565');\n",
       "          const dataTable =\n",
       "            await google.colab.kernel.invokeFunction('convertToInteractive',\n",
       "                                                     [key], {});\n",
       "          if (!dataTable) return;\n",
       "\n",
       "          const docLinkHtml = 'Like what you see? Visit the ' +\n",
       "            '<a target=\"_blank\" href=https://colab.research.google.com/notebooks/data_table.ipynb>data table notebook</a>'\n",
       "            + ' to learn more about interactive tables.';\n",
       "          element.innerHTML = '';\n",
       "          dataTable['output_type'] = 'display_data';\n",
       "          await google.colab.output.renderOutput(dataTable, element);\n",
       "          const docLink = document.createElement('div');\n",
       "          docLink.innerHTML = docLinkHtml;\n",
       "          element.appendChild(docLink);\n",
       "        }\n",
       "      </script>\n",
       "    </div>\n",
       "  </div>\n",
       "  "
      ],
      "text/plain": [
       "                                                                                                              0\n",
       "Year                                               Combined_ID                                         0.854345\n",
       "How.satisfied.are.you.with.the.appearance.of.pa... How.satisfied.are.you.with.the.beauty.or.physic...  0.754148\n",
       "How.proud.are.you.to.be.a.Somerville.resident      How.satisfied.are.you.with.your.neighborhood        0.753011\n",
       "How.satisfied.are.you.with.the.beauty.or.physic... How.satisfied.are.you.with.your.neighborhood        0.715070\n",
       "How.safe.do.you.feel.walking.in.your.neighborho... How.satisfied.are.you.with.your.neighborhood        0.671378\n",
       "How.satisfied.are.you.with.your.neighborhood       How.satisfied.are.you.with.Somerville.as.a.plac...  0.670609\n",
       "How.satisfied.are.you.with.the.appearance.of.pa... How.satisfied.are.you.with.your.neighborhood        0.657052\n",
       "                                                   How.safe.do.you.feel.walking.in.your.neighborho...  0.638788\n",
       "How.satisfied.are.you.with.the.beauty.or.physic... How.safe.do.you.feel.walking.in.your.neighborho...  0.625255\n",
       "How.proud.are.you.to.be.a.Somerville.resident      How.satisfied.are.you.with.Somerville.as.a.plac...  0.606852"
      ]
     },
     "execution_count": 27,
     "metadata": {},
     "output_type": "execute_result"
    }
   ],
   "source": [
    "matrix = df2.corr()\n",
    "upper_corr_mat = matrix.where(\n",
    "    np.triu(np.ones(matrix.shape), k=1).astype(np.bool))\n",
    "unique_corr_pairs = upper_corr_mat.unstack().dropna()\n",
    "\n",
    "sorted_mat = unique_corr_pairs.sort_values(ascending=False)\n",
    "correlation=pd.DataFrame(sorted_mat)\n",
    "correlation.head(10)"
   ]
  },
  {
   "cell_type": "markdown",
   "metadata": {
    "id": "vviB3aTSfOo2"
   },
   "source": [
    "# Selected five classification algorithms.:\n",
    "\n",
    "\n",
    "*   K-Nearest Neighbors\n",
    "*   Decision Tree\n",
    "*   Naive Bayes\n",
    "*   Random Forest\n",
    "*   Neural network\n",
    "\n",
    "\n",
    "\n",
    "\n",
    "\n",
    "# For each classification algorithm, build a classification model from the preprocessed dataset and test it using 10-fold cross-validation, and collect and keep the performance result (details will be discussed later)."
   ]
  },
  {
   "cell_type": "code",
   "execution_count": null,
   "metadata": {
    "id": "GnTY6e46j3Sk"
   },
   "outputs": [],
   "source": [
    "Algorithms=['K-Nearest Neighbors','Decision Tree', 'Naive Bayes', 'Random Forest', 'Neural network']\n",
    "Cross_validation_scores=[]"
   ]
  },
  {
   "cell_type": "code",
   "execution_count": null,
   "metadata": {
    "id": "mT-IEy9vp038"
   },
   "outputs": [],
   "source": [
    "Somerville_happiness.to_csv('Dataset_after_preprocessing.csv')"
   ]
  },
  {
   "cell_type": "markdown",
   "metadata": {
    "id": "-6y6rJnXg7mO"
   },
   "source": [
    "# K-Nearest Neighbours"
   ]
  },
  {
   "cell_type": "code",
   "execution_count": null,
   "metadata": {
    "colab": {
     "base_uri": "https://localhost:8080/"
    },
    "executionInfo": {
     "elapsed": 1675,
     "status": "ok",
     "timestamp": 1649086959012,
     "user": {
      "displayName": "Sumit Dhaundiyal",
      "userId": "04065090477156492336"
     },
     "user_tz": 240
    },
    "id": "GIFKOUQZf4Nr",
    "outputId": "b048e568-e493-4b30-bc84-a878e7496124"
   },
   "outputs": [
    {
     "name": "stderr",
     "output_type": "stream",
     "text": [
      "/usr/local/lib/python3.7/dist-packages/ipykernel_launcher.py:8: FutureWarning: In a future version of pandas all arguments of DataFrame.drop except for the argument 'labels' will be keyword-only\n",
      "  \n"
     ]
    },
    {
     "name": "stdout",
     "output_type": "stream",
     "text": [
      "Accuracy: 0.952 (0.015)\n"
     ]
    }
   ],
   "source": [
    "from numpy import mean\n",
    "from numpy import std\n",
    "from sklearn.datasets import make_classification\n",
    "from sklearn.model_selection import KFold\n",
    "from sklearn.model_selection import cross_val_score\n",
    "from sklearn.neighbors import KNeighborsClassifier\n",
    "\n",
    "X = Somerville_happiness.drop(\"Class\",1)   #Feature Matrix\n",
    "y = Somerville_happiness[\"Class\"]      #Target Variable\n",
    "# prepare the cross-validation procedure\n",
    "cv = KFold(n_splits=10, random_state=1, shuffle=True)\n",
    "# create model\n",
    "KNN_model = KNeighborsClassifier(n_neighbors=3)\n",
    "# evaluate model\n",
    "scores = cross_val_score(KNN_model, X, y, scoring='accuracy', cv=cv, n_jobs=-1)\n",
    "# report performance\n",
    "print('Accuracy: %.3f (%.3f)' % (mean(scores), std(scores)))\n",
    "Cross_validation_scores.append(mean(scores))"
   ]
  },
  {
   "cell_type": "markdown",
   "metadata": {
    "id": "ImZnpgMdlagx"
   },
   "source": [
    "# Decision Tree"
   ]
  },
  {
   "cell_type": "code",
   "execution_count": null,
   "metadata": {
    "colab": {
     "base_uri": "https://localhost:8080/"
    },
    "executionInfo": {
     "elapsed": 203,
     "status": "ok",
     "timestamp": 1649086959208,
     "user": {
      "displayName": "Sumit Dhaundiyal",
      "userId": "04065090477156492336"
     },
     "user_tz": 240
    },
    "id": "xxBsF5CHldXq",
    "outputId": "7e9e2161-55b1-4063-b0ac-c21137b8a79c"
   },
   "outputs": [
    {
     "name": "stdout",
     "output_type": "stream",
     "text": [
      "Accuracy: 0.957 (0.023)\n"
     ]
    }
   ],
   "source": [
    "from sklearn import tree\n",
    "Decision_tree_model = tree.DecisionTreeClassifier()\n",
    "dt_scores = cross_val_score(Decision_tree_model, X, y, scoring='accuracy', cv=cv, n_jobs=-1)\n",
    "print('Accuracy: %.3f (%.3f)' % (mean(dt_scores), std(dt_scores)))\n",
    "Cross_validation_scores.append(mean(dt_scores))"
   ]
  },
  {
   "cell_type": "markdown",
   "metadata": {
    "id": "fnpvrHXjmEvj"
   },
   "source": [
    "# Naive Bayes"
   ]
  },
  {
   "cell_type": "code",
   "execution_count": null,
   "metadata": {
    "colab": {
     "base_uri": "https://localhost:8080/"
    },
    "executionInfo": {
     "elapsed": 5,
     "status": "ok",
     "timestamp": 1649086959208,
     "user": {
      "displayName": "Sumit Dhaundiyal",
      "userId": "04065090477156492336"
     },
     "user_tz": 240
    },
    "id": "d6EkdK6fmF4f",
    "outputId": "37261acc-743f-47d0-f139-e255f568ebbe"
   },
   "outputs": [
    {
     "name": "stdout",
     "output_type": "stream",
     "text": [
      "Accuracy: 0.959 (0.015)\n"
     ]
    }
   ],
   "source": [
    "from sklearn.naive_bayes import GaussianNB\n",
    "Naive_Bayes_model =  GaussianNB()\n",
    "nb_scores = cross_val_score(Naive_Bayes_model, X, y, scoring='accuracy', cv=cv, n_jobs=-1)\n",
    "print('Accuracy: %.3f (%.3f)' % (mean(nb_scores), std(nb_scores)))\n",
    "Cross_validation_scores.append(mean(nb_scores))"
   ]
  },
  {
   "cell_type": "markdown",
   "metadata": {
    "id": "50QvEE3smban"
   },
   "source": [
    "# Random Forest"
   ]
  },
  {
   "cell_type": "code",
   "execution_count": null,
   "metadata": {
    "colab": {
     "base_uri": "https://localhost:8080/"
    },
    "executionInfo": {
     "elapsed": 1973,
     "status": "ok",
     "timestamp": 1649086961179,
     "user": {
      "displayName": "Sumit Dhaundiyal",
      "userId": "04065090477156492336"
     },
     "user_tz": 240
    },
    "id": "zUqpdQrxmehZ",
    "outputId": "a67ded6c-9ccd-4e64-c082-7cc244e705d6"
   },
   "outputs": [
    {
     "name": "stdout",
     "output_type": "stream",
     "text": [
      "Accuracy: 0.976 (0.013)\n"
     ]
    }
   ],
   "source": [
    "from sklearn.ensemble import RandomForestClassifier\n",
    "Random_forest_model = RandomForestClassifier(max_depth=7, random_state=7)\n",
    "rf_scores = cross_val_score(Random_forest_model, X, y, scoring='accuracy', cv=cv, n_jobs=-1)\n",
    "print('Accuracy: %.3f (%.3f)' % (mean(rf_scores), std(rf_scores)))\n",
    "Cross_validation_scores.append(mean(rf_scores))"
   ]
  },
  {
   "cell_type": "markdown",
   "metadata": {
    "id": "MHqqeBOHlXoD"
   },
   "source": [
    "# Neural Network"
   ]
  },
  {
   "cell_type": "code",
   "execution_count": null,
   "metadata": {
    "colab": {
     "base_uri": "https://localhost:8080/"
    },
    "executionInfo": {
     "elapsed": 4208,
     "status": "ok",
     "timestamp": 1649086965375,
     "user": {
      "displayName": "Sumit Dhaundiyal",
      "userId": "04065090477156492336"
     },
     "user_tz": 240
    },
    "id": "dOS_FtB8kV1H",
    "outputId": "31afb116-d7af-4c9b-b7a4-422989789129"
   },
   "outputs": [
    {
     "name": "stdout",
     "output_type": "stream",
     "text": [
      "Accuracy: 0.892 (0.095)\n"
     ]
    }
   ],
   "source": [
    "from sklearn.neural_network import MLPClassifier\n",
    "neural_network_model = MLPClassifier(max_iter=500, random_state=7)\n",
    "nn_scores = cross_val_score(neural_network_model, X, y, scoring='accuracy', cv=cv, n_jobs=-1)\n",
    "print('Accuracy: %.3f (%.3f)' % (mean(nn_scores), std(nn_scores)))\n",
    "Cross_validation_scores.append(mean(nn_scores))"
   ]
  },
  {
   "cell_type": "code",
   "execution_count": null,
   "metadata": {
    "colab": {
     "base_uri": "https://localhost:8080/",
     "height": 206
    },
    "executionInfo": {
     "elapsed": 27,
     "status": "ok",
     "timestamp": 1649086965376,
     "user": {
      "displayName": "Sumit Dhaundiyal",
      "userId": "04065090477156492336"
     },
     "user_tz": 240
    },
    "id": "-pKOOlNMnOcu",
    "outputId": "76095f9f-3444-4d60-92fc-524f52167e80"
   },
   "outputs": [
    {
     "data": {
      "text/html": [
       "\n",
       "  <div id=\"df-fc13df7c-fe05-4eea-a005-1cb95ea64d13\">\n",
       "    <div class=\"colab-df-container\">\n",
       "      <div>\n",
       "<style scoped>\n",
       "    .dataframe tbody tr th:only-of-type {\n",
       "        vertical-align: middle;\n",
       "    }\n",
       "\n",
       "    .dataframe tbody tr th {\n",
       "        vertical-align: top;\n",
       "    }\n",
       "\n",
       "    .dataframe thead th {\n",
       "        text-align: right;\n",
       "    }\n",
       "</style>\n",
       "<table border=\"1\" class=\"dataframe\">\n",
       "  <thead>\n",
       "    <tr style=\"text-align: right;\">\n",
       "      <th></th>\n",
       "      <th>Algorithm</th>\n",
       "      <th>Cross Validation Scores</th>\n",
       "    </tr>\n",
       "  </thead>\n",
       "  <tbody>\n",
       "    <tr>\n",
       "      <th>0</th>\n",
       "      <td>K-Nearest Neighbors</td>\n",
       "      <td>0.952462</td>\n",
       "    </tr>\n",
       "    <tr>\n",
       "      <th>1</th>\n",
       "      <td>Decision Tree</td>\n",
       "      <td>0.956712</td>\n",
       "    </tr>\n",
       "    <tr>\n",
       "      <th>2</th>\n",
       "      <td>Naive Bayes</td>\n",
       "      <td>0.958840</td>\n",
       "    </tr>\n",
       "    <tr>\n",
       "      <th>3</th>\n",
       "      <td>Random Forest</td>\n",
       "      <td>0.975876</td>\n",
       "    </tr>\n",
       "    <tr>\n",
       "      <th>4</th>\n",
       "      <td>Neural network</td>\n",
       "      <td>0.891966</td>\n",
       "    </tr>\n",
       "  </tbody>\n",
       "</table>\n",
       "</div>\n",
       "      <button class=\"colab-df-convert\" onclick=\"convertToInteractive('df-fc13df7c-fe05-4eea-a005-1cb95ea64d13')\"\n",
       "              title=\"Convert this dataframe to an interactive table.\"\n",
       "              style=\"display:none;\">\n",
       "        \n",
       "  <svg xmlns=\"http://www.w3.org/2000/svg\" height=\"24px\"viewBox=\"0 0 24 24\"\n",
       "       width=\"24px\">\n",
       "    <path d=\"M0 0h24v24H0V0z\" fill=\"none\"/>\n",
       "    <path d=\"M18.56 5.44l.94 2.06.94-2.06 2.06-.94-2.06-.94-.94-2.06-.94 2.06-2.06.94zm-11 1L8.5 8.5l.94-2.06 2.06-.94-2.06-.94L8.5 2.5l-.94 2.06-2.06.94zm10 10l.94 2.06.94-2.06 2.06-.94-2.06-.94-.94-2.06-.94 2.06-2.06.94z\"/><path d=\"M17.41 7.96l-1.37-1.37c-.4-.4-.92-.59-1.43-.59-.52 0-1.04.2-1.43.59L10.3 9.45l-7.72 7.72c-.78.78-.78 2.05 0 2.83L4 21.41c.39.39.9.59 1.41.59.51 0 1.02-.2 1.41-.59l7.78-7.78 2.81-2.81c.8-.78.8-2.07 0-2.86zM5.41 20L4 18.59l7.72-7.72 1.47 1.35L5.41 20z\"/>\n",
       "  </svg>\n",
       "      </button>\n",
       "      \n",
       "  <style>\n",
       "    .colab-df-container {\n",
       "      display:flex;\n",
       "      flex-wrap:wrap;\n",
       "      gap: 12px;\n",
       "    }\n",
       "\n",
       "    .colab-df-convert {\n",
       "      background-color: #E8F0FE;\n",
       "      border: none;\n",
       "      border-radius: 50%;\n",
       "      cursor: pointer;\n",
       "      display: none;\n",
       "      fill: #1967D2;\n",
       "      height: 32px;\n",
       "      padding: 0 0 0 0;\n",
       "      width: 32px;\n",
       "    }\n",
       "\n",
       "    .colab-df-convert:hover {\n",
       "      background-color: #E2EBFA;\n",
       "      box-shadow: 0px 1px 2px rgba(60, 64, 67, 0.3), 0px 1px 3px 1px rgba(60, 64, 67, 0.15);\n",
       "      fill: #174EA6;\n",
       "    }\n",
       "\n",
       "    [theme=dark] .colab-df-convert {\n",
       "      background-color: #3B4455;\n",
       "      fill: #D2E3FC;\n",
       "    }\n",
       "\n",
       "    [theme=dark] .colab-df-convert:hover {\n",
       "      background-color: #434B5C;\n",
       "      box-shadow: 0px 1px 3px 1px rgba(0, 0, 0, 0.15);\n",
       "      filter: drop-shadow(0px 1px 2px rgba(0, 0, 0, 0.3));\n",
       "      fill: #FFFFFF;\n",
       "    }\n",
       "  </style>\n",
       "\n",
       "      <script>\n",
       "        const buttonEl =\n",
       "          document.querySelector('#df-fc13df7c-fe05-4eea-a005-1cb95ea64d13 button.colab-df-convert');\n",
       "        buttonEl.style.display =\n",
       "          google.colab.kernel.accessAllowed ? 'block' : 'none';\n",
       "\n",
       "        async function convertToInteractive(key) {\n",
       "          const element = document.querySelector('#df-fc13df7c-fe05-4eea-a005-1cb95ea64d13');\n",
       "          const dataTable =\n",
       "            await google.colab.kernel.invokeFunction('convertToInteractive',\n",
       "                                                     [key], {});\n",
       "          if (!dataTable) return;\n",
       "\n",
       "          const docLinkHtml = 'Like what you see? Visit the ' +\n",
       "            '<a target=\"_blank\" href=https://colab.research.google.com/notebooks/data_table.ipynb>data table notebook</a>'\n",
       "            + ' to learn more about interactive tables.';\n",
       "          element.innerHTML = '';\n",
       "          dataTable['output_type'] = 'display_data';\n",
       "          await google.colab.output.renderOutput(dataTable, element);\n",
       "          const docLink = document.createElement('div');\n",
       "          docLink.innerHTML = docLinkHtml;\n",
       "          element.appendChild(docLink);\n",
       "        }\n",
       "      </script>\n",
       "    </div>\n",
       "  </div>\n",
       "  "
      ],
      "text/plain": [
       "             Algorithm  Cross Validation Scores\n",
       "0  K-Nearest Neighbors                 0.952462\n",
       "1        Decision Tree                 0.956712\n",
       "2          Naive Bayes                 0.958840\n",
       "3        Random Forest                 0.975876\n",
       "4       Neural network                 0.891966"
      ]
     },
     "execution_count": 35,
     "metadata": {},
     "output_type": "execute_result"
    }
   ],
   "source": [
    "Cross_validation_scores_df = pd.DataFrame()\n",
    "Cross_validation_scores_df['Algorithm']=Algorithms\n",
    "Cross_validation_scores_df['Cross Validation Scores']=Cross_validation_scores\n",
    "Cross_validation_scores_df"
   ]
  },
  {
   "cell_type": "code",
   "execution_count": null,
   "metadata": {
    "colab": {
     "base_uri": "https://localhost:8080/",
     "height": 339
    },
    "executionInfo": {
     "elapsed": 286,
     "status": "ok",
     "timestamp": 1649086965638,
     "user": {
      "displayName": "Sumit Dhaundiyal",
      "userId": "04065090477156492336"
     },
     "user_tz": 240
    },
    "id": "ByZ2cZxcnuD9",
    "outputId": "1cd521c1-3f05-483f-ae1a-705befff2e02"
   },
   "outputs": [
    {
     "name": "stderr",
     "output_type": "stream",
     "text": [
      "*c* argument looks like a single numeric RGB or RGBA sequence, which should be avoided as value-mapping will have precedence in case its length matches with *x* & *y*.  Please use the *color* keyword-argument or provide a 2-D array with a single row if you intend to specify the same RGB or RGBA value for all points.\n"
     ]
    },
    {
     "data": {
      "image/png": "[encoded data removed]",
      "text/plain": [
       "<Figure size 720x288 with 1 Axes>"
      ]
     },
     "metadata": {},
     "output_type": "display_data"
    }
   ],
   "source": [
    "import pandas as pd\n",
    "import matplotlib.pyplot as plt\n",
    "\n",
    "scatter_plot=Cross_validation_scores_df.plot.scatter(x='Algorithm',y='Cross Validation Scores',s=50,colormap='viridis', figsize=(10, 4))\n",
    "scatter_plot.plot()\n",
    "plt.title('Accuracy Scores of classification algorithms')\n",
    "plt.show()"
   ]
  },
  {
   "cell_type": "markdown",
   "metadata": {
    "id": "UQa7Qb1ItT1N"
   },
   "source": [
    "# Spliting Data into Training and Testing set"
   ]
  },
  {
   "cell_type": "code",
   "execution_count": null,
   "metadata": {
    "id": "-2tOBiaEtXx5"
   },
   "outputs": [],
   "source": [
    "import numpy as np\n",
    "from sklearn.model_selection import train_test_split\n",
    "X_train, X_test, y_train, y_test = train_test_split(X, y, test_size=0.33, random_state=42)"
   ]
  },
  {
   "cell_type": "code",
   "execution_count": null,
   "metadata": {
    "colab": {
     "base_uri": "https://localhost:8080/"
    },
    "executionInfo": {
     "elapsed": 19,
     "status": "ok",
     "timestamp": 1649086965639,
     "user": {
      "displayName": "Sumit Dhaundiyal",
      "userId": "04065090477156492336"
     },
     "user_tz": 240
    },
    "id": "i-ODSMHlCLzb",
    "outputId": "a9028152-68cd-49d3-e43c-c23728183866"
   },
   "outputs": [
    {
     "data": {
      "text/plain": [
       "dtype('int64')"
      ]
     },
     "execution_count": 38,
     "metadata": {},
     "output_type": "execute_result"
    }
   ],
   "source": [
    "y_train.dtype"
   ]
  },
  {
   "cell_type": "code",
   "execution_count": null,
   "metadata": {
    "id": "5eJsSKe5DlNT"
   },
   "outputs": [],
   "source": [
    "y_train_list=y_train.copy()"
   ]
  },
  {
   "cell_type": "code",
   "execution_count": null,
   "metadata": {
    "id": "B5oEeWWqBhU4"
   },
   "outputs": [],
   "source": [
    "y_train_list=y_train.copy()\n",
    "y_test_list=y_test.copy()\n",
    "Training_set_df=X_train.copy()\n",
    "Training_set_df['Class']=list(y_train_list)\n",
    "Training_set_df.to_csv(\"Initial_training_dataset.csv\")\n",
    "Test_set_df=X_test.copy()\n",
    "Test_set_df['Class']=list(y_test_list)\n",
    "Test_set_df.to_csv(\"Initial_test_dataset.csv\")"
   ]
  },
  {
   "cell_type": "markdown",
   "metadata": {
    "id": "NnfCUtzmz62x"
   },
   "source": [
    "## Scaling Data"
   ]
  },
  {
   "cell_type": "code",
   "execution_count": null,
   "metadata": {
    "id": "cTTtuX_Ez6QU"
   },
   "outputs": [],
   "source": [
    "from sklearn.preprocessing import StandardScaler\n",
    "scaler = StandardScaler()"
   ]
  },
  {
   "cell_type": "code",
   "execution_count": null,
   "metadata": {
    "id": "WGH7QBMY8t3w"
   },
   "outputs": [],
   "source": [
    "X_train = scaler.fit_transform(X_train.to_numpy())\n",
    "X_train = pd.DataFrame(X_train, columns=['Combined_ID', 'Year',\n",
    "       'How.satisfied.are.you.with.your.life.in.general',\n",
    "       'How.satisfied.are.you.with.Somerville.as.a.place.to.live',\n",
    "       'How.satisfied.are.you.with.your.neighborhood',\n",
    "       'How.proud.are.you.to.be.a.Somerville.resident',\n",
    "       'How.would.you.rate.the.following..The.availability.of.information.about.city.services',\n",
    "       'How.would.you.rate.the.following..The.cost.of.housing',\n",
    "       'How.would.you.rate.the.following..The.overall.quality.of.public.schools',\n",
    "       'How.would.you.rate.the.following..Your.trust.in.the.local.police',\n",
    "       'How.would.you.rate.the.following..The.maintenance.of.streets.and.sidewalks',\n",
    "       'How.would.you.rate.the.following..The.availability.of.social.community.events',\n",
    "       'How.safe.do.you.feel.walking.in.your.neighborhood.at.night',\n",
    "       'How.satisfied.are.you.with.the.beauty.or.physical.setting.of.your.neighborhood',\n",
    "       'How.satisfied.are.you.with.the.appearance.of.parks.and.squares.in.your.neighborhood',\n",
    "       'What.is.your.gender', 'Age', 'What.is.your.race.or.ethnicity',\n",
    "       'Do.you.have.children.age.18.or.younger.who.live.with.you',\n",
    "       'Describe.your.housing.status.in.Somerville',\n",
    "       'Do.you.plan.to.move.away.from.Somerville.in.the.next.two.years',\n",
    "       'How.long.have.you.lived.here', 'What.is.your.annual.household.income',\n",
    "       'Are.you.a.student', 'How.anxious.did.you.feel.yesterday',\n",
    "       'How.satisfied.are.you.with.the.quality.and.number.of.transportation.options.available.to.you',\n",
    "       'Language', 'What.languages.do.you.speak.at.home'])\n",
    "X_test = scaler.fit_transform(X_test.to_numpy())\n",
    "X_test = pd.DataFrame(X_test, columns=[ 'Combined_ID', 'Year',\n",
    "       'How.satisfied.are.you.with.your.life.in.general',\n",
    "       'How.satisfied.are.you.with.Somerville.as.a.place.to.live',\n",
    "       'How.satisfied.are.you.with.your.neighborhood',\n",
    "       'How.proud.are.you.to.be.a.Somerville.resident',\n",
    "       'How.would.you.rate.the.following..The.availability.of.information.about.city.services',\n",
    "       'How.would.you.rate.the.following..The.cost.of.housing',\n",
    "       'How.would.you.rate.the.following..The.overall.quality.of.public.schools',\n",
    "       'How.would.you.rate.the.following..Your.trust.in.the.local.police',\n",
    "       'How.would.you.rate.the.following..The.maintenance.of.streets.and.sidewalks',\n",
    "       'How.would.you.rate.the.following..The.availability.of.social.community.events',\n",
    "       'How.safe.do.you.feel.walking.in.your.neighborhood.at.night',\n",
    "       'How.satisfied.are.you.with.the.beauty.or.physical.setting.of.your.neighborhood',\n",
    "       'How.satisfied.are.you.with.the.appearance.of.parks.and.squares.in.your.neighborhood',\n",
    "       'What.is.your.gender', 'Age', 'What.is.your.race.or.ethnicity',\n",
    "       'Do.you.have.children.age.18.or.younger.who.live.with.you',\n",
    "       'Describe.your.housing.status.in.Somerville',\n",
    "       'Do.you.plan.to.move.away.from.Somerville.in.the.next.two.years',\n",
    "       'How.long.have.you.lived.here', 'What.is.your.annual.household.income',\n",
    "       'Are.you.a.student', 'How.anxious.did.you.feel.yesterday',\n",
    "       'How.satisfied.are.you.with.the.quality.and.number.of.transportation.options.available.to.you',\n",
    "       'Language', 'What.languages.do.you.speak.at.home'])"
   ]
  },
  {
   "cell_type": "markdown",
   "metadata": {
    "id": "Qji0whI3o0Eq"
   },
   "source": [
    "# Choose five attribution selection methods and prepare five reduced training datasets."
   ]
  },
  {
   "cell_type": "markdown",
   "metadata": {
    "id": "BuhU7pUPo7sh"
   },
   "source": [
    "### 1. Choosing top five attributes based on Pearson Correlation"
   ]
  },
  {
   "cell_type": "code",
   "execution_count": null,
   "metadata": {
    "colab": {
     "base_uri": "https://localhost:8080/"
    },
    "executionInfo": {
     "elapsed": 16,
     "status": "ok",
     "timestamp": 1649086965643,
     "user": {
      "displayName": "Sumit Dhaundiyal",
      "userId": "04065090477156492336"
     },
     "user_tz": 240
    },
    "id": "7-HeOnkKo0-m",
    "outputId": "606f7e13-faf9-4532-bb71-e9f6f9f93717"
   },
   "outputs": [
    {
     "name": "stdout",
     "output_type": "stream",
     "text": [
      "Attributes selected based on Pearson Correlation are \n"
     ]
    },
    {
     "data": {
      "text/plain": [
       "['How.satisfied.are.you.with.Somerville.as.a.place.to.live',\n",
       " 'How.satisfied.are.you.with.the.beauty.or.physical.setting.of.your.neighborhood',\n",
       " 'How.safe.do.you.feel.walking.in.your.neighborhood.at.night',\n",
       " 'How.would.you.rate.the.following..The.availability.of.social.community.events',\n",
       " 'How.satisfied.are.you.with.the.quality.and.number.of.transportation.options.available.to.you',\n",
       " 'Combined_ID',\n",
       " 'Year',\n",
       " 'How.satisfied.are.you.with.your.life.in.general',\n",
       " 'How.satisfied.are.you.with.your.neighborhood',\n",
       " 'How.proud.are.you.to.be.a.Somerville.resident']"
      ]
     },
     "execution_count": 43,
     "metadata": {},
     "output_type": "execute_result"
    }
   ],
   "source": [
    "import numpy as np\n",
    "\n",
    "def cor_selector(X, y,num_feats):\n",
    "    cor_list = []\n",
    "    feature_name = X.columns.tolist()\n",
    "    # Correlation\n",
    "    for i in X.columns.tolist():\n",
    "        cor = np.corrcoef(X[i], y)[0, 1]\n",
    "        cor_list.append(cor)\n",
    "    cor_list = [0 if np.isnan(i) else i for i in cor_list]\n",
    "    cor_feature = X.iloc[:,np.argsort(np.abs(cor_list))[-num_feats:]].columns.tolist()\n",
    "    cor_support = [True if i in cor_feature else False for i in feature_name]\n",
    "    return cor_support, cor_feature\n",
    "cor_support, cor_feature = cor_selector(X_train, y_train,10)\n",
    "print(\"Attributes selected based on Pearson Correlation are \")\n",
    "cor_feature"
   ]
  },
  {
   "cell_type": "markdown",
   "metadata": {
    "id": "62qec7d5pWxf"
   },
   "source": [
    "### 2. Choosing top five attributes based on variables with maximum chi-squared values"
   ]
  },
  {
   "cell_type": "code",
   "execution_count": null,
   "metadata": {
    "colab": {
     "base_uri": "https://localhost:8080/"
    },
    "executionInfo": {
     "elapsed": 176,
     "status": "ok",
     "timestamp": 1649086965807,
     "user": {
      "displayName": "Sumit Dhaundiyal",
      "userId": "04065090477156492336"
     },
     "user_tz": 240
    },
    "id": "bKsXnjstpU94",
    "outputId": "12f6b5b7-6f29-4ccf-8c8e-3dfcdebbb6a8"
   },
   "outputs": [
    {
     "name": "stdout",
     "output_type": "stream",
     "text": [
      "Attributes selected based on chi-squared are \n"
     ]
    },
    {
     "data": {
      "text/plain": [
       "['Combined_ID',\n",
       " 'Year',\n",
       " 'How.satisfied.are.you.with.your.life.in.general',\n",
       " 'How.satisfied.are.you.with.Somerville.as.a.place.to.live',\n",
       " 'How.satisfied.are.you.with.your.neighborhood',\n",
       " 'How.proud.are.you.to.be.a.Somerville.resident',\n",
       " 'How.would.you.rate.the.following..The.cost.of.housing',\n",
       " 'How.satisfied.are.you.with.the.beauty.or.physical.setting.of.your.neighborhood',\n",
       " 'What.is.your.annual.household.income',\n",
       " 'How.satisfied.are.you.with.the.quality.and.number.of.transportation.options.available.to.you']"
      ]
     },
     "execution_count": 44,
     "metadata": {},
     "output_type": "execute_result"
    }
   ],
   "source": [
    "from sklearn.feature_selection import SelectKBest\n",
    "from sklearn.feature_selection import chi2\n",
    "from sklearn.preprocessing import MinMaxScaler\n",
    "X_norm = MinMaxScaler().fit_transform(X_train)\n",
    "chi_selector = SelectKBest(chi2, k=10)\n",
    "chi_selector.fit(X_norm, y_train)\n",
    "chi_support = chi_selector.get_support()\n",
    "chi_feature = X_train.loc[:,chi_support].columns.tolist()\n",
    "print(\"Attributes selected based on chi-squared are \")\n",
    "chi_feature"
   ]
  },
  {
   "cell_type": "markdown",
   "metadata": {
    "id": "xJ8Zi-lypiAx"
   },
   "source": [
    "### 3. Choosing top five attributes based on Recursive Feature Elimination"
   ]
  },
  {
   "cell_type": "code",
   "execution_count": null,
   "metadata": {
    "colab": {
     "base_uri": "https://localhost:8080/"
    },
    "executionInfo": {
     "elapsed": 12,
     "status": "ok",
     "timestamp": 1649086965808,
     "user": {
      "displayName": "Sumit Dhaundiyal",
      "userId": "04065090477156492336"
     },
     "user_tz": 240
    },
    "id": "nb2BkJAtqCUP",
    "outputId": "19566b49-51eb-4b0f-b797-698ee465e98f"
   },
   "outputs": [
    {
     "name": "stdout",
     "output_type": "stream",
     "text": [
      "Fitting estimator with 28 features.\n",
      "Fitting estimator with 18 features.\n",
      "Attributes selected based on Recursive Feature Elimination are \n"
     ]
    },
    {
     "data": {
      "text/plain": [
       "['How.satisfied.are.you.with.your.life.in.general',\n",
       " 'How.proud.are.you.to.be.a.Somerville.resident',\n",
       " 'How.would.you.rate.the.following..The.cost.of.housing',\n",
       " 'How.would.you.rate.the.following..The.overall.quality.of.public.schools',\n",
       " 'How.would.you.rate.the.following..Your.trust.in.the.local.police',\n",
       " 'How.safe.do.you.feel.walking.in.your.neighborhood.at.night',\n",
       " 'How.satisfied.are.you.with.the.appearance.of.parks.and.squares.in.your.neighborhood',\n",
       " 'How.long.have.you.lived.here',\n",
       " 'How.anxious.did.you.feel.yesterday',\n",
       " 'How.satisfied.are.you.with.the.quality.and.number.of.transportation.options.available.to.you']"
      ]
     },
     "execution_count": 45,
     "metadata": {},
     "output_type": "execute_result"
    }
   ],
   "source": [
    "from sklearn.feature_selection import RFE\n",
    "from sklearn.tree import DecisionTreeClassifier\n",
    "rfe_selector = RFE(estimator=DecisionTreeClassifier(), n_features_to_select=10, step=10, verbose=5)\n",
    "rfe_selector.fit(X_norm, y_train)\n",
    "rfe_support = rfe_selector.get_support()\n",
    "rfe_feature = X_train.loc[:,rfe_support].columns.tolist()\n",
    "print(\"Attributes selected based on Recursive Feature Elimination are \")\n",
    "rfe_feature"
   ]
  },
  {
   "cell_type": "markdown",
   "metadata": {
    "id": "nkUOYErnqC0s"
   },
   "source": [
    "### 4. Choosing top five attributes based on Lasso: SelectFromModel"
   ]
  },
  {
   "cell_type": "code",
   "execution_count": null,
   "metadata": {
    "colab": {
     "base_uri": "https://localhost:8080/"
    },
    "executionInfo": {
     "elapsed": 7,
     "status": "ok",
     "timestamp": 1649086965808,
     "user": {
      "displayName": "Sumit Dhaundiyal",
      "userId": "04065090477156492336"
     },
     "user_tz": 240
    },
    "id": "oZPTVy0fqGTx",
    "outputId": "d145b802-a37b-4ebb-b09b-8df4e30ed3cc"
   },
   "outputs": [
    {
     "name": "stdout",
     "output_type": "stream",
     "text": [
      "Attributes selected based on Lasso: SelectFromModel are \n"
     ]
    },
    {
     "data": {
      "text/plain": [
       "['Year',\n",
       " 'How.satisfied.are.you.with.your.life.in.general',\n",
       " 'How.satisfied.are.you.with.your.neighborhood',\n",
       " 'How.proud.are.you.to.be.a.Somerville.resident',\n",
       " 'Age',\n",
       " 'Describe.your.housing.status.in.Somerville',\n",
       " 'How.anxious.did.you.feel.yesterday',\n",
       " 'How.satisfied.are.you.with.the.quality.and.number.of.transportation.options.available.to.you']"
      ]
     },
     "execution_count": 46,
     "metadata": {},
     "output_type": "execute_result"
    }
   ],
   "source": [
    "from sklearn.feature_selection import SelectFromModel\n",
    "from sklearn.linear_model import LogisticRegression\n",
    "\n",
    "embeded_lr_selector = SelectFromModel(LogisticRegression(), max_features=10)\n",
    "embeded_lr_selector.fit(X_norm, y_train) \n",
    "\n",
    "embeded_lr_support = embeded_lr_selector.get_support()\n",
    "embeded_lr_feature = X_train.loc[:,embeded_lr_support].columns.tolist()\n",
    "print(\"Attributes selected based on Lasso: SelectFromModel are \")\n",
    "embeded_lr_feature"
   ]
  },
  {
   "cell_type": "markdown",
   "metadata": {
    "id": "ZEIMk0hYqUiK"
   },
   "source": [
    " ### 5. Choosing top five attributes based on Tree-based: SelectFromModel"
   ]
  },
  {
   "cell_type": "code",
   "execution_count": null,
   "metadata": {
    "colab": {
     "base_uri": "https://localhost:8080/"
    },
    "executionInfo": {
     "elapsed": 155,
     "status": "ok",
     "timestamp": 1649086965959,
     "user": {
      "displayName": "Sumit Dhaundiyal",
      "userId": "04065090477156492336"
     },
     "user_tz": 240
    },
    "id": "yXiElmAkqSHC",
    "outputId": "49fcd4db-31a0-4762-ff71-a58f25ab1ad7"
   },
   "outputs": [
    {
     "name": "stdout",
     "output_type": "stream",
     "text": [
      "Attributes selected based on Tree-based: SelectFromModel are \n"
     ]
    },
    {
     "data": {
      "text/plain": [
       "['Combined_ID',\n",
       " 'Year',\n",
       " 'How.satisfied.are.you.with.your.life.in.general',\n",
       " 'How.satisfied.are.you.with.your.neighborhood',\n",
       " 'How.proud.are.you.to.be.a.Somerville.resident',\n",
       " 'How.anxious.did.you.feel.yesterday',\n",
       " 'How.satisfied.are.you.with.the.quality.and.number.of.transportation.options.available.to.you']"
      ]
     },
     "execution_count": 47,
     "metadata": {},
     "output_type": "execute_result"
    }
   ],
   "source": [
    "from sklearn.feature_selection import SelectFromModel\n",
    "from sklearn.ensemble import ExtraTreesClassifier\n",
    "\n",
    "embeded_rf_selector = SelectFromModel(ExtraTreesClassifier(n_estimators=100), max_features=20)\n",
    "embeded_rf_selector.fit(X_train, y_train)\n",
    "\n",
    "embeded_rf_support = embeded_rf_selector.get_support()\n",
    "embeded_rf_feature = X_train.loc[:,embeded_rf_support].columns.tolist()\n",
    "print(\"Attributes selected based on Tree-based: SelectFromModel are \")\n",
    "embeded_rf_feature"
   ]
  },
  {
   "cell_type": "code",
   "execution_count": null,
   "metadata": {
    "id": "BFanx-6Fw6HI"
   },
   "outputs": [],
   "source": [
    "Reduced_train_Set_X1=X_train[X_train.columns[X_train.columns.isin(cor_feature)]]\n",
    "Reduced_test_Set_X1=X_test[X_test.columns[X_test.columns.isin(cor_feature)]]\n",
    "\n",
    "Reduced_train_Set_X2=X_train[X_train.columns[X_train.columns.isin(chi_feature)]]\n",
    "Reduced_test_Set_X2=X_test[X_test.columns[X_test.columns.isin(chi_feature)]]\n",
    "\n",
    "Reduced_train_Set_X3=X_train[X_train.columns[X_train.columns.isin(rfe_feature)]]\n",
    "Reduced_test_Set_X3=X_test[X_test.columns[X_test.columns.isin(rfe_feature)]]\n",
    "\n",
    "Reduced_train_Set_X4=X_train[X_train.columns[X_train.columns.isin(embeded_lr_feature)]]\n",
    "Reduced_test_Set_X4=X_test[X_test.columns[X_test.columns.isin(embeded_lr_feature)]]\n",
    "\n",
    "\n",
    "Reduced_train_Set_X5=X_train[X_train.columns[X_train.columns.isin(embeded_rf_feature)]]\n",
    "Reduced_test_Set_X5=X_test[X_test.columns[X_test.columns.isin(embeded_rf_feature)]]"
   ]
  },
  {
   "cell_type": "code",
   "execution_count": null,
   "metadata": {
    "id": "YA62rQIS2Xh-"
   },
   "outputs": [],
   "source": [
    "All_scores = pd.DataFrame({'Algorithm' : [],'Reduced set':[],'precision': [],'recall':[],'fscore':[],'support':[]})\n",
    "#All_scores = pd.DataFrame({'Algorithm' : [],'Reduced set':[],'precision': [],'recall':[],'fscore':[],'support':[],'True Positive rate':[],'False Positive rate':[],'ROC':[]})"
   ]
  },
  {
   "cell_type": "markdown",
   "metadata": {
    "id": "KohFZQnkycc9"
   },
   "source": [
    "## Classification models for reduced Training set 1"
   ]
  },
  {
   "cell_type": "markdown",
   "metadata": {
    "id": "Z06i3g004k1y"
   },
   "source": [
    "#### K-Nearest Neighbors"
   ]
  },
  {
   "cell_type": "code",
   "execution_count": null,
   "metadata": {
    "colab": {
     "base_uri": "https://localhost:8080/"
    },
    "executionInfo": {
     "elapsed": 157,
     "status": "ok",
     "timestamp": 1649086966109,
     "user": {
      "displayName": "Sumit Dhaundiyal",
      "userId": "04065090477156492336"
     },
     "user_tz": 240
    },
    "id": "1xjp_c6-xt8g",
    "outputId": "f64f25ba-1ba3-4fbe-de00-00c5cb698426"
   },
   "outputs": [
    {
     "name": "stdout",
     "output_type": "stream",
     "text": [
      "-------Confusion Matrix---------\n",
      "[[226   2]\n",
      " [ 21 216]]\n",
      "\t---TP-----FP-----ROC-----MCC---\n",
      "Class 0 :  0.91   0.09   0.05   0.83\n",
      "Class 1 :  0.99   0.01   0.95   0.98\n",
      "              precision    recall  f1-score   support\n",
      "\n",
      "           0       0.91      0.99      0.95       228\n",
      "           1       0.99      0.91      0.95       237\n",
      "\n",
      "    accuracy                           0.95       465\n",
      "   macro avg       0.95      0.95      0.95       465\n",
      "weighted avg       0.95      0.95      0.95       465\n",
      "\n"
     ]
    }
   ],
   "source": [
    "# KNN\n",
    "import sklearn.metrics\n",
    "KNNclassifier = KNeighborsClassifier(n_neighbors=5)\n",
    "KNNclassifier.fit(Reduced_train_Set_X1, y_train)\n",
    "y_pred = KNNclassifier.predict(Reduced_test_Set_X1)\n",
    "precision,recall,fscore,support=score(y_test,y_pred)\n",
    "\n",
    "All_scores.loc[-1] = ['K-Nearest Neighbors','Reduced set 1',np.round(np.mean(precision),3),np.round(np.mean(recall),3),np.round(np.mean(fscore),3),np.round(np.mean(support),3)]  \n",
    "All_scores.index = All_scores.index + 1 \n",
    "All_scores = All_scores.sort_index()\n",
    "print(\"-------Confusion Matrix---------\")\n",
    "tn, fp, fn, tp = confusion_matrix(y_test, y_pred).ravel()\n",
    "print(confusion_matrix(y_test, y_pred))\n",
    "\n",
    "fpr = {}\n",
    "tpr = {}\n",
    "roc_auc={}\n",
    "thresh ={}\n",
    "n_class = 2\n",
    "for i in range(n_class):    \n",
    "    fpr[i], tpr[i], thresh[i] = sklearn.metrics.roc_curve(y_test, y_pred, pos_label=i)\n",
    "    roc_auc[i] = sklearn.metrics.auc(fpr[i], tpr[i])\n",
    "\n",
    "print(\"\\t---TP-----FP-----ROC-----MCC---\")\n",
    "print(\"Class 0 : \",np.round(tn/(tn+fn),2),\" \",np.round(fn/(tn+fn),2),\" \",np.round(roc_auc[0],2),\" \",np.round((tn-fn)/(tn+fn),2))    \n",
    "print(\"Class 1 : \",np.round(tp/(tp+fp),2),\" \",np.round(fp/(tp+fp),2),\" \",np.round(roc_auc[1],2),\" \",np.round((tp-fp)/(tp+fp),2))\n",
    "  \n",
    "print(classification_report(y_test, y_pred))    "
   ]
  },
  {
   "cell_type": "markdown",
   "metadata": {
    "id": "zDeTAWbF4nV0"
   },
   "source": [
    "#### Decision Tree"
   ]
  },
  {
   "cell_type": "code",
   "execution_count": null,
   "metadata": {
    "colab": {
     "base_uri": "https://localhost:8080/"
    },
    "executionInfo": {
     "elapsed": 10,
     "status": "ok",
     "timestamp": 1649086966110,
     "user": {
      "displayName": "Sumit Dhaundiyal",
      "userId": "04065090477156492336"
     },
     "user_tz": 240
    },
    "id": "i_3x48HN3cRK",
    "outputId": "a846b31e-b84f-44a7-defb-db4ff05b9386"
   },
   "outputs": [
    {
     "name": "stdout",
     "output_type": "stream",
     "text": [
      "-------Confusion Matrix---------\n",
      "[[218  10]\n",
      " [  4 233]]\n",
      "\t---TP-----FP-----ROC-----MCC---\n",
      "Class 0 :  0.98   0.02   0.03   0.96\n",
      "Class 1 :  0.96   0.04   0.97   0.92\n",
      "              precision    recall  f1-score   support\n",
      "\n",
      "           0       0.98      0.96      0.97       228\n",
      "           1       0.96      0.98      0.97       237\n",
      "\n",
      "    accuracy                           0.97       465\n",
      "   macro avg       0.97      0.97      0.97       465\n",
      "weighted avg       0.97      0.97      0.97       465\n",
      "\n"
     ]
    }
   ],
   "source": [
    "# Decision Tree\n",
    "\n",
    "DecisionTreeclassifier = tree.DecisionTreeRegressor()\n",
    "DecisionTreeclassifier.fit(Reduced_train_Set_X1, y_train)\n",
    "y_pred = DecisionTreeclassifier.predict(Reduced_test_Set_X1)\n",
    "precision,recall,fscore,support=score(y_test,y_pred,average='macro')\n",
    "if support==None:\n",
    "   support=0.00\n",
    "All_scores.loc[-1] = ['Decision Tree','Reduced set 1',np.round(precision,3),np.round(recall,3),np.round(fscore,3),np.round(support,3)]  \n",
    "All_scores.index = All_scores.index + 1 \n",
    "All_scores = All_scores.sort_index()\n",
    "print(\"-------Confusion Matrix---------\")\n",
    "tn, fp, fn, tp = confusion_matrix(y_test, y_pred).ravel()\n",
    "print(confusion_matrix(y_test, y_pred))\n",
    "\n",
    "\n",
    "fpr = {}\n",
    "tpr = {}\n",
    "roc_auc={}\n",
    "thresh ={}\n",
    "n_class = 2\n",
    "for i in range(n_class):    \n",
    "    fpr[i], tpr[i], thresh[i] = sklearn.metrics.roc_curve(y_test, y_pred, pos_label=i)\n",
    "    roc_auc[i] = sklearn.metrics.auc(fpr[i], tpr[i])\n",
    "print(\"\\t---TP-----FP-----ROC-----MCC---\")\n",
    "print(\"Class 0 : \",np.round(tn/(tn+fn),2),\" \",np.round(fn/(tn+fn),2),\" \",np.round(roc_auc[0],2),\" \",np.round((tn-fn)/(tn+fn),2))    \n",
    "print(\"Class 1 : \",np.round(tp/(tp+fp),2),\" \",np.round(fp/(tp+fp),2),\" \",np.round(roc_auc[1],2),\" \",np.round((tp-fp)/(tp+fp),2))\n",
    " \n",
    "print(classification_report(y_test, y_pred))   "
   ]
  },
  {
   "cell_type": "markdown",
   "metadata": {
    "id": "J2Ihg76W44Qh"
   },
   "source": [
    "#### Naive Bayes"
   ]
  },
  {
   "cell_type": "code",
   "execution_count": null,
   "metadata": {
    "colab": {
     "base_uri": "https://localhost:8080/"
    },
    "executionInfo": {
     "elapsed": 277,
     "status": "ok",
     "timestamp": 1649086966382,
     "user": {
      "displayName": "Sumit Dhaundiyal",
      "userId": "04065090477156492336"
     },
     "user_tz": 240
    },
    "id": "9083ZkIp2SCT",
    "outputId": "88c4c09f-7c79-4a96-e75d-df3a8d06f05e"
   },
   "outputs": [
    {
     "name": "stdout",
     "output_type": "stream",
     "text": [
      "-------Confusion Matrix---------\n",
      "[[  0 228]\n",
      " [  0 237]]\n",
      "\t---TP-----FP-----ROC-----MCC---\n",
      "Class 0 :  nan   nan   0.5   nan\n",
      "Class 1 :  0.51   0.49   0.5   0.02\n",
      "              precision    recall  f1-score   support\n",
      "\n",
      "           0       0.00      0.00      0.00       228\n",
      "           1       0.51      1.00      0.68       237\n",
      "\n",
      "    accuracy                           0.51       465\n",
      "   macro avg       0.25      0.50      0.34       465\n",
      "weighted avg       0.26      0.51      0.34       465\n",
      "\n"
     ]
    },
    {
     "name": "stderr",
     "output_type": "stream",
     "text": [
      "/usr/local/lib/python3.7/dist-packages/sklearn/metrics/_classification.py:1318: UndefinedMetricWarning: Precision and F-score are ill-defined and being set to 0.0 in labels with no predicted samples. Use `zero_division` parameter to control this behavior.\n",
      "  _warn_prf(average, modifier, msg_start, len(result))\n",
      "/usr/local/lib/python3.7/dist-packages/sklearn/metrics/_classification.py:1318: UndefinedMetricWarning: Precision and F-score are ill-defined and being set to 0.0 in labels with no predicted samples. Use `zero_division` parameter to control this behavior.\n",
      "  _warn_prf(average, modifier, msg_start, len(result))\n",
      "/usr/local/lib/python3.7/dist-packages/sklearn/metrics/_classification.py:1318: UndefinedMetricWarning: Precision and F-score are ill-defined and being set to 0.0 in labels with no predicted samples. Use `zero_division` parameter to control this behavior.\n",
      "  _warn_prf(average, modifier, msg_start, len(result))\n",
      "/usr/local/lib/python3.7/dist-packages/sklearn/metrics/_classification.py:1318: UndefinedMetricWarning: Precision and F-score are ill-defined and being set to 0.0 in labels with no predicted samples. Use `zero_division` parameter to control this behavior.\n",
      "  _warn_prf(average, modifier, msg_start, len(result))\n"
     ]
    }
   ],
   "source": [
    "# Naive Bayes\n",
    "\n",
    "NaiveBayesclassifier = GaussianNB()\n",
    "NaiveBayesclassifier.fit(Reduced_train_Set_X1, y_train)\n",
    "y_pred = NaiveBayesclassifier.predict(Reduced_test_Set_X1)\n",
    "precision,recall,fscore,support=score(y_test,y_pred,average='macro')\n",
    "if support==None:\n",
    "   support=0.00\n",
    "All_scores.loc[-1] = ['Naive Bayes','Reduced set 1',np.round(precision,3),np.round(recall,3),np.round(fscore,3),np.round(support,3)]  \n",
    "All_scores.index = All_scores.index + 1 \n",
    "All_scores = All_scores.sort_index()\n",
    "print(\"-------Confusion Matrix---------\")\n",
    "tn, fp, fn, tp = confusion_matrix(y_test, y_pred).ravel()\n",
    "print(confusion_matrix(y_test, y_pred))\n",
    "\n",
    "fpr = {}\n",
    "tpr = {}\n",
    "roc_auc={}\n",
    "thresh ={}\n",
    "n_class = 2\n",
    "for i in range(n_class):    \n",
    "    fpr[i], tpr[i], thresh[++i] = sklearn.metrics.roc_curve(y_test, y_pred, pos_label=i)\n",
    "    roc_auc[i] = sklearn.metrics.auc(fpr[i], tpr[i])\n",
    "print(\"\\t---TP-----FP-----ROC-----MCC---\")\n",
    "fpr[i], tpr[i], thresh[++i] = sklearn.metrics.roc_curve(y_test, y_pred, pos_label=i)\n",
    "    roc_auc[i] = sklearn.metrics.auc(fpr[i], tpr[i])\n",
    "print(\"Class 0 : \",np.round(tn/(tn+fn),2),\" \",np.round(fn/(tn+fn),2),\" \",np.round(roc_auc[0],2),\" \",np.round((tn-fn)/(tn+fn),2))    \n",
    "print(\"Class 1 : \",np.round(tp/(tp+fp),2),\" \",np.round(fp/(tp+fp),2),\" \",np.round(roc_auc[1],2),\" \",np.round((tp-fp)/(tp+fp),2))\n",
    "\n",
    "print(classification_report(y_test, y_pred))   "
   ]
  },
  {
   "cell_type": "markdown",
   "metadata": {
    "id": "fvM6ewe95Nw6"
   },
   "source": [
    "#### Random Forest"
   ]
  },
  {
   "cell_type": "code",
   "execution_count": null,
   "metadata": {
    "colab": {
     "base_uri": "https://localhost:8080/"
    },
    "executionInfo": {
     "elapsed": 184,
     "status": "ok",
     "timestamp": 1649086966563,
     "user": {
      "displayName": "Sumit Dhaundiyal",
      "userId": "04065090477156492336"
     },
     "user_tz": 240
    },
    "id": "zJD7WA8W5Pn4",
    "outputId": "67c1cd7a-715f-4a31-d0b5-3b030bd885ae"
   },
   "outputs": [
    {
     "name": "stdout",
     "output_type": "stream",
     "text": [
      "-------Confusion Matrix---------\n",
      "[[225   3]\n",
      " [  3 234]]\n",
      "\t---TP-----FP-----ROC-----MCC---\n",
      "Class 0 :  0.99   0.01   0.01   0.97\n",
      "Class 1 :  0.99   0.01   0.99   0.97\n",
      "              precision    recall  f1-score   support\n",
      "\n",
      "           0       0.99      0.99      0.99       228\n",
      "           1       0.99      0.99      0.99       237\n",
      "\n",
      "    accuracy                           0.99       465\n",
      "   macro avg       0.99      0.99      0.99       465\n",
      "weighted avg       0.99      0.99      0.99       465\n",
      "\n"
     ]
    }
   ],
   "source": [
    "# Random Forest\n",
    "\n",
    "RandomForestclassifier = RandomForestClassifier(max_depth=8, random_state=0)\n",
    "RandomForestclassifier.fit(Reduced_train_Set_X1, y_train)\n",
    "y_pred = RandomForestclassifier.predict(Reduced_test_Set_X1)\n",
    "precision,recall,fscore,support=score(y_test,y_pred,average='macro')\n",
    "if support==None:\n",
    "   support=0.00\n",
    "All_scores.loc[-1] = ['Random Forest','Reduced set 1',np.round(precision,3),np.round(recall,3),np.round(fscore,3),np.round(support,3)]  \n",
    "All_scores.index = All_scores.index + 1 \n",
    "All_scores = All_scores.sort_index()\n",
    "print(\"-------Confusion Matrix---------\")\n",
    "tn, fp, fn, tp = confusion_matrix(y_test, y_pred).ravel()\n",
    "print(confusion_matrix(y_test, y_pred))\n",
    "\n",
    "\n",
    "fpr = {}\n",
    "tpr = {}\n",
    "roc_auc={}\n",
    "thresh ={}\n",
    "n_class = 2\n",
    "for i in range(n_class):    \n",
    "    fpr[i], tpr[i], thresh[i] = sklearn.metrics.roc_curve(y_test, y_pred, pos_label=i)\n",
    "    roc_auc[i] = sklearn.metrics.auc(fpr[i], tpr[i])\n",
    "print(\"\\t---TP-----FP-----ROC-----MCC---\")\n",
    "print(\"Class 0 : \",np.round(tn/(tn+fn),2),\" \",np.round(fn/(tn+fn),2),\" \",np.round(roc_auc[0],2),\" \",np.round((tn-fn)/(tn+fn),2))    \n",
    "print(\"Class 1 : \",np.round(tp/(tp+fp),2),\" \",np.round(fp/(tp+fp),2),\" \",np.round(roc_auc[1],2),\" \",np.round((tp-fp)/(tp+fp),2))\n",
    "  \n",
    "print(classification_report(y_test, y_pred))   "
   ]
  },
  {
   "cell_type": "code",
   "execution_count": null,
   "metadata": {
    "colab": {
     "base_uri": "https://localhost:8080/"
    },
    "executionInfo": {
     "elapsed": 13,
     "status": "ok",
     "timestamp": 1649086966564,
     "user": {
      "displayName": "Sumit Dhaundiyal",
      "userId": "04065090477156492336"
     },
     "user_tz": 240
    },
    "id": "8f4c4fQyC7nX",
    "outputId": "06acae9b-ee7e-469c-e80d-6d2a9bd2b246"
   },
   "outputs": [
    {
     "name": "stderr",
     "output_type": "stream",
     "text": [
      "/usr/local/lib/python3.7/dist-packages/ipykernel_launcher.py:2: SettingWithCopyWarning: \n",
      "A value is trying to be set on a copy of a slice from a DataFrame.\n",
      "Try using .loc[row_indexer,col_indexer] = value instead\n",
      "\n",
      "See the caveats in the documentation: https://pandas.pydata.org/pandas-docs/stable/user_guide/indexing.html#returning-a-view-versus-a-copy\n",
      "  \n",
      "/usr/local/lib/python3.7/dist-packages/ipykernel_launcher.py:5: SettingWithCopyWarning: \n",
      "A value is trying to be set on a copy of a slice from a DataFrame.\n",
      "Try using .loc[row_indexer,col_indexer] = value instead\n",
      "\n",
      "See the caveats in the documentation: https://pandas.pydata.org/pandas-docs/stable/user_guide/indexing.html#returning-a-view-versus-a-copy\n",
      "  \"\"\"\n"
     ]
    }
   ],
   "source": [
    "Training_set_df_best_model=Reduced_train_Set_X1\n",
    "Training_set_df_best_model['Class']=list(y_train)\n",
    "Training_set_df_best_model.to_csv(\"Initial_training_dataset_best_model.csv\")\n",
    "Test_set_df_best_model=Reduced_test_Set_X1\n",
    "Test_set_df_best_model['Class']=list(y_test)\n",
    "Test_set_df_best_model.to_csv(\"Initial_test_dataset_best_model.csv\")"
   ]
  },
  {
   "cell_type": "markdown",
   "metadata": {
    "id": "D6Z7ZEdz5eYZ"
   },
   "source": [
    "#### Neural network"
   ]
  },
  {
   "cell_type": "code",
   "execution_count": null,
   "metadata": {
    "colab": {
     "base_uri": "https://localhost:8080/"
    },
    "executionInfo": {
     "elapsed": 1265,
     "status": "ok",
     "timestamp": 1649086967823,
     "user": {
      "displayName": "Sumit Dhaundiyal",
      "userId": "04065090477156492336"
     },
     "user_tz": 240
    },
    "id": "0IwDV0-15hpo",
    "outputId": "1d935376-2457-4f57-abce-6da4d7a6fdc7"
   },
   "outputs": [
    {
     "name": "stdout",
     "output_type": "stream",
     "text": [
      "-------Confusion Matrix---------\n",
      "[[228   0]\n",
      " [  0 237]]\n",
      "\t---TP-----FP-----ROC-----MCC---\n",
      "Class 0 :  1.0   0.0   0.0   1.0\n",
      "Class 1 :  1.0   0.0   1.0   1.0\n",
      "              precision    recall  f1-score   support\n",
      "\n",
      "           0       1.00      1.00      1.00       228\n",
      "           1       1.00      1.00      1.00       237\n",
      "\n",
      "    accuracy                           1.00       465\n",
      "   macro avg       1.00      1.00      1.00       465\n",
      "weighted avg       1.00      1.00      1.00       465\n",
      "\n"
     ]
    }
   ],
   "source": [
    "# Neural network\n",
    "\n",
    "NeuralNetworkclassifier = MLPClassifier(max_iter=500, random_state=7)\n",
    "NeuralNetworkclassifier.fit(Reduced_train_Set_X1, y_train)\n",
    "y_pred = NeuralNetworkclassifier.predict(Reduced_test_Set_X1)\n",
    "precision,recall,fscore,support=score(y_test,y_pred,average='macro')\n",
    "if support==None:\n",
    "   support=0.00\n",
    "All_scores.loc[-1] = ['Neural network','Reduced set 1',np.round(precision,3),np.round(recall,3),np.round(fscore,3),np.round(support,3)]  \n",
    "All_scores.index = All_scores.index + 1 \n",
    "All_scores = All_scores.sort_index()\n",
    "print(\"-------Confusion Matrix---------\")\n",
    "tn, fp, fn, tp = confusion_matrix(y_test, y_pred).ravel()\n",
    "print(confusion_matrix(y_test, y_pred))\n",
    "\n",
    "\n",
    "fpr = {}\n",
    "tpr = {}\n",
    "roc_auc={}\n",
    "thresh ={}\n",
    "n_class = 2\n",
    "for i in range(n_class):    \n",
    "    fpr[i], tpr[i], thresh[i] = sklearn.metrics.roc_curve(y_test, y_pred, pos_label=i)\n",
    "    roc_auc[i] = sklearn.metrics.auc(fpr[i], tpr[i])\n",
    "print(\"\\t---TP-----FP-----ROC-----MCC---\")\n",
    "print(\"Class 0 : \",np.round(tn/(tn+fn),2),\" \",np.round(fn/(tn+fn),2),\" \",np.round(roc_auc[0],2),\" \",np.round((tn-fn)/(tn+fn),2))    \n",
    "print(\"Class 1 : \",np.round(tp/(tp+fp),2),\" \",np.round(fp/(tp+fp),2),\" \",np.round(roc_auc[1],2),\" \",np.round((tp-fp)/(tp+fp),2))\n",
    "  \n",
    "print(classification_report(y_test, y_pred))   "
   ]
  },
  {
   "cell_type": "markdown",
   "metadata": {
    "id": "EwLb0EZJ6TR4"
   },
   "source": [
    "## Classification models for reduced Training set 2"
   ]
  },
  {
   "cell_type": "markdown",
   "metadata": {
    "id": "eG5DXBqE6TR5"
   },
   "source": [
    "#### K-Nearest Neighbors"
   ]
  },
  {
   "cell_type": "code",
   "execution_count": null,
   "metadata": {
    "colab": {
     "base_uri": "https://localhost:8080/"
    },
    "executionInfo": {
     "elapsed": 18,
     "status": "ok",
     "timestamp": 1649086967824,
     "user": {
      "displayName": "Sumit Dhaundiyal",
      "userId": "04065090477156492336"
     },
     "user_tz": 240
    },
    "id": "dzTZXQzQ6TR5",
    "outputId": "4f2fad08-40c8-45f8-88f0-36a3e793d3dd"
   },
   "outputs": [
    {
     "name": "stdout",
     "output_type": "stream",
     "text": [
      "-------Confusion Matrix---------\n",
      "[[226   2]\n",
      " [ 19 218]]\n",
      "\t---TP-----FP-----ROC-----MCC---\n",
      "Class 0 :  0.92   0.08   0.04   0.84\n",
      "Class 1 :  0.99   0.01   0.96   0.98\n",
      "              precision    recall  f1-score   support\n",
      "\n",
      "           0       0.92      0.99      0.96       228\n",
      "           1       0.99      0.92      0.95       237\n",
      "\n",
      "    accuracy                           0.95       465\n",
      "   macro avg       0.96      0.96      0.95       465\n",
      "weighted avg       0.96      0.95      0.95       465\n",
      "\n"
     ]
    }
   ],
   "source": [
    "# KNN\n",
    "\n",
    "KNNclassifier = KNeighborsClassifier(n_neighbors=5)\n",
    "KNNclassifier.fit(Reduced_train_Set_X2, y_train)\n",
    "y_pred = KNNclassifier.predict(Reduced_test_Set_X2)\n",
    "precision,recall,fscore,support=score(y_test,y_pred,average='macro')\n",
    "if support==None:\n",
    "   support=0.00\n",
    "All_scores.loc[-1] = ['K-Nearest Neighbors','Reduced set 2',np.round(precision,3),np.round(recall,3),np.round(fscore,3),np.round(support,3)]  \n",
    "All_scores.index = All_scores.index + 1 \n",
    "All_scores = All_scores.sort_index()\n",
    "print(\"-------Confusion Matrix---------\")\n",
    "tn, fp, fn, tp = confusion_matrix(y_test, y_pred).ravel()\n",
    "print(confusion_matrix(y_test, y_pred))\n",
    "\n",
    "fpr = {}\n",
    "tpr = {}\n",
    "roc_auc={}\n",
    "thresh ={}\n",
    "n_class = 2\n",
    "for i in range(n_class):    \n",
    "    fpr[i], tpr[i], thresh[i] = sklearn.metrics.roc_curve(y_test, y_pred, pos_label=i)\n",
    "    roc_auc[i] = sklearn.metrics.auc(fpr[i], tpr[i])\n",
    "print(\"\\t---TP-----FP-----ROC-----MCC---\")\n",
    "print(\"Class 0 : \",np.round(tn/(tn+fn),2),\" \",np.round(fn/(tn+fn),2),\" \",np.round(roc_auc[0],2),\" \",np.round((tn-fn)/(tn+fn),2))    \n",
    "print(\"Class 1 : \",np.round(tp/(tp+fp),2),\" \",np.round(fp/(tp+fp),2),\" \",np.round(roc_auc[1],2),\" \",np.round((tp-fp)/(tp+fp),2))\n",
    "\n",
    "print(classification_report(y_test, y_pred))   "
   ]
  },
  {
   "cell_type": "markdown",
   "metadata": {
    "id": "wb2WcgM46TR6"
   },
   "source": [
    "#### Decision Tree"
   ]
  },
  {
   "cell_type": "code",
   "execution_count": null,
   "metadata": {
    "colab": {
     "base_uri": "https://localhost:8080/"
    },
    "executionInfo": {
     "elapsed": 16,
     "status": "ok",
     "timestamp": 1649086967825,
     "user": {
      "displayName": "Sumit Dhaundiyal",
      "userId": "04065090477156492336"
     },
     "user_tz": 240
    },
    "id": "3zDnkRMF6TR6",
    "outputId": "09522d7c-1415-4bf6-fd97-b8f08f8f3894"
   },
   "outputs": [
    {
     "name": "stdout",
     "output_type": "stream",
     "text": [
      "-------Confusion Matrix---------\n",
      "[[216  12]\n",
      " [  4 233]]\n",
      "\t---TP-----FP-----ROC-----MCC---\n",
      "Class 0 :  0.98   0.02   0.03   0.96\n",
      "Class 1 :  0.95   0.05   0.97   0.9\n",
      "              precision    recall  f1-score   support\n",
      "\n",
      "           0       0.98      0.95      0.96       228\n",
      "           1       0.95      0.98      0.97       237\n",
      "\n",
      "    accuracy                           0.97       465\n",
      "   macro avg       0.97      0.97      0.97       465\n",
      "weighted avg       0.97      0.97      0.97       465\n",
      "\n"
     ]
    }
   ],
   "source": [
    "# Decision Tree\n",
    "\n",
    "DecisionTreeclassifier = tree.DecisionTreeRegressor()\n",
    "DecisionTreeclassifier.fit(Reduced_train_Set_X2, y_train)\n",
    "y_pred = DecisionTreeclassifier.predict(Reduced_test_Set_X2)\n",
    "precision,recall,fscore,support=score(y_test,y_pred,average='macro')\n",
    "if support==None:\n",
    "   support=0.00\n",
    "All_scores.loc[-1] = ['Decision Tree','Reduced set 2',np.round(precision,3),np.round(recall,3),np.round(fscore,3),np.round(support,3)]  \n",
    "All_scores.index = All_scores.index + 1 \n",
    "All_scores = All_scores.sort_index()\n",
    "print(\"-------Confusion Matrix---------\")\n",
    "tn, fp, fn, tp = confusion_matrix(y_test, y_pred).ravel()\n",
    "print(confusion_matrix(y_test, y_pred))\n",
    "\n",
    "\n",
    "fpr = {}\n",
    "tpr = {}\n",
    "roc_auc={}\n",
    "thresh ={}\n",
    "n_class = 2\n",
    "for i in range(n_class):    \n",
    "    fpr[i], tpr[i], thresh[i] = sklearn.metrics.roc_curve(y_test, y_pred, pos_label=i)\n",
    "    roc_auc[i] = sklearn.metrics.auc(fpr[i], tpr[i])\n",
    "print(\"\\t---TP-----FP-----ROC-----MCC---\")\n",
    "print(\"Class 0 : \",np.round(tn/(tn+fn),2),\" \",np.round(fn/(tn+fn),2),\" \",np.round(roc_auc[0],2),\" \",np.round((tn-fn)/(tn+fn),2))    \n",
    "print(\"Class 1 : \",np.round(tp/(tp+fp),2),\" \",np.round(fp/(tp+fp),2),\" \",np.round(roc_auc[1],2),\" \",np.round((tp-fp)/(tp+fp),2))\n",
    " \n",
    "print(classification_report(y_test, y_pred))   "
   ]
  },
  {
   "cell_type": "markdown",
   "metadata": {
    "id": "F4p5YPpI6TR6"
   },
   "source": [
    "#### Naive Bayes"
   ]
  },
  {
   "cell_type": "code",
   "execution_count": null,
   "metadata": {
    "colab": {
     "base_uri": "https://localhost:8080/"
    },
    "executionInfo": {
     "elapsed": 11,
     "status": "ok",
     "timestamp": 1649086967825,
     "user": {
      "displayName": "Sumit Dhaundiyal",
      "userId": "04065090477156492336"
     },
     "user_tz": 240
    },
    "id": "APQo4uhp6TR6",
    "outputId": "a70def30-bec7-40c7-ba2a-007ae4d289bc"
   },
   "outputs": [
    {
     "name": "stdout",
     "output_type": "stream",
     "text": [
      "-------Confusion Matrix---------\n",
      "[[  0 228]\n",
      " [  0 237]]\n",
      "\t---TP-----FP-----ROC-----MCC---\n",
      "Class 0 :  nan   nan   0.5   nan\n",
      "Class 1 :  0.51   0.49   0.5   0.02\n",
      "              precision    recall  f1-score   support\n",
      "\n",
      "           0       0.00      0.00      0.00       228\n",
      "           1       0.51      1.00      0.68       237\n",
      "\n",
      "    accuracy                           0.51       465\n",
      "   macro avg       0.25      0.50      0.34       465\n",
      "weighted avg       0.26      0.51      0.34       465\n",
      "\n"
     ]
    },
    {
     "name": "stderr",
     "output_type": "stream",
     "text": [
      "/usr/local/lib/python3.7/dist-packages/sklearn/metrics/_classification.py:1318: UndefinedMetricWarning: Precision and F-score are ill-defined and being set to 0.0 in labels with no predicted samples. Use `zero_division` parameter to control this behavior.\n",
      "  _warn_prf(average, modifier, msg_start, len(result))\n",
      "/usr/local/lib/python3.7/dist-packages/sklearn/metrics/_classification.py:1318: UndefinedMetricWarning: Precision and F-score are ill-defined and being set to 0.0 in labels with no predicted samples. Use `zero_division` parameter to control this behavior.\n",
      "  _warn_prf(average, modifier, msg_start, len(result))\n",
      "/usr/local/lib/python3.7/dist-packages/sklearn/metrics/_classification.py:1318: UndefinedMetricWarning: Precision and F-score are ill-defined and being set to 0.0 in labels with no predicted samples. Use `zero_division` parameter to control this behavior.\n",
      "  _warn_prf(average, modifier, msg_start, len(result))\n",
      "/usr/local/lib/python3.7/dist-packages/sklearn/metrics/_classification.py:1318: UndefinedMetricWarning: Precision and F-score are ill-defined and being set to 0.0 in labels with no predicted samples. Use `zero_division` parameter to control this behavior.\n",
      "  _warn_prf(average, modifier, msg_start, len(result))\n"
     ]
    }
   ],
   "source": [
    "# Naive Bayes\n",
    "\n",
    "NaiveBayesclassifier = GaussianNB()\n",
    "NaiveBayesclassifier.fit(Reduced_train_Set_X2, y_train)\n",
    "y_pred = NaiveBayesclassifier.predict(Reduced_test_Set_X2)\n",
    "precision,recall,fscore,support=score(y_test,y_pred,average='macro')\n",
    "if support==None:\n",
    "   support=0.00\n",
    "All_scores.loc[-1] = ['Naive Bayes','Reduced set 2',np.round(precision,3),np.round(recall,3),np.round(fscore,3),np.round(support,3)]  \n",
    "All_scores.index = All_scores.index + 1 \n",
    "All_scores = All_scores.sort_index()\n",
    "print(\"-------Confusion Matrix---------\")\n",
    "tn, fp, fn, tp = confusion_matrix(y_test, y_pred).ravel()\n",
    "print(confusion_matrix(y_test, y_pred))\n",
    "\n",
    "\n",
    "fpr = {}\n",
    "tpr = {}\n",
    "roc_auc={}\n",
    "thresh ={}\n",
    "n_class = 2\n",
    "for i in range(n_class):    \n",
    "    fpr[i], tpr[i], thresh[i] = sklearn.metrics.roc_curve(y_test, y_pred, pos_label=i)\n",
    "    roc_auc[i] = sklearn.metrics.auc(fpr[i], tpr[i])\n",
    "print(\"\\t---TP-----FP-----ROC-----MCC---\")\n",
    "print(\"Class 0 : \",np.round(tn/(tn+fn),2),\" \",np.round(fn/(tn+fn),2),\" \",np.round(roc_auc[0],2),\" \",np.round((tn-fn)/(tn+fn),2))    \n",
    "print(\"Class 1 : \",np.round(tp/(tp+fp),2),\" \",np.round(fp/(tp+fp),2),\" \",np.round(roc_auc[1],2),\" \",np.round((tp-fp)/(tp+fp),2))\n",
    "\n",
    "print(classification_report(y_test, y_pred))   "
   ]
  },
  {
   "cell_type": "markdown",
   "metadata": {
    "id": "HPhEQTbL6TR6"
   },
   "source": [
    "#### Random Forest"
   ]
  },
  {
   "cell_type": "code",
   "execution_count": null,
   "metadata": {
    "colab": {
     "base_uri": "https://localhost:8080/"
    },
    "executionInfo": {
     "elapsed": 386,
     "status": "ok",
     "timestamp": 1649086968205,
     "user": {
      "displayName": "Sumit Dhaundiyal",
      "userId": "04065090477156492336"
     },
     "user_tz": 240
    },
    "id": "jw2V9RAJ6TR6",
    "outputId": "4e1bcbab-af2e-40f3-bc5d-8677d917047a"
   },
   "outputs": [
    {
     "name": "stdout",
     "output_type": "stream",
     "text": [
      "-------Confusion Matrix---------\n",
      "[[223   5]\n",
      " [  4 233]]\n",
      "\t---TP-----FP-----ROC-----MCC---\n",
      "Class 0 :  0.98   0.02   0.02   0.96\n",
      "Class 1 :  0.98   0.02   0.98   0.96\n",
      "              precision    recall  f1-score   support\n",
      "\n",
      "           0       0.98      0.98      0.98       228\n",
      "           1       0.98      0.98      0.98       237\n",
      "\n",
      "    accuracy                           0.98       465\n",
      "   macro avg       0.98      0.98      0.98       465\n",
      "weighted avg       0.98      0.98      0.98       465\n",
      "\n"
     ]
    }
   ],
   "source": [
    "# Random Forest\n",
    "\n",
    "RandomForestclassifier = RandomForestClassifier(max_depth=8, random_state=0)\n",
    "RandomForestclassifier.fit(Reduced_train_Set_X2, y_train)\n",
    "y_pred = RandomForestclassifier.predict(Reduced_test_Set_X2)\n",
    "precision,recall,fscore,support=score(y_test,y_pred,average='macro')\n",
    "if support==None:\n",
    "   support=0.00\n",
    "All_scores.loc[-1] = ['Random Forest','Reduced set 2',np.round(precision,3),np.round(recall,3),np.round(fscore,3),np.round(support,3)]  \n",
    "All_scores.index = All_scores.index + 1 \n",
    "All_scores = All_scores.sort_index()\n",
    "print(\"-------Confusion Matrix---------\")\n",
    "tn, fp, fn, tp = confusion_matrix(y_test, y_pred).ravel()\n",
    "print(confusion_matrix(y_test, y_pred))\n",
    "\n",
    "\n",
    "fpr = {}\n",
    "tpr = {}\n",
    "roc_auc={}\n",
    "thresh ={}\n",
    "n_class = 2\n",
    "for i in range(n_class):    \n",
    "    fpr[i], tpr[i], thresh[i] = sklearn.metrics.roc_curve(y_test, y_pred, pos_label=i)\n",
    "    roc_auc[i] = sklearn.metrics.auc(fpr[i], tpr[i])\n",
    "print(\"\\t---TP-----FP-----ROC-----MCC---\")\n",
    "print(\"Class 0 : \",np.round(tn/(tn+fn),2),\" \",np.round(fn/(tn+fn),2),\" \",np.round(roc_auc[0],2),\" \",np.round((tn-fn)/(tn+fn),2))    \n",
    "print(\"Class 1 : \",np.round(tp/(tp+fp),2),\" \",np.round(fp/(tp+fp),2),\" \",np.round(roc_auc[1],2),\" \",np.round((tp-fp)/(tp+fp),2))\n",
    "\n",
    "print(classification_report(y_test, y_pred))   "
   ]
  },
  {
   "cell_type": "markdown",
   "metadata": {
    "id": "surmCDZB6TR6"
   },
   "source": [
    "#### Neural network"
   ]
  },
  {
   "cell_type": "code",
   "execution_count": null,
   "metadata": {
    "colab": {
     "base_uri": "https://localhost:8080/"
    },
    "executionInfo": {
     "elapsed": 3424,
     "status": "ok",
     "timestamp": 1649086971626,
     "user": {
      "displayName": "Sumit Dhaundiyal",
      "userId": "04065090477156492336"
     },
     "user_tz": 240
    },
    "id": "XeMU8Efh6TR6",
    "outputId": "21b76088-f0d5-4c38-bd58-77309cfe14fb"
   },
   "outputs": [
    {
     "name": "stdout",
     "output_type": "stream",
     "text": [
      "-------Confusion Matrix---------\n",
      "[[221   7]\n",
      " [  6 231]]\n",
      "\t---TP-----FP-----ROC-----MCC---\n",
      "Class 0 :  0.97   0.03   0.03   0.95\n",
      "Class 1 :  0.97   0.03   0.97   0.94\n",
      "              precision    recall  f1-score   support\n",
      "\n",
      "           0       0.97      0.97      0.97       228\n",
      "           1       0.97      0.97      0.97       237\n",
      "\n",
      "    accuracy                           0.97       465\n",
      "   macro avg       0.97      0.97      0.97       465\n",
      "weighted avg       0.97      0.97      0.97       465\n",
      "\n"
     ]
    }
   ],
   "source": [
    "# Neural network\n",
    "\n",
    "NeuralNetworkclassifier = MLPClassifier(max_iter=500, random_state=7)\n",
    "NeuralNetworkclassifier.fit(Reduced_train_Set_X2, y_train)\n",
    "y_pred = NeuralNetworkclassifier.predict(Reduced_test_Set_X2)\n",
    "precision,recall,fscore,support=score(y_test,y_pred,average='macro')\n",
    "if support==None:\n",
    "   support=0.00\n",
    "All_scores.loc[-1] = ['Neural network','Reduced set 2',np.round(precision,3),np.round(recall,3),np.round(fscore,3),np.round(support,3)]  \n",
    "All_scores.index = All_scores.index + 1 \n",
    "All_scores = All_scores.sort_index()\n",
    "print(\"-------Confusion Matrix---------\")\n",
    "tn, fp, fn, tp = confusion_matrix(y_test, y_pred).ravel()\n",
    "print(confusion_matrix(y_test, y_pred))\n",
    "\n",
    "\n",
    "fpr = {}\n",
    "tpr = {}\n",
    "roc_auc={}\n",
    "thresh ={}\n",
    "n_class = 2\n",
    "for i in range(n_class):    \n",
    "    fpr[i], tpr[i], thresh[i] = sklearn.metrics.roc_curve(y_test, y_pred, pos_label=i)\n",
    "    roc_auc[i] = sklearn.metrics.auc(fpr[i], tpr[i])\n",
    "print(\"\\t---TP-----FP-----ROC-----MCC---\")\n",
    "print(\"Class 0 : \",np.round(tn/(tn+fn),2),\" \",np.round(fn/(tn+fn),2),\" \",np.round(roc_auc[0],2),\" \",np.round((tn-fn)/(tn+fn),2))    \n",
    "print(\"Class 1 : \",np.round(tp/(tp+fp),2),\" \",np.round(fp/(tp+fp),2),\" \",np.round(roc_auc[1],2),\" \",np.round((tp-fp)/(tp+fp),2))\n",
    "  \n",
    "print(classification_report(y_test, y_pred))   "
   ]
  },
  {
   "cell_type": "markdown",
   "metadata": {
    "id": "pZJXnuZ663Q0"
   },
   "source": [
    "## Classification models for reduced Training set 3"
   ]
  },
  {
   "cell_type": "markdown",
   "metadata": {
    "id": "TYeQD4MX63Q0"
   },
   "source": [
    "#### K-Nearest Neighbors"
   ]
  },
  {
   "cell_type": "code",
   "execution_count": null,
   "metadata": {
    "colab": {
     "base_uri": "https://localhost:8080/"
    },
    "executionInfo": {
     "elapsed": 27,
     "status": "ok",
     "timestamp": 1649086971627,
     "user": {
      "displayName": "Sumit Dhaundiyal",
      "userId": "04065090477156492336"
     },
     "user_tz": 240
    },
    "id": "ocE1etXo63Q0",
    "outputId": "2844bb25-895a-4199-a651-0225b4f7e5b3"
   },
   "outputs": [
    {
     "name": "stdout",
     "output_type": "stream",
     "text": [
      "-------Confusion Matrix---------\n",
      "[[217  11]\n",
      " [ 15 222]]\n",
      "\t---TP-----FP-----ROC-----MCC---\n",
      "Class 0 :  0.94   0.06   0.06   0.87\n",
      "Class 1 :  0.95   0.05   0.94   0.91\n",
      "              precision    recall  f1-score   support\n",
      "\n",
      "           0       0.94      0.95      0.94       228\n",
      "           1       0.95      0.94      0.94       237\n",
      "\n",
      "    accuracy                           0.94       465\n",
      "   macro avg       0.94      0.94      0.94       465\n",
      "weighted avg       0.94      0.94      0.94       465\n",
      "\n"
     ]
    }
   ],
   "source": [
    "# KNN\n",
    "\n",
    "KNNclassifier = KNeighborsClassifier(n_neighbors=5)\n",
    "KNNclassifier.fit(Reduced_train_Set_X3, y_train)\n",
    "y_pred = KNNclassifier.predict(Reduced_test_Set_X3)\n",
    "precision,recall,fscore,support=score(y_test,y_pred,average='macro')\n",
    "if support==None:\n",
    "   support=0.00\n",
    "All_scores.loc[-1] = ['K-Nearest Neighbors','Reduced set 3',np.round(precision,3),np.round(recall,3),np.round(fscore,3),np.round(support,3)]  \n",
    "All_scores.index = All_scores.index + 1 \n",
    "All_scores = All_scores.sort_index()\n",
    "print(\"-------Confusion Matrix---------\")\n",
    "tn, fp, fn, tp = confusion_matrix(y_test, y_pred).ravel()\n",
    "print(confusion_matrix(y_test, y_pred))\n",
    "\n",
    "\n",
    "fpr = {}\n",
    "tpr = {}\n",
    "roc_auc={}\n",
    "thresh ={}\n",
    "n_class = 2\n",
    "for i in range(n_class):    \n",
    "    fpr[i], tpr[i], thresh[i] = sklearn.metrics.roc_curve(y_test, y_pred, pos_label=i)\n",
    "    roc_auc[i] = sklearn.metrics.auc(fpr[i], tpr[i])\n",
    "print(\"\\t---TP-----FP-----ROC-----MCC---\")\n",
    "print(\"Class 0 : \",np.round(tn/(tn+fn),2),\" \",np.round(fn/(tn+fn),2),\" \",np.round(roc_auc[0],2),\" \",np.round((tn-fn)/(tn+fn),2))    \n",
    "print(\"Class 1 : \",np.round(tp/(tp+fp),2),\" \",np.round(fp/(tp+fp),2),\" \",np.round(roc_auc[1],2),\" \",np.round((tp-fp)/(tp+fp),2))\n",
    "print(classification_report(y_test, y_pred))   "
   ]
  },
  {
   "cell_type": "markdown",
   "metadata": {
    "id": "dUqtsbHG63Q1"
   },
   "source": [
    "#### Decision Tree"
   ]
  },
  {
   "cell_type": "code",
   "execution_count": null,
   "metadata": {
    "colab": {
     "base_uri": "https://localhost:8080/"
    },
    "executionInfo": {
     "elapsed": 233,
     "status": "ok",
     "timestamp": 1649086971837,
     "user": {
      "displayName": "Sumit Dhaundiyal",
      "userId": "04065090477156492336"
     },
     "user_tz": 240
    },
    "id": "dUjuc8p263Q1",
    "outputId": "d45cd4cb-c2e0-4b7d-d1a0-51c55a10d148"
   },
   "outputs": [
    {
     "name": "stdout",
     "output_type": "stream",
     "text": [
      "-------Confusion Matrix---------\n",
      "[[219   9]\n",
      " [  5 232]]\n",
      "\t---TP-----FP-----ROC-----MCC---\n",
      "Class 0 :  0.98   0.02   0.03   0.96\n",
      "Class 1 :  0.96   0.04   0.97   0.93\n",
      "              precision    recall  f1-score   support\n",
      "\n",
      "           0       0.98      0.96      0.97       228\n",
      "           1       0.96      0.98      0.97       237\n",
      "\n",
      "    accuracy                           0.97       465\n",
      "   macro avg       0.97      0.97      0.97       465\n",
      "weighted avg       0.97      0.97      0.97       465\n",
      "\n"
     ]
    }
   ],
   "source": [
    "# Decision Tree\n",
    "\n",
    "DecisionTreeclassifier = tree.DecisionTreeRegressor()\n",
    "DecisionTreeclassifier.fit(Reduced_train_Set_X3, y_train)\n",
    "y_pred = DecisionTreeclassifier.predict(Reduced_test_Set_X3)\n",
    "precision,recall,fscore,support=score(y_test,y_pred,average='macro')\n",
    "if support==None:\n",
    "   support=0.00\n",
    "All_scores.loc[-1] = ['Decision Tree','Reduced set 3',np.round(precision,3),np.round(recall,3),np.round(fscore,3),np.round(support,3)]  \n",
    "All_scores.index = All_scores.index + 1 \n",
    "All_scores = All_scores.sort_index()\n",
    "print(\"-------Confusion Matrix---------\")\n",
    "tn, fp, fn, tp = confusion_matrix(y_test, y_pred).ravel()\n",
    "print(confusion_matrix(y_test, y_pred))\n",
    "\n",
    "fpr = {}\n",
    "tpr = {}\n",
    "roc_auc={}\n",
    "thresh ={}\n",
    "n_class = 2\n",
    "for i in range(n_class):    \n",
    "    fpr[i], tpr[i], thresh[i] = sklearn.metrics.roc_curve(y_test, y_pred, pos_label=i)\n",
    "    roc_auc[i] = sklearn.metrics.auc(fpr[i], tpr[i])\n",
    "print(\"\\t---TP-----FP-----ROC-----MCC---\")\n",
    "print(\"Class 0 : \",np.round(tn/(tn+fn),2),\" \",np.round(fn/(tn+fn),2),\" \",np.round(roc_auc[0],2),\" \",np.round((tn-fn)/(tn+fn),2))    \n",
    "print(\"Class 1 : \",np.round(tp/(tp+fp),2),\" \",np.round(fp/(tp+fp),2),\" \",np.round(roc_auc[1],2),\" \",np.round((tp-fp)/(tp+fp),2))\n",
    " \n",
    "print(classification_report(y_test, y_pred))   "
   ]
  },
  {
   "cell_type": "markdown",
   "metadata": {
    "id": "zmkopt7t63Q1"
   },
   "source": [
    "#### Naive Bayes"
   ]
  },
  {
   "cell_type": "code",
   "execution_count": null,
   "metadata": {
    "colab": {
     "base_uri": "https://localhost:8080/"
    },
    "executionInfo": {
     "elapsed": 10,
     "status": "ok",
     "timestamp": 1649086971838,
     "user": {
      "displayName": "Sumit Dhaundiyal",
      "userId": "04065090477156492336"
     },
     "user_tz": 240
    },
    "id": "aHuvm6PZ63Q1",
    "outputId": "0984bbbb-8a2f-45e2-f037-9f73664da67c"
   },
   "outputs": [
    {
     "name": "stdout",
     "output_type": "stream",
     "text": [
      "-------Confusion Matrix---------\n",
      "[[219   9]\n",
      " [ 22 215]]\n",
      "\t---TP-----FP-----ROC-----MCC---\n",
      "Class 0 :  0.91   0.09   0.07   0.82\n",
      "Class 1 :  0.96   0.04   0.93   0.92\n",
      "              precision    recall  f1-score   support\n",
      "\n",
      "           0       0.91      0.96      0.93       228\n",
      "           1       0.96      0.91      0.93       237\n",
      "\n",
      "    accuracy                           0.93       465\n",
      "   macro avg       0.93      0.93      0.93       465\n",
      "weighted avg       0.93      0.93      0.93       465\n",
      "\n"
     ]
    }
   ],
   "source": [
    "# Naive Bayes\n",
    "\n",
    "NaiveBayesclassifier = GaussianNB()\n",
    "NaiveBayesclassifier.fit(Reduced_train_Set_X3, y_train)\n",
    "y_pred = NaiveBayesclassifier.predict(Reduced_test_Set_X3)\n",
    "precision,recall,fscore,support=score(y_test,y_pred,average='macro')\n",
    "if support==None:\n",
    "   support=0.00\n",
    "All_scores.loc[-1] = ['Naive Bayes','Reduced set 3',np.round(precision,3),np.round(recall,3),np.round(fscore,3),np.round(support,3)]  \n",
    "All_scores.index = All_scores.index + 1 \n",
    "All_scores = All_scores.sort_index()\n",
    "print(\"-------Confusion Matrix---------\")\n",
    "tn, fp, fn, tp = confusion_matrix(y_test, y_pred).ravel()\n",
    "print(confusion_matrix(y_test, y_pred))\n",
    "\n",
    "fpr = {}\n",
    "tpr = {}\n",
    "roc_auc={}\n",
    "thresh ={}\n",
    "n_class = 2\n",
    "for i in range(n_class):    \n",
    "    fpr[i], tpr[i], thresh[i] = sklearn.metrics.roc_curve(y_test, y_pred, pos_label=i)\n",
    "    roc_auc[i] = sklearn.metrics.auc(fpr[i], tpr[i])\n",
    "print(\"\\t---TP-----FP-----ROC-----MCC---\")\n",
    "print(\"Class 0 : \",np.round(tn/(tn+fn),2),\" \",np.round(fn/(tn+fn),2),\" \",np.round(roc_auc[0],2),\" \",np.round((tn-fn)/(tn+fn),2))    \n",
    "print(\"Class 1 : \",np.round(tp/(tp+fp),2),\" \",np.round(fp/(tp+fp),2),\" \",np.round(roc_auc[1],2),\" \",np.round((tp-fp)/(tp+fp),2))  \n",
    "print(classification_report(y_test, y_pred))   "
   ]
  },
  {
   "cell_type": "markdown",
   "metadata": {
    "id": "TayQYk8563Q2"
   },
   "source": [
    "#### Random Forest"
   ]
  },
  {
   "cell_type": "code",
   "execution_count": null,
   "metadata": {
    "colab": {
     "base_uri": "https://localhost:8080/"
    },
    "executionInfo": {
     "elapsed": 277,
     "status": "ok",
     "timestamp": 1649086972110,
     "user": {
      "displayName": "Sumit Dhaundiyal",
      "userId": "04065090477156492336"
     },
     "user_tz": 240
    },
    "id": "wmBA8CHq63Q2",
    "outputId": "b3f8a65d-55f0-4af7-df7d-9b98bbf5cfcb"
   },
   "outputs": [
    {
     "name": "stdout",
     "output_type": "stream",
     "text": [
      "-------Confusion Matrix---------\n",
      "[[225   3]\n",
      " [  5 232]]\n",
      "\t---TP-----FP-----ROC-----MCC---\n",
      "Class 0 :  0.98   0.02   0.02   0.96\n",
      "Class 1 :  0.99   0.01   0.98   0.97\n",
      "              precision    recall  f1-score   support\n",
      "\n",
      "           0       0.98      0.99      0.98       228\n",
      "           1       0.99      0.98      0.98       237\n",
      "\n",
      "    accuracy                           0.98       465\n",
      "   macro avg       0.98      0.98      0.98       465\n",
      "weighted avg       0.98      0.98      0.98       465\n",
      "\n"
     ]
    }
   ],
   "source": [
    "# Random Forest\n",
    "\n",
    "RandomForestclassifier = RandomForestClassifier(max_depth=8, random_state=0)\n",
    "RandomForestclassifier.fit(Reduced_train_Set_X3, y_train)\n",
    "y_pred = RandomForestclassifier.predict(Reduced_test_Set_X3)\n",
    "precision,recall,fscore,support=score(y_test,y_pred,average='macro')\n",
    "if support==None:\n",
    "   support=0.00\n",
    "All_scores.loc[-1] = ['Random Forest','Reduced set 3',np.round(precision,3),np.round(recall,3),np.round(fscore,3),np.round(support,3)]  \n",
    "All_scores.index = All_scores.index + 1 \n",
    "All_scores = All_scores.sort_index()\n",
    "print(\"-------Confusion Matrix---------\")\n",
    "tn, fp, fn, tp = confusion_matrix(y_test, y_pred).ravel()\n",
    "print(confusion_matrix(y_test, y_pred))\n",
    "\n",
    "fpr = {}\n",
    "tpr = {}\n",
    "roc_auc={}\n",
    "thresh ={}\n",
    "n_class = 2\n",
    "for i in range(n_class):    \n",
    "    fpr[i], tpr[i], thresh[i] = sklearn.metrics.roc_curve(y_test, y_pred, pos_label=i)\n",
    "    roc_auc[i] = sklearn.metrics.auc(fpr[i], tpr[i])\n",
    "print(\"\\t---TP-----FP-----ROC-----MCC---\")\n",
    "print(\"Class 0 : \",np.round(tn/(tn+fn),2),\" \",np.round(fn/(tn+fn),2),\" \",np.round(roc_auc[0],2),\" \",np.round((tn-fn)/(tn+fn),2))    \n",
    "print(\"Class 1 : \",np.round(tp/(tp+fp),2),\" \",np.round(fp/(tp+fp),2),\" \",np.round(roc_auc[1],2),\" \",np.round((tp-fp)/(tp+fp),2))\n",
    " \n",
    "print(classification_report(y_test, y_pred))   "
   ]
  },
  {
   "cell_type": "markdown",
   "metadata": {
    "id": "vgyLDyBO63Q2"
   },
   "source": [
    "#### Neural network"
   ]
  },
  {
   "cell_type": "code",
   "execution_count": null,
   "metadata": {
    "colab": {
     "base_uri": "https://localhost:8080/"
    },
    "executionInfo": {
     "elapsed": 3188,
     "status": "ok",
     "timestamp": 1649086975295,
     "user": {
      "displayName": "Sumit Dhaundiyal",
      "userId": "04065090477156492336"
     },
     "user_tz": 240
    },
    "id": "k6kfsuzg63Q2",
    "outputId": "48c886cd-072a-4dfc-e5c3-f842b569c3ef"
   },
   "outputs": [
    {
     "name": "stdout",
     "output_type": "stream",
     "text": [
      "-------Confusion Matrix---------\n",
      "[[219   9]\n",
      " [ 10 227]]\n",
      "\t---TP-----FP-----ROC-----MCC---\n",
      "Class 0 :  0.96   0.04   0.04   0.91\n",
      "Class 1 :  0.96   0.04   0.96   0.92\n",
      "              precision    recall  f1-score   support\n",
      "\n",
      "           0       0.96      0.96      0.96       228\n",
      "           1       0.96      0.96      0.96       237\n",
      "\n",
      "    accuracy                           0.96       465\n",
      "   macro avg       0.96      0.96      0.96       465\n",
      "weighted avg       0.96      0.96      0.96       465\n",
      "\n"
     ]
    },
    {
     "name": "stderr",
     "output_type": "stream",
     "text": [
      "/usr/local/lib/python3.7/dist-packages/sklearn/neural_network/_multilayer_perceptron.py:696: ConvergenceWarning: Stochastic Optimizer: Maximum iterations (500) reached and the optimization hasn't converged yet.\n",
      "  ConvergenceWarning,\n"
     ]
    }
   ],
   "source": [
    "# Neural network\n",
    "\n",
    "NeuralNetworkclassifier = MLPClassifier(max_iter=500, random_state=7)\n",
    "NeuralNetworkclassifier.fit(Reduced_train_Set_X3, y_train)\n",
    "y_pred = NeuralNetworkclassifier.predict(Reduced_test_Set_X3)\n",
    "precision,recall,fscore,support=score(y_test,y_pred,average='macro')\n",
    "if support==None:\n",
    "   support=0.00\n",
    "All_scores.loc[-1] = ['Neural network','Reduced set 3',np.round(precision,3),np.round(recall,3),np.round(fscore,3),np.round(support,3)]  \n",
    "All_scores.index = All_scores.index + 1 \n",
    "All_scores = All_scores.sort_index()\n",
    "print(\"-------Confusion Matrix---------\")\n",
    "tn, fp, fn, tp = confusion_matrix(y_test, y_pred).ravel()\n",
    "print(confusion_matrix(y_test, y_pred))\n",
    "\n",
    "\n",
    "fpr = {}\n",
    "tpr = {}\n",
    "roc_auc={}\n",
    "thresh ={}\n",
    "n_class = 2\n",
    "for i in range(n_class):    \n",
    "    fpr[i], tpr[i], thresh[i] = sklearn.metrics.roc_curve(y_test, y_pred, pos_label=i)\n",
    "    roc_auc[i] = sklearn.metrics.auc(fpr[i], tpr[i])\n",
    "print(\"\\t---TP-----FP-----ROC-----MCC---\")\n",
    "print(\"Class 0 : \",np.round(tn/(tn+fn),2),\" \",np.round(fn/(tn+fn),2),\" \",np.round(roc_auc[0],2),\" \",np.round((tn-fn)/(tn+fn),2))    \n",
    "print(\"Class 1 : \",np.round(tp/(tp+fp),2),\" \",np.round(fp/(tp+fp),2),\" \",np.round(roc_auc[1],2),\" \",np.round((tp-fp)/(tp+fp),2))\n",
    "print(classification_report(y_test, y_pred))   "
   ]
  },
  {
   "cell_type": "markdown",
   "metadata": {
    "id": "62GD5w8b7J7P"
   },
   "source": [
    "## Classification models for reduced Training set 4"
   ]
  },
  {
   "cell_type": "markdown",
   "metadata": {
    "id": "wucYLl_m7J7Q"
   },
   "source": [
    "#### K-Nearest Neighbors"
   ]
  },
  {
   "cell_type": "code",
   "execution_count": null,
   "metadata": {
    "colab": {
     "base_uri": "https://localhost:8080/"
    },
    "executionInfo": {
     "elapsed": 11,
     "status": "ok",
     "timestamp": 1649086975296,
     "user": {
      "displayName": "Sumit Dhaundiyal",
      "userId": "04065090477156492336"
     },
     "user_tz": 240
    },
    "id": "YlSUl0Mx7J7Q",
    "outputId": "aff817f9-d8b6-48d6-c085-c70c46417e70"
   },
   "outputs": [
    {
     "name": "stdout",
     "output_type": "stream",
     "text": [
      "-------Confusion Matrix---------\n",
      "[[225   3]\n",
      " [ 10 227]]\n",
      "\t---TP-----FP-----ROC-----MCC---\n",
      "Class 0 :  0.96   0.04   0.03   0.91\n",
      "Class 1 :  0.99   0.01   0.97   0.97\n",
      "              precision    recall  f1-score   support\n",
      "\n",
      "           0       0.96      0.99      0.97       228\n",
      "           1       0.99      0.96      0.97       237\n",
      "\n",
      "    accuracy                           0.97       465\n",
      "   macro avg       0.97      0.97      0.97       465\n",
      "weighted avg       0.97      0.97      0.97       465\n",
      "\n"
     ]
    }
   ],
   "source": [
    "# KNN\n",
    "\n",
    "KNNclassifier = KNeighborsClassifier(n_neighbors=5)\n",
    "KNNclassifier.fit(Reduced_train_Set_X4, y_train)\n",
    "y_pred = KNNclassifier.predict(Reduced_test_Set_X4)\n",
    "precision,recall,fscore,support=score(y_test,y_pred,average='macro')\n",
    "if support==None:\n",
    "   support=0.00\n",
    "All_scores.loc[-1] = ['K-Nearest Neighbors','Reduced set 4',np.round(precision,3),np.round(recall,3),np.round(fscore,3),np.round(support,3)]  \n",
    "All_scores.index = All_scores.index + 1 \n",
    "All_scores = All_scores.sort_index()\n",
    "print(\"-------Confusion Matrix---------\")\n",
    "tn, fp, fn, tp = confusion_matrix(y_test, y_pred).ravel()\n",
    "print(confusion_matrix(y_test, y_pred))\n",
    "\n",
    "\n",
    "fpr = {}\n",
    "tpr = {}\n",
    "roc_auc={}\n",
    "thresh ={}\n",
    "n_class = 2\n",
    "for i in range(n_class):    \n",
    "    fpr[i], tpr[i], thresh[i] = sklearn.metrics.roc_curve(y_test, y_pred, pos_label=i)\n",
    "    roc_auc[i] = sklearn.metrics.auc(fpr[i], tpr[i])\n",
    "print(\"\\t---TP-----FP-----ROC-----MCC---\")\n",
    "print(\"Class 0 : \",np.round(tn/(tn+fn),2),\" \",np.round(fn/(tn+fn),2),\" \",np.round(roc_auc[0],2),\" \",np.round((tn-fn)/(tn+fn),2))    \n",
    "print(\"Class 1 : \",np.round(tp/(tp+fp),2),\" \",np.round(fp/(tp+fp),2),\" \",np.round(roc_auc[1],2),\" \",np.round((tp-fp)/(tp+fp),2))  \n",
    "print(classification_report(y_test, y_pred))   "
   ]
  },
  {
   "cell_type": "markdown",
   "metadata": {
    "id": "9QUiV7W47J7Q"
   },
   "source": [
    "#### Decision Tree"
   ]
  },
  {
   "cell_type": "code",
   "execution_count": null,
   "metadata": {
    "colab": {
     "base_uri": "https://localhost:8080/"
    },
    "executionInfo": {
     "elapsed": 14,
     "status": "ok",
     "timestamp": 1649086975506,
     "user": {
      "displayName": "Sumit Dhaundiyal",
      "userId": "04065090477156492336"
     },
     "user_tz": 240
    },
    "id": "NRUWV6bK7J7Q",
    "outputId": "519d9137-cc4a-4403-da3d-194844eef859"
   },
   "outputs": [
    {
     "name": "stdout",
     "output_type": "stream",
     "text": [
      "-------Confusion Matrix---------\n",
      "[[216  12]\n",
      " [  6 231]]\n",
      "\t---TP-----FP-----ROC-----MCC---\n",
      "Class 0 :  0.97   0.03   0.04   0.95\n",
      "Class 1 :  0.95   0.05   0.96   0.9\n",
      "              precision    recall  f1-score   support\n",
      "\n",
      "           0       0.97      0.95      0.96       228\n",
      "           1       0.95      0.97      0.96       237\n",
      "\n",
      "    accuracy                           0.96       465\n",
      "   macro avg       0.96      0.96      0.96       465\n",
      "weighted avg       0.96      0.96      0.96       465\n",
      "\n"
     ]
    }
   ],
   "source": [
    "# Decision Tree\n",
    "\n",
    "DecisionTreeclassifier = tree.DecisionTreeRegressor()\n",
    "DecisionTreeclassifier.fit(Reduced_train_Set_X4, y_train)\n",
    "y_pred = DecisionTreeclassifier.predict(Reduced_test_Set_X4)\n",
    "precision,recall,fscore,support=score(y_test,y_pred,average='macro')\n",
    "if support==None:\n",
    "   support=0.00\n",
    "All_scores.loc[-1] = ['Decision Tree','Reduced set 4',np.round(precision,3),np.round(recall,3),np.round(fscore,3),np.round(support,3)]  \n",
    "All_scores.index = All_scores.index + 1 \n",
    "All_scores = All_scores.sort_index()\n",
    "print(\"-------Confusion Matrix---------\")\n",
    "tn, fp, fn, tp = confusion_matrix(y_test, y_pred).ravel()\n",
    "print(confusion_matrix(y_test, y_pred))\n",
    "\n",
    "fpr = {}\n",
    "tpr = {}\n",
    "roc_auc={}\n",
    "thresh ={}\n",
    "n_class = 2\n",
    "for i in range(n_class):    \n",
    "    fpr[i], tpr[i], thresh[i] = sklearn.metrics.roc_curve(y_test, y_pred, pos_label=i)\n",
    "    roc_auc[i] = sklearn.metrics.auc(fpr[i], tpr[i])\n",
    "print(\"\\t---TP-----FP-----ROC-----MCC---\")\n",
    "print(\"Class 0 : \",np.round(tn/(tn+fn),2),\" \",np.round(fn/(tn+fn),2),\" \",np.round(roc_auc[0],2),\" \",np.round((tn-fn)/(tn+fn),2))    \n",
    "print(\"Class 1 : \",np.round(tp/(tp+fp),2),\" \",np.round(fp/(tp+fp),2),\" \",np.round(roc_auc[1],2),\" \",np.round((tp-fp)/(tp+fp),2))\n",
    "print(classification_report(y_test, y_pred))   "
   ]
  },
  {
   "cell_type": "markdown",
   "metadata": {
    "id": "cLvJjsMF7J7Q"
   },
   "source": [
    "#### Naive Bayes"
   ]
  },
  {
   "cell_type": "code",
   "execution_count": null,
   "metadata": {
    "colab": {
     "base_uri": "https://localhost:8080/"
    },
    "executionInfo": {
     "elapsed": 12,
     "status": "ok",
     "timestamp": 1649086975507,
     "user": {
      "displayName": "Sumit Dhaundiyal",
      "userId": "04065090477156492336"
     },
     "user_tz": 240
    },
    "id": "KEOLyFOW7J7Q",
    "outputId": "56f10a08-85da-4121-ae8e-940815c8bece"
   },
   "outputs": [
    {
     "name": "stdout",
     "output_type": "stream",
     "text": [
      "-------Confusion Matrix---------\n",
      "[[  0 228]\n",
      " [  0 237]]\n",
      "\t---TP-----FP-----ROC-----MCC---\n",
      "Class 0 :  nan   nan   0.5   nan\n",
      "Class 1 :  0.51   0.49   0.5   0.02\n",
      "              precision    recall  f1-score   support\n",
      "\n",
      "           0       0.00      0.00      0.00       228\n",
      "           1       0.51      1.00      0.68       237\n",
      "\n",
      "    accuracy                           0.51       465\n",
      "   macro avg       0.25      0.50      0.34       465\n",
      "weighted avg       0.26      0.51      0.34       465\n",
      "\n"
     ]
    },
    {
     "name": "stderr",
     "output_type": "stream",
     "text": [
      "/usr/local/lib/python3.7/dist-packages/sklearn/metrics/_classification.py:1318: UndefinedMetricWarning: Precision and F-score are ill-defined and being set to 0.0 in labels with no predicted samples. Use `zero_division` parameter to control this behavior.\n",
      "  _warn_prf(average, modifier, msg_start, len(result))\n",
      "/usr/local/lib/python3.7/dist-packages/sklearn/metrics/_classification.py:1318: UndefinedMetricWarning: Precision and F-score are ill-defined and being set to 0.0 in labels with no predicted samples. Use `zero_division` parameter to control this behavior.\n",
      "  _warn_prf(average, modifier, msg_start, len(result))\n",
      "/usr/local/lib/python3.7/dist-packages/sklearn/metrics/_classification.py:1318: UndefinedMetricWarning: Precision and F-score are ill-defined and being set to 0.0 in labels with no predicted samples. Use `zero_division` parameter to control this behavior.\n",
      "  _warn_prf(average, modifier, msg_start, len(result))\n",
      "/usr/local/lib/python3.7/dist-packages/sklearn/metrics/_classification.py:1318: UndefinedMetricWarning: Precision and F-score are ill-defined and being set to 0.0 in labels with no predicted samples. Use `zero_division` parameter to control this behavior.\n",
      "  _warn_prf(average, modifier, msg_start, len(result))\n"
     ]
    }
   ],
   "source": [
    "# Naive Bayes\n",
    "\n",
    "NaiveBayesclassifier = GaussianNB()\n",
    "NaiveBayesclassifier.fit(Reduced_train_Set_X4, y_train)\n",
    "y_pred = NaiveBayesclassifier.predict(Reduced_test_Set_X4)\n",
    "precision,recall,fscore,support=score(y_test,y_pred,average='macro')\n",
    "if support==None:\n",
    "   support=0.00\n",
    "All_scores.loc[-1] = ['Naive Bayes','Reduced set 4',np.round(precision,3),np.round(recall,3),np.round(fscore,3),np.round(support,3)]  \n",
    "All_scores.index = All_scores.index + 1 \n",
    "All_scores = All_scores.sort_index()\n",
    "print(\"-------Confusion Matrix---------\")\n",
    "tn, fp, fn, tp = confusion_matrix(y_test, y_pred).ravel()\n",
    "print(confusion_matrix(y_test, y_pred))\n",
    "\n",
    "\n",
    "fpr = {}\n",
    "tpr = {}\n",
    "roc_auc={}\n",
    "thresh ={}\n",
    "n_class = 2\n",
    "for i in range(n_class):    \n",
    "    fpr[i], tpr[i], thresh[i] = sklearn.metrics.roc_curve(y_test, y_pred, pos_label=i)\n",
    "    roc_auc[i] = sklearn.metrics.auc(fpr[i], tpr[i])\n",
    "print(\"\\t---TP-----FP-----ROC-----MCC---\")\n",
    "print(\"Class 0 : \",np.round(tn/(tn+fn),2),\" \",np.round(fn/(tn+fn),2),\" \",np.round(roc_auc[0],2),\" \",np.round((tn-fn)/(tn+fn),2))    \n",
    "print(\"Class 1 : \",np.round(tp/(tp+fp),2),\" \",np.round(fp/(tp+fp),2),\" \",np.round(roc_auc[1],2),\" \",np.round((tp-fp)/(tp+fp),2)) \n",
    "print(classification_report(y_test, y_pred))   "
   ]
  },
  {
   "cell_type": "markdown",
   "metadata": {
    "id": "Zr8ah0Mr7J7R"
   },
   "source": [
    "#### Random Forest"
   ]
  },
  {
   "cell_type": "code",
   "execution_count": null,
   "metadata": {
    "colab": {
     "base_uri": "https://localhost:8080/"
    },
    "executionInfo": {
     "elapsed": 127,
     "status": "ok",
     "timestamp": 1649086975628,
     "user": {
      "displayName": "Sumit Dhaundiyal",
      "userId": "04065090477156492336"
     },
     "user_tz": 240
    },
    "id": "aq-yxPEb7J7R",
    "outputId": "7efcf3f1-dd2c-4cf6-aa5c-1b4399e6b09c"
   },
   "outputs": [
    {
     "name": "stdout",
     "output_type": "stream",
     "text": [
      "-------Confusion Matrix---------\n",
      "[[224   4]\n",
      " [  6 231]]\n",
      "\t---TP-----FP-----ROC-----MCC---\n",
      "Class 0 :  0.97   0.03   0.02   0.95\n",
      "Class 1 :  0.98   0.02   0.98   0.97\n",
      "              precision    recall  f1-score   support\n",
      "\n",
      "           0       0.97      0.98      0.98       228\n",
      "           1       0.98      0.97      0.98       237\n",
      "\n",
      "    accuracy                           0.98       465\n",
      "   macro avg       0.98      0.98      0.98       465\n",
      "weighted avg       0.98      0.98      0.98       465\n",
      "\n"
     ]
    }
   ],
   "source": [
    "# Random Forest\n",
    "\n",
    "RandomForestclassifier = RandomForestClassifier(max_depth=8, random_state=0)\n",
    "RandomForestclassifier.fit(Reduced_train_Set_X4, y_train)\n",
    "y_pred = RandomForestclassifier.predict(Reduced_test_Set_X4)\n",
    "precision,recall,fscore,support=score(y_test,y_pred,average='macro')\n",
    "if support==None:\n",
    "   support=0.00\n",
    "All_scores.loc[-1] = ['Random Forest','Reduced set 4',np.round(precision,3),np.round(recall,3),np.round(fscore,3),np.round(support,3)]  \n",
    "All_scores.index = All_scores.index + 1 \n",
    "All_scores = All_scores.sort_index()\n",
    "print(\"-------Confusion Matrix---------\")\n",
    "tn, fp, fn, tp = confusion_matrix(y_test, y_pred).ravel()\n",
    "print(confusion_matrix(y_test, y_pred))\n",
    "\n",
    "fpr = {}\n",
    "tpr = {}\n",
    "roc_auc={}\n",
    "thresh ={}\n",
    "n_class = 2\n",
    "for i in range(n_class):    \n",
    "    fpr[i], tpr[i], thresh[i] = sklearn.metrics.roc_curve(y_test, y_pred, pos_label=i)\n",
    "    roc_auc[i] = sklearn.metrics.auc(fpr[i], tpr[i])\n",
    "print(\"\\t---TP-----FP-----ROC-----MCC---\")\n",
    "print(\"Class 0 : \",np.round(tn/(tn+fn),2),\" \",np.round(fn/(tn+fn),2),\" \",np.round(roc_auc[0],2),\" \",np.round((tn-fn)/(tn+fn),2))    \n",
    "print(\"Class 1 : \",np.round(tp/(tp+fp),2),\" \",np.round(fp/(tp+fp),2),\" \",np.round(roc_auc[1],2),\" \",np.round((tp-fp)/(tp+fp),2))  \n",
    "print(classification_report(y_test, y_pred))   "
   ]
  },
  {
   "cell_type": "markdown",
   "metadata": {
    "id": "WH4t4rpe7J7R"
   },
   "source": [
    "#### Neural network"
   ]
  },
  {
   "cell_type": "code",
   "execution_count": null,
   "metadata": {
    "colab": {
     "base_uri": "https://localhost:8080/"
    },
    "executionInfo": {
     "elapsed": 3572,
     "status": "ok",
     "timestamp": 1649086979198,
     "user": {
      "displayName": "Sumit Dhaundiyal",
      "userId": "04065090477156492336"
     },
     "user_tz": 240
    },
    "id": "mKawvu_q7J7R",
    "outputId": "e9e1a72c-e17c-4dac-ee35-390ff7cfe034"
   },
   "outputs": [
    {
     "name": "stdout",
     "output_type": "stream",
     "text": [
      "-------Confusion Matrix---------\n",
      "[[222   6]\n",
      " [  9 228]]\n",
      "\t---TP-----FP-----ROC-----MCC---\n",
      "Class 0 :  0.96   0.04   0.03   0.92\n",
      "Class 1 :  0.97   0.03   0.97   0.95\n",
      "              precision    recall  f1-score   support\n",
      "\n",
      "           0       0.96      0.97      0.97       228\n",
      "           1       0.97      0.96      0.97       237\n",
      "\n",
      "    accuracy                           0.97       465\n",
      "   macro avg       0.97      0.97      0.97       465\n",
      "weighted avg       0.97      0.97      0.97       465\n",
      "\n"
     ]
    },
    {
     "name": "stderr",
     "output_type": "stream",
     "text": [
      "/usr/local/lib/python3.7/dist-packages/sklearn/neural_network/_multilayer_perceptron.py:696: ConvergenceWarning: Stochastic Optimizer: Maximum iterations (500) reached and the optimization hasn't converged yet.\n",
      "  ConvergenceWarning,\n"
     ]
    }
   ],
   "source": [
    "# Neural network\n",
    "\n",
    "NeuralNetworkclassifier = MLPClassifier(max_iter=500, random_state=7)\n",
    "NeuralNetworkclassifier.fit(Reduced_train_Set_X4, y_train)\n",
    "y_pred = NeuralNetworkclassifier.predict(Reduced_test_Set_X4)\n",
    "precision,recall,fscore,support=score(y_test,y_pred,average='macro')\n",
    "if support==None:\n",
    "   support=0.00\n",
    "All_scores.loc[-1] = ['Neural network','Reduced set 4',np.round(precision,3),np.round(recall,3),np.round(fscore,3),np.round(support,3)]  \n",
    "All_scores.index = All_scores.index + 1 \n",
    "All_scores = All_scores.sort_index()\n",
    "print(\"-------Confusion Matrix---------\")\n",
    "tn, fp, fn, tp = confusion_matrix(y_test, y_pred).ravel()\n",
    "print(confusion_matrix(y_test, y_pred))\n",
    "\n",
    "fpr = {}\n",
    "tpr = {}\n",
    "roc_auc={}\n",
    "thresh ={}\n",
    "n_class = 2\n",
    "for i in range(n_class):    \n",
    "    fpr[i], tpr[i], thresh[i] = sklearn.metrics.roc_curve(y_test, y_pred, pos_label=i)\n",
    "    roc_auc[i] = sklearn.metrics.auc(fpr[i], tpr[i])\n",
    "print(\"\\t---TP-----FP-----ROC-----MCC---\")\n",
    "print(\"Class 0 : \",np.round(tn/(tn+fn),2),\" \",np.round(fn/(tn+fn),2),\" \",np.round(roc_auc[0],2),\" \",np.round((tn-fn)/(tn+fn),2))    \n",
    "print(\"Class 1 : \",np.round(tp/(tp+fp),2),\" \",np.round(fp/(tp+fp),2),\" \",np.round(roc_auc[1],2),\" \",np.round((tp-fp)/(tp+fp),2))\n",
    "print(classification_report(y_test, y_pred))   "
   ]
  },
  {
   "cell_type": "markdown",
   "metadata": {
    "id": "3ugg3u3y7aw0"
   },
   "source": [
    "## Classification models for reduced Training set 5"
   ]
  },
  {
   "cell_type": "markdown",
   "metadata": {
    "id": "eiA3MLJS7aw1"
   },
   "source": [
    "#### K-Nearest Neighbors"
   ]
  },
  {
   "cell_type": "code",
   "execution_count": null,
   "metadata": {
    "colab": {
     "base_uri": "https://localhost:8080/"
    },
    "executionInfo": {
     "elapsed": 21,
     "status": "ok",
     "timestamp": 1649086979198,
     "user": {
      "displayName": "Sumit Dhaundiyal",
      "userId": "04065090477156492336"
     },
     "user_tz": 240
    },
    "id": "XiC6aa5I7aw1",
    "outputId": "9c707358-0f24-44b8-c0b7-eb5ad03a926a"
   },
   "outputs": [
    {
     "name": "stdout",
     "output_type": "stream",
     "text": [
      "-------Confusion Matrix---------\n",
      "[[227   1]\n",
      " [ 10 227]]\n",
      "\t---TP-----FP-----ROC-----MCC---\n",
      "Class 0 :  0.96   0.04   0.02   0.92\n",
      "Class 1 :  1.0   0.0   0.98   0.99\n",
      "              precision    recall  f1-score   support\n",
      "\n",
      "           0       0.96      1.00      0.98       228\n",
      "           1       1.00      0.96      0.98       237\n",
      "\n",
      "    accuracy                           0.98       465\n",
      "   macro avg       0.98      0.98      0.98       465\n",
      "weighted avg       0.98      0.98      0.98       465\n",
      "\n"
     ]
    }
   ],
   "source": [
    "# KNN\n",
    "\n",
    "KNNclassifier = KNeighborsClassifier(n_neighbors=5)\n",
    "KNNclassifier.fit(Reduced_train_Set_X5, y_train)\n",
    "y_pred = KNNclassifier.predict(Reduced_test_Set_X5)\n",
    "precision,recall,fscore,support=score(y_test,y_pred,average='macro')\n",
    "if support==None:\n",
    "   support=0.00\n",
    "All_scores.loc[-1] = ['K-Nearest Neighbors','Reduced set 5',np.round(precision,3),np.round(recall,3),np.round(fscore,3),np.round(support,3)]  \n",
    "All_scores.index = All_scores.index + 1 \n",
    "All_scores = All_scores.sort_index()\n",
    "print(\"-------Confusion Matrix---------\")\n",
    "tn, fp, fn, tp = confusion_matrix(y_test, y_pred).ravel()\n",
    "print(confusion_matrix(y_test, y_pred))\n",
    "\n",
    "fpr = {}\n",
    "tpr = {}\n",
    "roc_auc={}\n",
    "thresh ={}\n",
    "n_class = 2\n",
    "for i in range(n_class):    \n",
    "    fpr[i], tpr[i], thresh[i] = sklearn.metrics.roc_curve(y_test, y_pred, pos_label=i)\n",
    "    roc_auc[i] = sklearn.metrics.auc(fpr[i], tpr[i])\n",
    "print(\"\\t---TP-----FP-----ROC-----MCC---\")\n",
    "print(\"Class 0 : \",np.round(tn/(tn+fn),2),\" \",np.round(fn/(tn+fn),2),\" \",np.round(roc_auc[0],2),\" \",np.round((tn-fn)/(tn+fn),2))    \n",
    "print(\"Class 1 : \",np.round(tp/(tp+fp),2),\" \",np.round(fp/(tp+fp),2),\" \",np.round(roc_auc[1],2),\" \",np.round((tp-fp)/(tp+fp),2))  \n",
    "print(classification_report(y_test, y_pred))   "
   ]
  },
  {
   "cell_type": "markdown",
   "metadata": {
    "id": "mcV4mM8Y7aw1"
   },
   "source": [
    "#### Decision Tree"
   ]
  },
  {
   "cell_type": "code",
   "execution_count": null,
   "metadata": {
    "colab": {
     "base_uri": "https://localhost:8080/"
    },
    "executionInfo": {
     "elapsed": 16,
     "status": "ok",
     "timestamp": 1649086979199,
     "user": {
      "displayName": "Sumit Dhaundiyal",
      "userId": "04065090477156492336"
     },
     "user_tz": 240
    },
    "id": "jpm7oZZx7aw2",
    "outputId": "ee9cde56-702c-4440-e89d-1c991d8b3681"
   },
   "outputs": [
    {
     "name": "stdout",
     "output_type": "stream",
     "text": [
      "-------Confusion Matrix---------\n",
      "[[221   7]\n",
      " [  5 232]]\n",
      "\t---TP-----FP-----ROC-----MCC---\n",
      "Class 0 :  0.98   0.02   0.03   0.96\n",
      "Class 1 :  0.97   0.03   0.97   0.94\n",
      "              precision    recall  f1-score   support\n",
      "\n",
      "           0       0.98      0.97      0.97       228\n",
      "           1       0.97      0.98      0.97       237\n",
      "\n",
      "    accuracy                           0.97       465\n",
      "   macro avg       0.97      0.97      0.97       465\n",
      "weighted avg       0.97      0.97      0.97       465\n",
      "\n"
     ]
    }
   ],
   "source": [
    "# Decision Tree\n",
    "\n",
    "DecisionTreeclassifier = tree.DecisionTreeRegressor()\n",
    "DecisionTreeclassifier.fit(Reduced_train_Set_X5, y_train)\n",
    "y_pred = DecisionTreeclassifier.predict(Reduced_test_Set_X5)\n",
    "precision,recall,fscore,support=score(y_test,y_pred,average='macro')\n",
    "if support==None:\n",
    "   support=0.00\n",
    "All_scores.loc[-1] = ['Decision Tree','Reduced set 5',np.round(precision,3),np.round(recall,3),np.round(fscore,3),np.round(support,3)]  \n",
    "All_scores.index = All_scores.index + 1 \n",
    "All_scores = All_scores.sort_index()\n",
    "print(\"-------Confusion Matrix---------\")\n",
    "tn, fp, fn, tp = confusion_matrix(y_test, y_pred).ravel()\n",
    "print(confusion_matrix(y_test, y_pred))\n",
    "\n",
    "fpr = {}\n",
    "tpr = {}\n",
    "roc_auc={}\n",
    "thresh ={}\n",
    "n_class = 2\n",
    "for i in range(n_class):    \n",
    "    fpr[i], tpr[i], thresh[i] = sklearn.metrics.roc_curve(y_test, y_pred, pos_label=i)\n",
    "    roc_auc[i] = sklearn.metrics.auc(fpr[i], tpr[i])\n",
    "print(\"\\t---TP-----FP-----ROC-----MCC---\")\n",
    "print(\"Class 0 : \",np.round(tn/(tn+fn),2),\" \",np.round(fn/(tn+fn),2),\" \",np.round(roc_auc[0],2),\" \",np.round((tn-fn)/(tn+fn),2))    \n",
    "print(\"Class 1 : \",np.round(tp/(tp+fp),2),\" \",np.round(fp/(tp+fp),2),\" \",np.round(roc_auc[1],2),\" \",np.round((tp-fp)/(tp+fp),2))  \n",
    "print(classification_report(y_test, y_pred))   "
   ]
  },
  {
   "cell_type": "markdown",
   "metadata": {
    "id": "xVdOd4Fr7aw2"
   },
   "source": [
    "#### Naive Bayes"
   ]
  },
  {
   "cell_type": "code",
   "execution_count": null,
   "metadata": {
    "colab": {
     "base_uri": "https://localhost:8080/"
    },
    "executionInfo": {
     "elapsed": 12,
     "status": "ok",
     "timestamp": 1649086979200,
     "user": {
      "displayName": "Sumit Dhaundiyal",
      "userId": "04065090477156492336"
     },
     "user_tz": 240
    },
    "id": "BaecNzMa7aw2",
    "outputId": "b71a763d-cf6c-42b2-e552-0399a4867df9"
   },
   "outputs": [
    {
     "name": "stdout",
     "output_type": "stream",
     "text": [
      "-------Confusion Matrix---------\n",
      "[[  0 228]\n",
      " [  0 237]]\n",
      "\t---TP-----FP-----ROC-----MCC---\n",
      "Class 0 :  nan   nan   0.5   nan\n",
      "Class 1 :  0.51   0.49   0.5   0.02\n",
      "              precision    recall  f1-score   support\n",
      "\n",
      "           0       0.00      0.00      0.00       228\n",
      "           1       0.51      1.00      0.68       237\n",
      "\n",
      "    accuracy                           0.51       465\n",
      "   macro avg       0.25      0.50      0.34       465\n",
      "weighted avg       0.26      0.51      0.34       465\n",
      "\n"
     ]
    },
    {
     "name": "stderr",
     "output_type": "stream",
     "text": [
      "/usr/local/lib/python3.7/dist-packages/sklearn/metrics/_classification.py:1318: UndefinedMetricWarning: Precision and F-score are ill-defined and being set to 0.0 in labels with no predicted samples. Use `zero_division` parameter to control this behavior.\n",
      "  _warn_prf(average, modifier, msg_start, len(result))\n",
      "/usr/local/lib/python3.7/dist-packages/sklearn/metrics/_classification.py:1318: UndefinedMetricWarning: Precision and F-score are ill-defined and being set to 0.0 in labels with no predicted samples. Use `zero_division` parameter to control this behavior.\n",
      "  _warn_prf(average, modifier, msg_start, len(result))\n",
      "/usr/local/lib/python3.7/dist-packages/sklearn/metrics/_classification.py:1318: UndefinedMetricWarning: Precision and F-score are ill-defined and being set to 0.0 in labels with no predicted samples. Use `zero_division` parameter to control this behavior.\n",
      "  _warn_prf(average, modifier, msg_start, len(result))\n",
      "/usr/local/lib/python3.7/dist-packages/sklearn/metrics/_classification.py:1318: UndefinedMetricWarning: Precision and F-score are ill-defined and being set to 0.0 in labels with no predicted samples. Use `zero_division` parameter to control this behavior.\n",
      "  _warn_prf(average, modifier, msg_start, len(result))\n"
     ]
    }
   ],
   "source": [
    "# Naive Bayes\n",
    "\n",
    "NaiveBayesclassifier = GaussianNB()\n",
    "NaiveBayesclassifier.fit(Reduced_train_Set_X5, y_train)\n",
    "y_pred = NaiveBayesclassifier.predict(Reduced_test_Set_X5)\n",
    "precision,recall,fscore,support=score(y_test,y_pred,average='macro')\n",
    "if support==None:\n",
    "   support=0.00\n",
    "All_scores.loc[-1] = ['Naive Bayes','Reduced set 5',np.round(precision,3),np.round(recall,3),np.round(fscore,3),np.round(support,3)]  \n",
    "All_scores.index = All_scores.index + 1 \n",
    "All_scores = All_scores.sort_index()\n",
    "print(\"-------Confusion Matrix---------\")\n",
    "tn, fp, fn, tp = confusion_matrix(y_test, y_pred).ravel()\n",
    "print(confusion_matrix(y_test, y_pred))\n",
    "\n",
    "fpr = {}\n",
    "tpr = {}\n",
    "roc_auc={}\n",
    "thresh ={}\n",
    "n_class = 2\n",
    "for i in range(n_class):    \n",
    "    fpr[i], tpr[i], thresh[i] = sklearn.metrics.roc_curve(y_test, y_pred, pos_label=i)\n",
    "    roc_auc[i] = sklearn.metrics.auc(fpr[i], tpr[i])\n",
    "print(\"\\t---TP-----FP-----ROC-----MCC---\")\n",
    "print(\"Class 0 : \",np.round(tn/(tn+fn),2),\" \",np.round(fn/(tn+fn),2),\" \",np.round(roc_auc[0],2),\" \",np.round((tn-fn)/(tn+fn),2))    \n",
    "print(\"Class 1 : \",np.round(tp/(tp+fp),2),\" \",np.round(fp/(tp+fp),2),\" \",np.round(roc_auc[1],2),\" \",np.round((tp-fp)/(tp+fp),2))  \n",
    "print(classification_report(y_test, y_pred))   "
   ]
  },
  {
   "cell_type": "markdown",
   "metadata": {
    "id": "Uo_cWVMP7aw2"
   },
   "source": [
    "#### Random Forest"
   ]
  },
  {
   "cell_type": "code",
   "execution_count": null,
   "metadata": {
    "colab": {
     "base_uri": "https://localhost:8080/"
    },
    "executionInfo": {
     "elapsed": 148,
     "status": "ok",
     "timestamp": 1649086979340,
     "user": {
      "displayName": "Sumit Dhaundiyal",
      "userId": "04065090477156492336"
     },
     "user_tz": 240
    },
    "id": "5oTJw6Yo7aw2",
    "outputId": "2e19284a-f75e-4303-fe66-7aefe3aad560"
   },
   "outputs": [
    {
     "name": "stdout",
     "output_type": "stream",
     "text": [
      "-------Confusion Matrix---------\n",
      "[[225   3]\n",
      " [  7 230]]\n",
      "\t---TP-----FP-----ROC-----MCC---\n",
      "Class 0 :  0.97   0.03   0.02   0.94\n",
      "Class 1 :  0.99   0.01   0.98   0.97\n",
      "              precision    recall  f1-score   support\n",
      "\n",
      "           0       0.97      0.99      0.98       228\n",
      "           1       0.99      0.97      0.98       237\n",
      "\n",
      "    accuracy                           0.98       465\n",
      "   macro avg       0.98      0.98      0.98       465\n",
      "weighted avg       0.98      0.98      0.98       465\n",
      "\n"
     ]
    }
   ],
   "source": [
    "# Random Forest\n",
    "\n",
    "RandomForestclassifier = RandomForestClassifier(max_depth=8, random_state=0)\n",
    "RandomForestclassifier.fit(Reduced_train_Set_X5, y_train)\n",
    "y_pred = RandomForestclassifier.predict(Reduced_test_Set_X5)\n",
    "precision,recall,fscore,support=score(y_test,y_pred,average='macro')\n",
    "if support==None:\n",
    "   support=0.00\n",
    "All_scores.loc[-1] = ['Random Forest','Reduced set 5',np.round(precision,3),np.round(recall,3),np.round(fscore,3),np.round(support,3)]  \n",
    "All_scores.index = All_scores.index + 1 \n",
    "All_scores = All_scores.sort_index()\n",
    "print(\"-------Confusion Matrix---------\")\n",
    "tn, fp, fn, tp = confusion_matrix(y_test, y_pred).ravel()\n",
    "print(confusion_matrix(y_test, y_pred))\n",
    "\n",
    "fpr = {}\n",
    "tpr = {}\n",
    "roc_auc={}\n",
    "thresh ={}\n",
    "n_class = 2\n",
    "for i in range(n_class):    \n",
    "    fpr[i], tpr[i], thresh[i] = sklearn.metrics.roc_curve(y_test, y_pred, pos_label=i)\n",
    "    roc_auc[i] = sklearn.metrics.auc(fpr[i], tpr[i])\n",
    "print(\"\\t---TP-----FP-----ROC-----MCC---\")\n",
    "print(\"Class 0 : \",np.round(tn/(tn+fn),2),\" \",np.round(fn/(tn+fn),2),\" \",np.round(roc_auc[0],2),\" \",np.round((tn-fn)/(tn+fn),2))    \n",
    "print(\"Class 1 : \",np.round(tp/(tp+fp),2),\" \",np.round(fp/(tp+fp),2),\" \",np.round(roc_auc[1],2),\" \",np.round((tp-fp)/(tp+fp),2)) \n",
    "print(classification_report(y_test, y_pred))   "
   ]
  },
  {
   "cell_type": "markdown",
   "metadata": {
    "id": "MWxkzgR37aw2"
   },
   "source": [
    "#### Neural network"
   ]
  },
  {
   "cell_type": "code",
   "execution_count": null,
   "metadata": {
    "colab": {
     "base_uri": "https://localhost:8080/"
    },
    "executionInfo": {
     "elapsed": 2523,
     "status": "ok",
     "timestamp": 1649086981860,
     "user": {
      "displayName": "Sumit Dhaundiyal",
      "userId": "04065090477156492336"
     },
     "user_tz": 240
    },
    "id": "3RQ9tO_a7aw2",
    "outputId": "9a1a4171-c5f0-44a8-f457-475345e05b16"
   },
   "outputs": [
    {
     "name": "stdout",
     "output_type": "stream",
     "text": [
      "-------Confusion Matrix---------\n",
      "[[224   4]\n",
      " [  5 232]]\n",
      "\t---TP-----FP-----ROC-----MCC---\n",
      "Class 0 :  0.98   0.02   0.02   0.96\n",
      "Class 1 :  0.98   0.02   0.98   0.97\n",
      "              precision    recall  f1-score   support\n",
      "\n",
      "           0       0.98      0.98      0.98       228\n",
      "           1       0.98      0.98      0.98       237\n",
      "\n",
      "    accuracy                           0.98       465\n",
      "   macro avg       0.98      0.98      0.98       465\n",
      "weighted avg       0.98      0.98      0.98       465\n",
      "\n"
     ]
    }
   ],
   "source": [
    "# Neural network\n",
    "\n",
    "NeuralNetworkclassifier = MLPClassifier(max_iter=500, random_state=7)\n",
    "NeuralNetworkclassifier.fit(Reduced_train_Set_X5, y_train)\n",
    "y_pred = NeuralNetworkclassifier.predict(Reduced_test_Set_X5)\n",
    "precision,recall,fscore,support=score(y_test,y_pred,average='macro')\n",
    "if support==None:\n",
    "   support=0.00\n",
    "All_scores.loc[-1] = ['Neural network','Reduced set 5',np.round(precision,3),np.round(recall,3),np.round(fscore,3),np.round(support,3)]  \n",
    "All_scores.index = All_scores.index + 1 \n",
    "All_scores = All_scores.sort_index()\n",
    "print(\"-------Confusion Matrix---------\")\n",
    "tn, fp, fn, tp = confusion_matrix(y_test, y_pred).ravel()\n",
    "print(confusion_matrix(y_test, y_pred))\n",
    "\n",
    "fpr = {}\n",
    "tpr = {}\n",
    "roc_auc={}\n",
    "thresh ={}\n",
    "n_class = 2\n",
    "for i in range(n_class):    \n",
    "    fpr[i], tpr[i], thresh[i] = sklearn.metrics.roc_curve(y_test, y_pred, pos_label=i)\n",
    "    roc_auc[i] = sklearn.metrics.auc(fpr[i], tpr[i])\n",
    "print(\"\\t---TP-----FP-----ROC-----MCC---\")\n",
    "print(\"Class 0 : \",np.round(tn/(tn+fn),2),\" \",np.round(fn/(tn+fn),2),\" \",np.round(roc_auc[0],2),\" \",np.round((tn-fn)/(tn+fn),2))    \n",
    "print(\"Class 1 : \",np.round(tp/(tp+fp),2),\" \",np.round(fp/(tp+fp),2),\" \",np.round(roc_auc[1],2),\" \",np.round((tp-fp)/(tp+fp),2))  \n",
    "print(classification_report(y_test, y_pred))   "
   ]
  },
  {
   "cell_type": "code",
   "execution_count": null,
   "metadata": {
    "colab": {
     "base_uri": "https://localhost:8080/",
     "height": 381
    },
    "executionInfo": {
     "elapsed": 455,
     "status": "ok",
     "timestamp": 1649086982306,
     "user": {
      "displayName": "Sumit Dhaundiyal",
      "userId": "04065090477156492336"
     },
     "user_tz": 240
    },
    "id": "TAdtmr9v-R2m",
    "outputId": "683df696-e859-435f-94cf-4149ed34aefa"
   },
   "outputs": [
    {
     "data": {
      "image/png": "[encoded data removed]",
      "text/plain": [
       "<Figure size 838.475x360 with 1 Axes>"
      ]
     },
     "metadata": {},
     "output_type": "display_data"
    }
   ],
   "source": [
    "sns.catplot(x='Algorithm', y='precision', data=All_scores, hue='Reduced set', kind=\"swarm\",  height=5, aspect=2)\n",
    "plt.title('Accuracy Scores of classification algorithms')\n",
    "plt.show()"
   ]
  },
  {
   "cell_type": "code",
   "execution_count": null,
   "metadata": {
    "colab": {
     "base_uri": "https://localhost:8080/",
     "height": 381
    },
    "executionInfo": {
     "elapsed": 701,
     "status": "ok",
     "timestamp": 1649086983005,
     "user": {
      "displayName": "Sumit Dhaundiyal",
      "userId": "04065090477156492336"
     },
     "user_tz": 240
    },
    "id": "4pOGVeP_An6H",
    "outputId": "e9217115-9899-47cf-e01a-e4df7fd040f6"
   },
   "outputs": [
    {
     "data": {
      "image/png": "[encoded data removed]",
      "text/plain": [
       "<Figure size 838.475x360 with 1 Axes>"
      ]
     },
     "metadata": {},
     "output_type": "display_data"
    }
   ],
   "source": [
    "sns.catplot(x='Algorithm', y='fscore', data=All_scores, hue='Reduced set', kind=\"swarm\",  height=5, aspect=2)\n",
    "plt.title('F1 Scores of classification algorithms')\n",
    "plt.show()"
   ]
  },
  {
   "cell_type": "code",
   "execution_count": null,
   "metadata": {
    "colab": {
     "base_uri": "https://localhost:8080/",
     "height": 381
    },
    "executionInfo": {
     "elapsed": 702,
     "status": "ok",
     "timestamp": 1649086983702,
     "user": {
      "displayName": "Sumit Dhaundiyal",
      "userId": "04065090477156492336"
     },
     "user_tz": 240
    },
    "id": "kmFXrxXl_mMW",
    "outputId": "5bc46690-c92a-41b8-e8ac-ffd6260a8824"
   },
   "outputs": [
    {
     "data": {
      "image/png": "[encoded data removed]",
      "text/plain": [
       "<Figure size 838.475x360 with 1 Axes>"
      ]
     },
     "metadata": {},
     "output_type": "display_data"
    }
   ],
   "source": [
    "sns.catplot(x='Algorithm', y='recall', data=All_scores, hue='Reduced set', kind=\"swarm\",  height=5, aspect=2)\n",
    "plt.title('Recall of classification algorithms')\n",
    "plt.show()"
   ]
  }
 ],
 "metadata": {
  "colab": {
   "collapsed_sections": [],
   "name": "CS699_Term_Project.ipynb",
   "provenance": []
  },
  "kernelspec": {
   "display_name": "Python 3",
   "language": "python",
   "name": "python3"
  },
  "language_info": {
   "codemirror_mode": {
    "name": "ipython",
    "version": 3
   },
   "file_extension": ".py",
   "mimetype": "text/x-python",
   "name": "python",
   "nbconvert_exporter": "python",
   "pygments_lexer": "ipython3",
   "version": "3.8.8"
  }
 },
 "nbformat": 4,
 "nbformat_minor": 1
}
